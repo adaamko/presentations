{
 "cells": [
  {
   "cell_type": "markdown",
   "id": "5021fb9c",
   "metadata": {
    "slideshow": {
     "slide_type": "slide"
    }
   },
   "source": [
    "# Semantic Hypergraphs\n",
    "## The graphbrain library\n",
    "\n",
    "### Adam Kovacs, TUW-NLP seminar, 4/7/2022"
   ]
  },
  {
   "cell_type": "code",
   "execution_count": null,
   "id": "887b4f52",
   "metadata": {
    "slideshow": {
     "slide_type": "skip"
    }
   },
   "outputs": [],
   "source": [
    "from IPython.display import IFrame\n",
    "\n",
    "from graphbrain import *\n",
    "from graphbrain.notebook import *\n",
    "from graphbrain.parsers import *"
   ]
  },
  {
   "cell_type": "markdown",
   "id": "ebded708",
   "metadata": {
    "slideshow": {
     "slide_type": "slide"
    }
   },
   "source": [
    "# Introduction"
   ]
  },
  {
   "cell_type": "markdown",
   "id": "d50d0eb3",
   "metadata": {
    "slideshow": {
     "slide_type": "subslide"
    }
   },
   "source": [
    "- A __Semantic Hypergraph__ (SH) model\n",
    "- __Graphbrain__ combines symbolic and ML approaches\n",
    "- The work was performed in the context of a computational social science (CSS) research team\n",
    "- It is a formal language representation\n",
    "- They define a parser with \n",
    " - modern NLP ML-based building blocks \n",
    " - and random forest classifier \n",
    " - simple search tree to parse NL to SH"
   ]
  },
  {
   "cell_type": "markdown",
   "id": "b6f53be1",
   "metadata": {
    "slideshow": {
     "slide_type": "subslide"
    }
   },
   "source": [
    "__Graphbrain also__ defines: \n",
    "- __pattern language__ representable in SH itself\n",
    "- a __process__ to discover knowledge inference rules. \n",
    "- They also illustrate the efficiency on variety of tasks\n",
    "    - conjunction decomposition\n",
    "    - open information extraction,\n",
    "    - concept taxonomy inference and co-reference resolution, and an applied example of claim and conflict analysis in a news corpus.\n"
   ]
  },
  {
   "cell_type": "markdown",
   "id": "33baff43",
   "metadata": {
    "slideshow": {
     "slide_type": "subslide"
    }
   },
   "source": [
    "- Traditional rule-based NLP approaches:\n",
    "    - rules written by hand\n",
    "    - but transparent, they follow an __open__ principle\n",
    "    - but NLP tasks are diverse, they are hard to cover with rules: __strict__ principle\n",
    "- ML approaches:\n",
    "    - less transparent, they are __opaque__\n",
    "    - but ML techniques are __adaptive__, \n",
    "- Double dichotomy: open/opaque – strict/adaptive\n",
    "- Modern NLP approaches usually fall into the __opaque-adaptive__ category\n",
    "- __SH__ aims to take steps into the __open-adaptive__ category"
   ]
  },
  {
   "cell_type": "markdown",
   "id": "dbcbb2f1",
   "metadata": {
    "slideshow": {
     "slide_type": "slide"
    }
   },
   "source": [
    "# Structure of SH"
   ]
  },
  {
   "cell_type": "markdown",
   "id": "e9175454",
   "metadata": {
    "slideshow": {
     "slide_type": "subslide"
    }
   },
   "source": [
    "- The SH model is an ordered, recursive hypegraph\n",
    "- A graph _G = (V,E)_ is based on a vertex set _V_ and an edge set _E ⊂ V × V_ describing dyadic connections\n",
    "- A hypergraph _H = (V,E)_ where V is again a vertex set yet E is a set of hyperedges (ei)i∈1..M connecting an arbitrary number of vertices\n",
    "- In _SH_ hyperedges may be ordered and recursive. \n",
    "    - Ordering: vertex position in the hyperedge is relevant. \n",
    "    - Recursivity: hyperedges can participate as vertices in other hyperedges. "
   ]
  },
  {
   "cell_type": "markdown",
   "id": "69c6189c",
   "metadata": {
    "slideshow": {
     "slide_type": "subslide"
    }
   },
   "source": [
    "_SH_ completeness is assured by its dependency on UD graphs.\n",
    "\n",
    "Similarities:\n",
    "- __AMR__: based on PropBank verbal propositions and their arguments\n",
    "    - goal is to purely abstract meaning\n",
    "    - end-to-end parsers\n",
    "    - requires extensive construction of training data\n",
    "    - no pattern matching capabilities\n",
    "- __4lang__: also based on UD graphs\n",
    "    - completely independent of training data\n",
    "    - rule-based built on UD\n",
    "    - IE capabilities\n",
    "    - open-strict"
   ]
  },
  {
   "cell_type": "markdown",
   "id": "1f5d86b4",
   "metadata": {
    "slideshow": {
     "slide_type": "subslide"
    }
   },
   "source": [
    "- A set of nodes: \n",
    "    - (berlin) - noun\n",
    "    - (is) - verb\n",
    "    - (very) - adverb\n",
    "    - (nice) - adjective\n",
    "- We can build (is berlin nice) and (very nice) edges, or recursively:\n",
    "    - (is berlin (very nice))\n",
    "    "
   ]
  },
  {
   "cell_type": "markdown",
   "id": "5e2bb89c",
   "metadata": {
    "slideshow": {
     "slide_type": "subslide"
    }
   },
   "source": [
    "_Einstein developed the Theory of Relativity._\n",
    "![](amr.jpg)"
   ]
  },
  {
   "cell_type": "markdown",
   "id": "917e4ef3",
   "metadata": {
    "slideshow": {
     "slide_type": "subslide"
    }
   },
   "source": [
    "![](graphbrain.PNG)"
   ]
  },
  {
   "cell_type": "markdown",
   "id": "3543af7b",
   "metadata": {
    "slideshow": {
     "slide_type": "subslide"
    }
   },
   "source": [
    "## Syntax"
   ]
  },
  {
   "cell_type": "markdown",
   "id": "18564d07",
   "metadata": {
    "slideshow": {
     "slide_type": "subslide"
    }
   },
   "source": [
    "Hyperedges have _types_, e.g.:\n",
    "\n",
    "- (berlin) - concept\n",
    "- (is) - predicate\n",
    "- (is berlin nice) - relationship"
   ]
  },
  {
   "cell_type": "markdown",
   "id": "abe62493",
   "metadata": {
    "slideshow": {
     "slide_type": "fragment"
    }
   },
   "source": [
    "- Predicates belongs to a larger type called _connectors_\n",
    "- The first element of a non-atomic hyperedge must be a _connector_ (e.g. _berlin_ is an atomic edge)\n",
    "- It is recursive"
   ]
  },
  {
   "cell_type": "markdown",
   "id": "acbaa30d",
   "metadata": {
    "slideshow": {
     "slide_type": "subslide"
    }
   },
   "source": [
    "_(is berlin (very nice))_\n",
    "\n",
    "- _is_ is the connector, _(berlin)_, _(very nice)_ are its arguments\n",
    "- in _(very nice)_, _very_ is the connector, _nice_ is its argument"
   ]
  },
  {
   "cell_type": "markdown",
   "id": "1cf550d3",
   "metadata": {
    "slideshow": {
     "slide_type": "subslide"
    }
   },
   "source": [
    "### Types"
   ]
  },
  {
   "cell_type": "markdown",
   "id": "372b8584",
   "metadata": {
    "slideshow": {
     "slide_type": "subslide"
    }
   },
   "source": [
    "- In all, _SH_ contains 8 types\n",
    " - Types of atoms\n",
    " - Types of more complex hyperedges\n",
    "- Hyperedge types are inferable from connectors and arguments"
   ]
  },
  {
   "cell_type": "markdown",
   "id": "8c55abae",
   "metadata": {
    "slideshow": {
     "slide_type": "subslide"
    }
   },
   "source": [
    "### Atomic concepts\n",
    "\n",
    "- _Concepts_ are the most fundamental role\n",
    "- Can be expressed with a single word (e.g. \"dog\")\n",
    "- The type of an atom is expressed after the label (e.g. \"dog/C\")\n",
    "- Expressing the type in the string is important for the parser"
   ]
  },
  {
   "cell_type": "markdown",
   "id": "a2c9c7f4",
   "metadata": {
    "slideshow": {
     "slide_type": "subslide"
    }
   },
   "source": [
    "### Connectors\n",
    "\n",
    " - The second (and last) role an atoms can play are _connectors_\n",
    " - Connectors have 5 types.\n",
    " \n",
    " __Predicate__ (code is \"P\") used to define relations, mostly statements:\n",
    " - (__is/P__ berlin/C nice/C)\n",
    " - Gives meaning to the relation"
   ]
  },
  {
   "cell_type": "markdown",
   "id": "b1511e3f",
   "metadata": {
    "slideshow": {
     "slide_type": "subslide"
    }
   },
   "source": [
    "__Modifier (M)__  applies to one hyperedge and defines a new hyperedge of the same type.\n",
    "\n",
    "- \"modifies things\", can be applied to concepts, predicates or other modifiers\n",
    "- e.g. (__nice/M__ shoes/C)\n",
    "- note that _nice_ can be both a _concept_ or a _modifier_ in different \n",
    "- To predicates:\n",
    "    - ((__not/M__ is/P) berlin/C nice/C)\n",
    "- To other modifiers:\n",
    "    - ((__very/M__ nice/M) shoes/C)"
   ]
  },
  {
   "cell_type": "markdown",
   "id": "ec381955",
   "metadata": {
    "slideshow": {
     "slide_type": "subslide"
    }
   },
   "source": [
    "The __Builder (B)__ combines several concepts to create a new one.\n",
    "\n",
    "- e.g. (capital/C) and (germany/C):\n",
    "    - (__of/C__ capital/C germany/C)\n",
    "- compound nouns also:\n",
    "    - \"guitar player\" or \"Barack Obama\"\n",
    "    - special builder type __(+/B)__ for these\n",
    "    - (__+/B__ guitar/C player/C)"
   ]
  },
  {
   "cell_type": "markdown",
   "id": "1f43fd14",
   "metadata": {
    "slideshow": {
     "slide_type": "subslide"
    }
   },
   "source": [
    "__Conjuncions (J)__ join or coordinate concepts or relations:\n",
    "- (__and/J__ meat/C potatoes/C)\n",
    "- (__but/J__ (likes/P mary/C meat/C) (hates/P potatoes/C))\n",
    "- Special symbol (:/J)\n",
    "    - Implicit sequences of related concepts\n",
    "    - (__:/J__ freud/C (the/M (famous/M psychiatrist/C)))"
   ]
  },
  {
   "cell_type": "markdown",
   "id": "47c687f3",
   "metadata": {
    "slideshow": {
     "slide_type": "subslide"
    }
   },
   "source": [
    "__Triggers (T)__ are for additional specifications of relationships\n",
    "- Conditional: \"We go __if__ it rains\"\n",
    "- Temporal: \"John and Mary traveled to the North Pole __in__ 2015\""
   ]
  },
  {
   "cell_type": "markdown",
   "id": "68804b95",
   "metadata": {
    "slideshow": {
     "slide_type": "subslide"
    }
   },
   "source": [
    "### Hyperedge types\n",
    "\n",
    "- capital/C and germany/C are concepts; (of/B capital/C germany/C) is also a concept\n",
    "- (northern/M germany/C) is a concept (C), and (not/M is/P) is a predicate (P)"
   ]
  },
  {
   "cell_type": "markdown",
   "id": "d293e45b",
   "metadata": {
    "slideshow": {
     "slide_type": "fragment"
    }
   },
   "source": [
    "| Element types | Resulting type |\n",
    "|---------------|----------------|\n",
    "| (M x)         | x              |\n",
    "| (B C C+)      | C              |\n",
    "| (T \\[CR\\])    | S              |\n",
    "| (P \\[CRS\\]+)  | P              |\n",
    "| (J x y+)      | x              |"
   ]
  },
  {
   "cell_type": "markdown",
   "id": "53bf8cb1",
   "metadata": {
    "slideshow": {
     "slide_type": "subslide"
    }
   },
   "source": [
    "- Two more types for non-atomic edges: __relation (R)__ and __specifier (S)__\n",
    "- Always as a result of composing edges\n",
    "- _Relations_ state facts: (is/P Berlin/C nice/C)\n",
    "- _Specifiers_ produced by triggers: (in/T 1976/C)"
   ]
  },
  {
   "cell_type": "markdown",
   "id": "9b22d3ce",
   "metadata": {
    "slideshow": {
     "slide_type": "subslide"
    }
   },
   "source": [
    "![](sh_types.PNG)"
   ]
  },
  {
   "cell_type": "markdown",
   "id": "8ecf924e",
   "metadata": {
    "slideshow": {
     "slide_type": "subslide"
    }
   },
   "source": [
    "### Argument roles\n",
    "\n",
    "- For _builders_ and _predicates_\n",
    "- To make meaning more explicit\n",
    "- To cover UD grammatical cases"
   ]
  },
  {
   "cell_type": "markdown",
   "id": "986d6ad9",
   "metadata": {
    "slideshow": {
     "slide_type": "fragment"
    }
   },
   "source": [
    "- Builder: __\"main (m)\"__ and __\"auxiliary (a)\"__\n",
    "    - (+/B.am tennis/C ball/C): \"ball\" is the main, a hypernym of the concept"
   ]
  },
  {
   "cell_type": "markdown",
   "id": "c4f39755",
   "metadata": {
    "slideshow": {
     "slide_type": "subslide"
    }
   },
   "source": [
    "_Predicates_ can induce roles the arguments play in the relation:\n",
    "- (gave/P.sio john/C mary/C (a/M flower/C))\n",
    "\n",
    "Codes:\n",
    "\n",
    "* **s**: subject\n",
    "* **p**: passive subject\n",
    "* **a**: agent\n",
    "* **c**: subject complement\n",
    "* **o**: direct object\n",
    "* **i**: indirect object\n",
    "* **x**: specification\n",
    "* **t**: parataxis\n",
    "* **j**: interjection\n",
    "* **r**: relative relation\n",
    "* **?**: undetermined\n"
   ]
  },
  {
   "cell_type": "markdown",
   "id": "285dcdc7",
   "metadata": {
    "slideshow": {
     "slide_type": "subslide"
    }
   },
   "source": [
    "### Subtypes"
   ]
  },
  {
   "cell_type": "markdown",
   "id": "5eb78b16",
   "metadata": {
    "slideshow": {
     "slide_type": "subslide"
    }
   },
   "source": [
    "Subtypes provide further distinctions, for example that a predicate is declarative (``Pd``), or that a concept is common (``Cc``), or that a modifier is a determinant (``Md``)::\n",
    "\n",
    "   (is/Pd.sc (the/Md sky/Cc) blue/Cc)\n",
    "\n",
    "For concepts we can define the following subtypes:\n",
    "\n",
    "| Code | Subtype       | Example  |\n",
    "|------|---------------|----------|\n",
    "| Cc   | common        | apple/Cc |\n",
    "| Cp   | proper        | mary/Cp  |\n",
    "| Cn   | number        | 27/Cn    |\n",
    "| Ci   | pronoun       | she/Ci   |\n",
    "| Cw   | interrogative | who/Cw   |"
   ]
  },
  {
   "cell_type": "markdown",
   "id": "334f53cc",
   "metadata": {
    "slideshow": {
     "slide_type": "subslide"
    }
   },
   "source": [
    "![](atom_structure.PNG)"
   ]
  },
  {
   "cell_type": "markdown",
   "id": "f90ee4ca",
   "metadata": {
    "slideshow": {
     "slide_type": "slide"
    }
   },
   "source": [
    "# Practice"
   ]
  },
  {
   "cell_type": "code",
   "execution_count": null,
   "id": "06a2eea1",
   "metadata": {
    "slideshow": {
     "slide_type": "subslide"
    }
   },
   "outputs": [],
   "source": [
    "#Init the perser\n",
    "from graphbrain.parsers import create_parser\n",
    "parser = create_parser(lang='en')"
   ]
  },
  {
   "cell_type": "code",
   "execution_count": null,
   "id": "541fe367",
   "metadata": {
    "slideshow": {
     "slide_type": "fragment"
    }
   },
   "outputs": [],
   "source": [
    "#Parse \n",
    "graph = parser.parse('Einstein developed the Theory of Relativity.')"
   ]
  },
  {
   "cell_type": "code",
   "execution_count": null,
   "id": "c446076b",
   "metadata": {
    "slideshow": {
     "slide_type": "subslide"
    }
   },
   "outputs": [],
   "source": [
    "graph"
   ]
  },
  {
   "cell_type": "code",
   "execution_count": null,
   "id": "4c56e031",
   "metadata": {
    "slideshow": {
     "slide_type": "subslide"
    }
   },
   "outputs": [],
   "source": [
    "edge = graph['parses'][0]['main_edge']\n",
    "print(edge)"
   ]
  },
  {
   "cell_type": "code",
   "execution_count": null,
   "id": "6933a3a7",
   "metadata": {
    "slideshow": {
     "slide_type": "fragment"
    }
   },
   "outputs": [],
   "source": [
    "show(edge)"
   ]
  },
  {
   "cell_type": "code",
   "execution_count": null,
   "id": "2f71d091",
   "metadata": {
    "slideshow": {
     "slide_type": "subslide"
    }
   },
   "outputs": [],
   "source": [
    "blocks(edge)"
   ]
  },
  {
   "cell_type": "code",
   "execution_count": null,
   "id": "e1441429",
   "metadata": {
    "slideshow": {
     "slide_type": "fragment"
    }
   },
   "outputs": [],
   "source": [
    "edge[2][0]"
   ]
  },
  {
   "cell_type": "code",
   "execution_count": null,
   "id": "00dc9ddb",
   "metadata": {
    "slideshow": {
     "slide_type": "fragment"
    }
   },
   "outputs": [],
   "source": [
    "edge.type()"
   ]
  },
  {
   "cell_type": "markdown",
   "id": "aa908b46",
   "metadata": {
    "slideshow": {
     "slide_type": "subslide"
    }
   },
   "source": [
    "#### Hyperedge operations"
   ]
  },
  {
   "cell_type": "code",
   "execution_count": null,
   "id": "9a165434",
   "metadata": {
    "slideshow": {
     "slide_type": "subslide"
    }
   },
   "outputs": [],
   "source": [
    "from graphbrain import hedge, hgraph\n",
    "\n",
    "edge = hedge('(developed/Pd.so.<f-----/en einstein/Cp.s/en (of/Br.ma/en (the/Md/en theory/Cc.s/en) relativity/Cc.s/en))')"
   ]
  },
  {
   "cell_type": "code",
   "execution_count": null,
   "id": "4ed5a69a",
   "metadata": {
    "slideshow": {
     "slide_type": "fragment"
    }
   },
   "outputs": [],
   "source": [
    "edge[1::]"
   ]
  },
  {
   "cell_type": "code",
   "execution_count": null,
   "id": "fe188480",
   "metadata": {
    "slideshow": {
     "slide_type": "fragment"
    }
   },
   "outputs": [],
   "source": [
    "edge[2].label()"
   ]
  },
  {
   "cell_type": "code",
   "execution_count": null,
   "id": "d04a0686",
   "metadata": {
    "slideshow": {
     "slide_type": "subslide"
    }
   },
   "outputs": [],
   "source": [
    "edge.subedges()"
   ]
  },
  {
   "cell_type": "code",
   "execution_count": null,
   "id": "fe1608cd",
   "metadata": {
    "slideshow": {
     "slide_type": "fragment"
    }
   },
   "outputs": [],
   "source": [
    "edge.all_atoms()"
   ]
  },
  {
   "cell_type": "code",
   "execution_count": null,
   "id": "b9876d24",
   "metadata": {
    "slideshow": {
     "slide_type": "subslide"
    }
   },
   "outputs": [],
   "source": [
    "hg = hgraph('example.db')\n",
    "hg.add(edge)"
   ]
  },
  {
   "cell_type": "code",
   "execution_count": null,
   "id": "ee0f9e37",
   "metadata": {
    "slideshow": {
     "slide_type": "fragment"
    }
   },
   "outputs": [],
   "source": [
    "hg.exists(edge)"
   ]
  },
  {
   "cell_type": "code",
   "execution_count": null,
   "id": "2c867215",
   "metadata": {
    "slideshow": {
     "slide_type": "fragment"
    }
   },
   "outputs": [],
   "source": [
    "hg.exists(edge[1])"
   ]
  },
  {
   "cell_type": "code",
   "execution_count": null,
   "id": "c742620a",
   "metadata": {
    "slideshow": {
     "slide_type": "subslide"
    }
   },
   "outputs": [],
   "source": [
    "edges = list(hg.all())"
   ]
  },
  {
   "cell_type": "code",
   "execution_count": null,
   "id": "1da8a529",
   "metadata": {
    "slideshow": {
     "slide_type": "fragment"
    }
   },
   "outputs": [],
   "source": [
    "edges"
   ]
  },
  {
   "cell_type": "code",
   "execution_count": null,
   "id": "6cb7ed06",
   "metadata": {
    "slideshow": {
     "slide_type": "subslide"
    }
   },
   "outputs": [],
   "source": [
    "list(hg.search(\"(*/P * *)\"))"
   ]
  },
  {
   "cell_type": "markdown",
   "id": "7aaaae87",
   "metadata": {
    "slideshow": {
     "slide_type": "slide"
    }
   },
   "source": [
    "# From natural language to SH"
   ]
  },
  {
   "cell_type": "markdown",
   "id": "d33cdecc",
   "metadata": {
    "slideshow": {
     "slide_type": "fragment"
    }
   },
   "source": [
    "- It is a hard task to annotate enough data to train a NL-SH parser\n",
    "- Better infer SH from grammatically-enriched representation --> UD\n",
    "- Two staged approach\n",
    "     - __α-stage__: a classifier that assigns a type to each token in a given sentence. \n",
    "     - __β-stage__: is a search tree-based algorithm that recursively applies rules to build SH from sequence of atoms\n",
    "- ML only in α-stage, a trivial classification problem"
   ]
  },
  {
   "cell_type": "markdown",
   "id": "47a8a68d",
   "metadata": {
    "slideshow": {
     "slide_type": "subslide"
    }
   },
   "source": [
    "## α-stage\n",
    "\n",
    "- With the usage of spaCy:\n",
    "    - Segmentation \n",
    "    - Tokenization \n",
    "    - POS tags \n",
    "    - Dependency labels\n",
    "    - NER\n",
    "- Generate features for each token \n",
    "- spaCy model: \"en_core_web_lg-2.0.0\""
   ]
  },
  {
   "cell_type": "markdown",
   "id": "d8e36b6d",
   "metadata": {
    "slideshow": {
     "slide_type": "subslide"
    }
   },
   "source": [
    "- __Data__:\n",
    "    - fiction books\n",
    "    - non-fiction books\n",
    "    - news\n",
    "    - scientific articles\n",
    "    - Wikipedia articles\n",
    "- Selected randomly 60 sentences from each (~300 sentences)\n",
    "- __6936__ tokens in full for classification\n",
    "- They were annotated manually for classification\n",
    "- Trained a random-forest classifier"
   ]
  },
  {
   "cell_type": "markdown",
   "id": "94b518bc",
   "metadata": {
    "slideshow": {
     "slide_type": "subslide"
    }
   },
   "source": [
    "### Features\n",
    "\n",
    "- Initial feature set:\n",
    "    - POS, Dependency edge, NER\n",
    "    - Word is among the most 15, 25, 50 and 100 common words (WORD15, WORD25, WORD50, WORD100)\n",
    "    - Word is punctuation\n",
    "    - Is it a ROOT in dep parse\n",
    "    - Does it have left or right children\n",
    "    - Capitalization shape (\"Alice\" -> Xxxxx)\n",
    "    - Relative features:\n",
    "        - Ones directly before or after the current one in the sentence\n",
    "        - Parent of the current one in the dep tree\n",
    "        - For all the relative, the above applied\n",
    "- __In total 33 features candidate__"
   ]
  },
  {
   "cell_type": "markdown",
   "id": "9e37b6fe",
   "metadata": {
    "slideshow": {
     "slide_type": "subslide"
    }
   },
   "source": [
    "### Feature selection\n",
    "\n",
    "- Iterative ablation procedure\n",
    "- Starts with all feature candidates (33)\n",
    "- 100 runs of the learning algorithm performed\n",
    "    - Each run randomly splits two-third for training and one-third for testing\n",
    "- The process repeated, excluding one feature at a time\n",
    "- The feature that most degrades mean accuracy is excluded\n",
    "    - If no negative impact --> exclude one with the highest p-value"
   ]
  },
  {
   "cell_type": "markdown",
   "id": "bdb74691",
   "metadata": {
    "slideshow": {
     "slide_type": "fragment"
    }
   },
   "source": [
    "- The procedure is repeated, ablating one feature at a time\n",
    "- The procedure stops one when no remaining feature fulfills the criterias\n",
    "- With p-value thresholds: .05 and .005\n",
    "- The final feature set contained 5 feature: F5 = {TAG, DEP, HDEP, HPOS, POS_AFTER}"
   ]
  },
  {
   "cell_type": "markdown",
   "id": "a3d38675",
   "metadata": {
    "slideshow": {
     "slide_type": "subslide"
    }
   },
   "source": [
    "![](feature_eval.PNG)"
   ]
  },
  {
   "cell_type": "markdown",
   "id": "a4be5b46",
   "metadata": {
    "slideshow": {
     "slide_type": "slide"
    }
   },
   "source": [
    "## β-stage\n",
    "\n",
    "- This stage transforms the sequence of atoms into a semantic hyperedge\n",
    "- It follows the α-stage\n",
    "- A bottom up process:\n",
    "    - Aggregates the deeper structure into a more complex one\n",
    "    - Recursively combines hyperedges into a final, well-formed hyperedge"
   ]
  },
  {
   "cell_type": "markdown",
   "id": "b332da16",
   "metadata": {
    "slideshow": {
     "slide_type": "subslide"
    }
   },
   "source": [
    "#### Algorithm\n",
    "\n",
    "| Element types | Resulting type |\n",
    "|---------------|----------------|\n",
    "| (M x)         | x              |\n",
    "| (B C C+)      | C              |\n",
    "| (T \\[CR\\])    | S              |\n",
    "| (P \\[CRS\\]+)  | P              |\n",
    "| (J x y+)      | x              |\n",
    "\n",
    "- The process starts with the typed atoms of the original sentence\n",
    "- At each step the current hyperedge is scanned from left to right to match a rule"
   ]
  },
  {
   "cell_type": "markdown",
   "id": "17f79951",
   "metadata": {
    "slideshow": {
     "slide_type": "subslide"
    }
   },
   "source": [
    "- If there are two matches:\n",
    "    - The algorithm assign a higher score to sub-sequences where all items are directly connected in UD\n",
    "    - In of tie, the function prefers sequence that contains the deepest atom in the UD tree\n",
    "    - If still a tie, rules are ordered empirically\n",
    "- If no match, the first two is connected with special conjunction (:/J)\n",
    "- This guarantees a valid SH at the end\n",
    "\n",
    "After this, __Argument roles__ are inferred from dependency labels."
   ]
  },
  {
   "cell_type": "markdown",
   "id": "b4b17406",
   "metadata": {
    "slideshow": {
     "slide_type": "subslide"
    }
   },
   "source": [
    "![](transform.PNG)"
   ]
  },
  {
   "cell_type": "markdown",
   "id": "aefbaf2d",
   "metadata": {
    "slideshow": {
     "slide_type": "subslide"
    }
   },
   "source": [
    "## Validation\n",
    "\n",
    "- The methods were manually tested on 100 sentences\n",
    "- These sentences were not part of the training or the test sets\n",
    "\n",
    "![](validation.PNG)"
   ]
  },
  {
   "cell_type": "markdown",
   "id": "d16ed4b9",
   "metadata": {
    "slideshow": {
     "slide_type": "subslide"
    }
   },
   "source": [
    "## Summary\n",
    "\n",
    "- Lots of similarities with our methods in 4lang (built on UD)\n",
    "- Only English support, but could be expanded to new languages\n",
    "- With feature-selection only keeping 3 features wasn't that much worse\n",
    "    - 3 features could be described programmatically --> no need for ML, the whole method is interpretable"
   ]
  },
  {
   "cell_type": "markdown",
   "id": "5374d3f8",
   "metadata": {
    "slideshow": {
     "slide_type": "subslide"
    }
   },
   "source": [
    "# Applications\n",
    "## Open-Information Extraction\n",
    "\n",
    "- Domain-free extraction from text of tuples (typically triplets) representing semantic relationships\n",
    "- Differs from RE tasks as the relationships are not given\n",
    "- The task is to extract all kinds of tuples possible\n",
    "- In the SH model it is possible to define a small set of tuples to achieve comparable results"
   ]
  },
  {
   "cell_type": "markdown",
   "id": "76519476",
   "metadata": {
    "slideshow": {
     "slide_type": "slide"
    }
   },
   "source": [
    "# Pattern language"
   ]
  },
  {
   "cell_type": "markdown",
   "id": "eae4c21e",
   "metadata": {
    "slideshow": {
     "slide_type": "subslide"
    }
   },
   "source": [
    "- Patterns are hyperedges themselves\n",
    "- Patterns are defined with the help of special atoms: wildcards and variables.\n",
    "- The former are useful for simply querying and matching, while the latter allow for the extraction of specific parts of a hyperedge."
   ]
  },
  {
   "cell_type": "markdown",
   "id": "6ac915e8",
   "metadata": {
    "slideshow": {
     "slide_type": "subslide"
    }
   },
   "source": [
    "We will demonstrate the pattern language of SH on the [WiRe57 : A Fine-Grained Benchmark for Open Information Extraction](https://arxiv.org/abs/1809.08962) dataset."
   ]
  },
  {
   "cell_type": "code",
   "execution_count": null,
   "id": "f801dd57",
   "metadata": {
    "slideshow": {
     "slide_type": "fragment"
    }
   },
   "outputs": [],
   "source": [
    "import json\n",
    "\n",
    "data = {}\n",
    "\n",
    "with open(\"WiRe57_343-manual-oie.json\") as f:\n",
    "    data = json.load(f)"
   ]
  },
  {
   "cell_type": "markdown",
   "id": "3567979e",
   "metadata": {
    "slideshow": {
     "slide_type": "subslide"
    }
   },
   "source": [
    "After loading, we extract triplets and texts from the dataset:"
   ]
  },
  {
   "cell_type": "code",
   "execution_count": null,
   "id": "c2112682",
   "metadata": {
    "slideshow": {
     "slide_type": "fragment"
    }
   },
   "outputs": [],
   "source": [
    "texts = []\n",
    "triplets = []\n",
    "\n",
    "for k in data:\n",
    "    for v in data[k]:\n",
    "        texts.append(v['sent'])\n",
    "        \n",
    "        triplets_by_sentence = []\n",
    "        for t in v['tuples']:\n",
    "            triplets_by_sentence.append({'REL': t['rel']['text'], 'ARG1': t['arg1']['text'], 'ARG2': t['arg2']['text']})\n",
    "            \n",
    "        triplets.append(triplets_by_sentence)"
   ]
  },
  {
   "cell_type": "code",
   "execution_count": null,
   "id": "a47ed52f",
   "metadata": {
    "slideshow": {
     "slide_type": "subslide"
    }
   },
   "outputs": [],
   "source": [
    "texts[1]"
   ]
  },
  {
   "cell_type": "code",
   "execution_count": null,
   "id": "2d5cf8ad",
   "metadata": {
    "slideshow": {
     "slide_type": "fragment"
    }
   },
   "outputs": [],
   "source": [
    "triplets[2]"
   ]
  },
  {
   "cell_type": "markdown",
   "id": "5af88186",
   "metadata": {
    "slideshow": {
     "slide_type": "subslide"
    }
   },
   "source": [
    "Now, lets use our parser to parse the dataset into _SH_ format."
   ]
  },
  {
   "cell_type": "code",
   "execution_count": null,
   "id": "a9c8c4e1",
   "metadata": {
    "slideshow": {
     "slide_type": "fragment"
    }
   },
   "outputs": [],
   "source": [
    "from tqdm import tqdm\n",
    "\n",
    "edges = []\n",
    "\n",
    "for text in tqdm(texts):\n",
    "    edges.append(parser.parse(text)['parses'][0]['main_edge'])"
   ]
  },
  {
   "cell_type": "code",
   "execution_count": null,
   "id": "ff6956af",
   "metadata": {
    "slideshow": {
     "slide_type": "subslide"
    }
   },
   "outputs": [],
   "source": [
    "edges[1]"
   ]
  },
  {
   "cell_type": "code",
   "execution_count": null,
   "id": "fc7d7f5e",
   "metadata": {
    "slideshow": {
     "slide_type": "fragment"
    }
   },
   "outputs": [],
   "source": [
    "vblocks(edges[1])"
   ]
  },
  {
   "cell_type": "code",
   "execution_count": null,
   "id": "44a6a762",
   "metadata": {
    "slideshow": {
     "slide_type": "subslide"
    }
   },
   "outputs": [],
   "source": [
    "from graphbrain.hyperedge import match_pattern\n",
    "\n",
    "patt = hedge('is/P.sc ARG1 ARG2')\n",
    "\n",
    "m = match_pattern(edges[1], patt)"
   ]
  },
  {
   "cell_type": "code",
   "execution_count": null,
   "id": "426bb464",
   "metadata": {
    "slideshow": {
     "slide_type": "fragment"
    }
   },
   "outputs": [],
   "source": [
    "m"
   ]
  },
  {
   "cell_type": "code",
   "execution_count": null,
   "id": "95aa1094",
   "metadata": {
    "slideshow": {
     "slide_type": "fragment"
    }
   },
   "outputs": [],
   "source": [
    "m[0]['ARG1'].label()"
   ]
  },
  {
   "cell_type": "code",
   "execution_count": null,
   "id": "3a5f73e1",
   "metadata": {
    "slideshow": {
     "slide_type": "fragment"
    }
   },
   "outputs": [],
   "source": [
    "m[0]['ARG2'].all_atoms()[-1].label()"
   ]
  },
  {
   "cell_type": "code",
   "execution_count": null,
   "id": "de6caf25",
   "metadata": {
    "slideshow": {
     "slide_type": "subslide"
    }
   },
   "outputs": [],
   "source": [
    "hg = hgraph('wire.db')\n",
    "\n",
    "for edge in edges:\n",
    "    hg.add(edge)\n",
    "    \n",
    "def pattern_to_triplet(patt, edges):\n",
    "    for i, edge in enumerate(edges):\n",
    "        for e in edge.subedges():\n",
    "            if not e.is_atom():\n",
    "                m = match_pattern(e, patt)\n",
    "                if m:\n",
    "                    args = m[0]\n",
    "\n",
    "                    pattern_triplet = {}\n",
    "                    \n",
    "                    for k in args:\n",
    "                        pattern_triplet[k] = args[k]\n",
    "                    pattern_triplet['text'] = texts[i]\n",
    "                        \n",
    "                    yield pattern_triplet"
   ]
  },
  {
   "cell_type": "code",
   "execution_count": null,
   "id": "6dda642b",
   "metadata": {
    "slideshow": {
     "slide_type": "subslide"
    }
   },
   "outputs": [],
   "source": [
    "print(texts[2])\n",
    "blocks(edges[2])"
   ]
  },
  {
   "cell_type": "code",
   "execution_count": null,
   "id": "ed11e4ec",
   "metadata": {
    "slideshow": {
     "slide_type": "subslide"
    }
   },
   "outputs": [],
   "source": [
    "from graphbrain.utils.conjunctions import *\n",
    "\n",
    "con_edges = conjunctions_decomposition(edges[2], concepts=True)\n",
    "\n",
    "for e in con_edges:\n",
    "    print(e)"
   ]
  },
  {
   "cell_type": "code",
   "execution_count": null,
   "id": "f80a8e83",
   "metadata": {
    "slideshow": {
     "slide_type": "fragment"
    }
   },
   "outputs": [],
   "source": [
    "match_pattern(con_edges[1], 'is/P.sc ARG1 ARG2')"
   ]
  },
  {
   "cell_type": "code",
   "execution_count": null,
   "id": "f932313a",
   "metadata": {
    "slideshow": {
     "slide_type": "subslide"
    }
   },
   "outputs": [],
   "source": [
    "from graphbrain.patterns import PatternCounter\n",
    "\n",
    "pc = PatternCounter()"
   ]
  },
  {
   "cell_type": "code",
   "execution_count": null,
   "id": "4b61a664",
   "metadata": {
    "slideshow": {
     "slide_type": "fragment"
    }
   },
   "outputs": [],
   "source": [
    "for e in hg.all():\n",
    "    if hg.is_primary(e):\n",
    "        pc.count(e)"
   ]
  },
  {
   "cell_type": "code",
   "execution_count": null,
   "id": "945e1733",
   "metadata": {
    "slideshow": {
     "slide_type": "subslide"
    }
   },
   "outputs": [],
   "source": [
    "patts = pc.patterns.most_common()\n",
    "\n",
    "patts"
   ]
  },
  {
   "cell_type": "code",
   "execution_count": null,
   "id": "e2bdf5f7",
   "metadata": {
    "slideshow": {
     "slide_type": "subslide"
    }
   },
   "outputs": [],
   "source": [
    "pc = PatternCounter()\n",
    "for edge in edges:\n",
    "    pc.count(edge)\n",
    "        \n",
    "patts = pc.patterns.most_common()\n",
    "\n",
    "patts"
   ]
  },
  {
   "cell_type": "code",
   "execution_count": null,
   "id": "3f0fe251",
   "metadata": {
    "slideshow": {
     "slide_type": "subslide"
    }
   },
   "outputs": [],
   "source": [
    "pc = PatternCounter(expansions={'(*/P * * ...)'})\n",
    "for edge in edges:\n",
    "    if hg.is_primary(edge):\n",
    "        pc.count(edge)\n",
    "        \n",
    "patts = pc.patterns.most_common()\n",
    "\n",
    "patts[:10]"
   ]
  },
  {
   "cell_type": "code",
   "execution_count": null,
   "id": "b2f36ee0",
   "metadata": {
    "slideshow": {
     "slide_type": "fragment"
    }
   },
   "outputs": [],
   "source": [
    "for t in pattern_to_triplet('(REL/P ARG1/C ARG2/C ...)', edges) :\n",
    "    print(f\"REL: {t['REL'].label()}, ARG1: {t['ARG1'].label()}, ARG2: {t['ARG2'].label()} \\n TEXT: {t['text']}\")\n",
    "    print()"
   ]
  },
  {
   "cell_type": "markdown",
   "id": "00f369aa",
   "metadata": {
    "slideshow": {
     "slide_type": "subslide"
    }
   },
   "source": [
    "![](patterns.PNG)"
   ]
  },
  {
   "cell_type": "markdown",
   "id": "a65cd4da",
   "metadata": {
    "slideshow": {
     "slide_type": "subslide"
    }
   },
   "source": [
    "![](results.PNG)"
   ]
  },
  {
   "cell_type": "markdown",
   "id": "f751d5e0",
   "metadata": {
    "slideshow": {
     "slide_type": "subslide"
    }
   },
   "source": [
    "- The method of defining patterns in HITL is similar to the main idea of POTATO\n",
    "\n",
    "- \"_Another possible improvement is in the domain of software and user-interface development, allowing for\n",
    "less technical users to provide inferences and feedback –\n",
    "a user can be invited to directly select parts of a sentence\n",
    "and assigning them to meanings (e.g. “actor”, “claim”,\n",
    "“aggressor”, etc.), without having to see or interact with\n",
    "hypergraphic notation. Such refinements are beyond the\n",
    "scope of this work, but it is our hope to lay the foundations for these and other possibilities._\""
   ]
  }
 ],
 "metadata": {
  "celltoolbar": "Slideshow",
  "kernelspec": {
   "display_name": "base",
   "language": "python",
   "name": "base"
  },
  "language_info": {
   "codemirror_mode": {
    "name": "ipython",
    "version": 3
   },
   "file_extension": ".py",
   "mimetype": "text/x-python",
   "name": "python",
   "nbconvert_exporter": "python",
   "pygments_lexer": "ipython3",
   "version": "3.9.5"
  }
 },
 "nbformat": 4,
 "nbformat_minor": 5
}
