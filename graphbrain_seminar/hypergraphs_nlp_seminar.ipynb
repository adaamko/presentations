{
 "cells": [
  {
   "cell_type": "markdown",
   "id": "5021fb9c",
   "metadata": {
    "slideshow": {
     "slide_type": "slide"
    }
   },
   "source": [
    "# Semantic Hypergraphs\n",
    "## The graphbrain library\n",
    "\n",
    "### Adam Kovacs, TUW-NLP seminar, 4/7/2022"
   ]
  },
  {
   "cell_type": "code",
   "execution_count": 14,
   "id": "887b4f52",
   "metadata": {
    "slideshow": {
     "slide_type": "skip"
    }
   },
   "outputs": [],
   "source": [
    "from IPython.display import IFrame\n",
    "\n",
    "from graphbrain import *\n",
    "from graphbrain.notebook import *\n",
    "from graphbrain.parsers import *"
   ]
  },
  {
   "cell_type": "markdown",
   "id": "ebded708",
   "metadata": {
    "slideshow": {
     "slide_type": "slide"
    }
   },
   "source": [
    "# Introduction"
   ]
  },
  {
   "cell_type": "markdown",
   "id": "d50d0eb3",
   "metadata": {
    "slideshow": {
     "slide_type": "subslide"
    }
   },
   "source": [
    "- A __Semantic Hypergraph__ (SH) model\n",
    "- __Graphbrain__ combines symbolic and ML approaches\n",
    "- The work was performed in the context of a computational social science (CSS) research team\n",
    "- It is a formal language representation\n",
    "- They define a parser with \n",
    " - modern NLP ML-based building blocks \n",
    " - and random forest classifier \n",
    " - simple search tree to parse NL to SH"
   ]
  },
  {
   "cell_type": "markdown",
   "id": "b6f53be1",
   "metadata": {
    "slideshow": {
     "slide_type": "subslide"
    }
   },
   "source": [
    "__Graphbrain also__ defines: \n",
    "- __pattern language__ representable in SH itself\n",
    "- a __process__ to discover knowledge inference rules. \n",
    "- They also illustrate the efficiency on variety of tasks\n",
    "    - conjunction decomposition\n",
    "    - open information extraction,\n",
    "    - concept taxonomy inference and co-reference resolution, and an applied example of claim and conflict analysis in a news corpus.\n"
   ]
  },
  {
   "cell_type": "markdown",
   "id": "33baff43",
   "metadata": {
    "slideshow": {
     "slide_type": "subslide"
    }
   },
   "source": [
    "- Traditional rule-based NLP approaches:\n",
    "    - rules written by hand\n",
    "    - but transparent, they follow an __open__ principle\n",
    "    - but NLP tasks are diverse, they are hard to cover with rules: __strict__ principle\n",
    "- ML approaches:\n",
    "    - less transparent, they are __opaque__\n",
    "    - but ML techniques are __adaptive__, \n",
    "- Double dichotomy: open/opaque – strict/adaptive\n",
    "- Modern NLP approaches usually fall into the __opaque-adaptive__ category\n",
    "- __SH__ aims to take steps into the __open-adaptive__ category"
   ]
  },
  {
   "cell_type": "markdown",
   "id": "dbcbb2f1",
   "metadata": {
    "slideshow": {
     "slide_type": "slide"
    }
   },
   "source": [
    "# Structure of SH"
   ]
  },
  {
   "cell_type": "markdown",
   "id": "e9175454",
   "metadata": {
    "slideshow": {
     "slide_type": "subslide"
    }
   },
   "source": [
    "- The SH model is an ordered, recursive hypegraph\n",
    "- A graph _G = (V,E)_ is based on a vertex set _V_ and an edge set _E ⊂ V × V_ describing dyadic connections\n",
    "- A hypergraph _H = (V,E)_ where V is again a vertex set yet E is a set of hyperedges (ei)i∈1..M connecting an arbitrary number of vertices\n",
    "- In _SH_ hyperedges may be ordered and recursive. \n",
    "    - Ordering: vertex position in the hyperedge is relevant. \n",
    "    - Recursivity: hyperedges can participate as vertices in other hyperedges. "
   ]
  },
  {
   "cell_type": "markdown",
   "id": "69c6189c",
   "metadata": {
    "slideshow": {
     "slide_type": "subslide"
    }
   },
   "source": [
    "_SH_ completeness is assured by its dependency on UD graphs.\n",
    "\n",
    "Similarities:\n",
    "- __AMR__: based on PropBank verbal propositions and their arguments\n",
    "    - goal is to purely abstract meaning\n",
    "    - end-to-end parsers\n",
    "    - requires extensive construction of training data\n",
    "    - no pattern matching capabilities\n",
    "- __4lang__: also based on UD graphs\n",
    "    - completely independent of training data\n",
    "    - rule-based built on UD\n",
    "    - IE capabilities\n",
    "    - open-strict"
   ]
  },
  {
   "cell_type": "markdown",
   "id": "1f5d86b4",
   "metadata": {
    "slideshow": {
     "slide_type": "subslide"
    }
   },
   "source": [
    "- A set of nodes: \n",
    "    - (berlin) - noun\n",
    "    - (is) - verb\n",
    "    - (very) - adverb\n",
    "    - (nice) - adjective\n",
    "- We can build (is berlin nice) and (very nice) edges, or recursively:\n",
    "    - (is berlin (very nice))\n",
    "    "
   ]
  },
  {
   "cell_type": "markdown",
   "id": "5e2bb89c",
   "metadata": {
    "slideshow": {
     "slide_type": "subslide"
    }
   },
   "source": [
    "_Einstein developed the Theory of Relativity._\n",
    "![](amr.jpg)"
   ]
  },
  {
   "cell_type": "markdown",
   "id": "917e4ef3",
   "metadata": {
    "slideshow": {
     "slide_type": "subslide"
    }
   },
   "source": [
    "![](graphbrain.PNG)"
   ]
  },
  {
   "cell_type": "markdown",
   "id": "3543af7b",
   "metadata": {
    "slideshow": {
     "slide_type": "subslide"
    }
   },
   "source": [
    "## Syntax"
   ]
  },
  {
   "cell_type": "markdown",
   "id": "18564d07",
   "metadata": {
    "slideshow": {
     "slide_type": "subslide"
    }
   },
   "source": [
    "Hyperedges have _types_, e.g.:\n",
    "\n",
    "- (berlin) - concept\n",
    "- (is) - predicate\n",
    "- (is berlin nice) - relationship"
   ]
  },
  {
   "cell_type": "markdown",
   "id": "abe62493",
   "metadata": {
    "slideshow": {
     "slide_type": "fragment"
    }
   },
   "source": [
    "- Predicates belongs to a larger type called _connectors_\n",
    "- The first element of a non-atomic hyperedge must be a _connector_ (e.g. _berlin_ is an atomic edge)\n",
    "- It is recursive"
   ]
  },
  {
   "cell_type": "markdown",
   "id": "acbaa30d",
   "metadata": {
    "slideshow": {
     "slide_type": "subslide"
    }
   },
   "source": [
    "_(is berlin (very nice))_\n",
    "\n",
    "- _is_ is the connector, _(berlin)_, _(very nice)_ are its arguments\n",
    "- in _(very nice)_, _very_ is the connector, _nice_ is its argument"
   ]
  },
  {
   "cell_type": "markdown",
   "id": "1cf550d3",
   "metadata": {
    "slideshow": {
     "slide_type": "subslide"
    }
   },
   "source": [
    "### Types"
   ]
  },
  {
   "cell_type": "markdown",
   "id": "372b8584",
   "metadata": {
    "slideshow": {
     "slide_type": "subslide"
    }
   },
   "source": [
    "- In all, _SH_ contains 8 types\n",
    " - Types of atoms\n",
    " - Types of more complex hyperedges\n",
    "- Hyperedge types are inferable from connectors and arguments"
   ]
  },
  {
   "cell_type": "markdown",
   "id": "8c55abae",
   "metadata": {
    "slideshow": {
     "slide_type": "subslide"
    }
   },
   "source": [
    "### Atomic concepts\n",
    "\n",
    "- _Concepts_ are the most fundamental role\n",
    "- Can be expressed with a single word (e.g. \"dog\")\n",
    "- The type of an atom is expressed after the label (e.g. \"dog/C\")\n",
    "- Expressing the type in the string is important for the parser"
   ]
  },
  {
   "cell_type": "markdown",
   "id": "a2c9c7f4",
   "metadata": {
    "slideshow": {
     "slide_type": "subslide"
    }
   },
   "source": [
    "### Connectors\n",
    "\n",
    " - The second (and last) role an atoms can play are _connectors_\n",
    " - Connectors have 5 types.\n",
    " \n",
    " __Predicate__ (code is \"P\") used to define relations, mostly statements:\n",
    " - (__is/P__ berlin/C nice/C)\n",
    " - Gives meaning to the relation"
   ]
  },
  {
   "cell_type": "markdown",
   "id": "b1511e3f",
   "metadata": {
    "slideshow": {
     "slide_type": "subslide"
    }
   },
   "source": [
    "__Modifier (M)__  applies to one hyperedge and defines a new hyperedge of the same type.\n",
    "\n",
    "- \"modifies things\", can be applied to concepts, predicates or other modifiers\n",
    "- e.g. (__nice/M__ shoes/C)\n",
    "- note that _nice_ can be both a _concept_ or a _modifier_ in different \n",
    "- To predicates:\n",
    "    - ((__not/M__ is/P) berlin/C nice/C)\n",
    "- To other modifiers:\n",
    "    - ((__very/M__ nice/M) shoes/C)"
   ]
  },
  {
   "cell_type": "markdown",
   "id": "ec381955",
   "metadata": {
    "slideshow": {
     "slide_type": "subslide"
    }
   },
   "source": [
    "The __Builder (B)__ combines several concepts to create a new one.\n",
    "\n",
    "- e.g. (capital/C) and (germany/C):\n",
    "    - (__of/C__ capital/C germany/C)\n",
    "- compound nouns also:\n",
    "    - \"guitar player\" or \"Barack Obama\"\n",
    "    - special builder type __(+/B)__ for these\n",
    "    - (__+/B__ guitar/C player/C)"
   ]
  },
  {
   "cell_type": "markdown",
   "id": "1f43fd14",
   "metadata": {
    "slideshow": {
     "slide_type": "subslide"
    }
   },
   "source": [
    "__Conjuncions (J)__ join or coordinate concepts or relations:\n",
    "- (__and/J__ meat/C potatoes/C)\n",
    "- (__but/J__ (likes/P mary/C meat/C) (hates/P potatoes/C))\n",
    "- Special symbol (:/J)\n",
    "    - Implicit sequences of related concepts\n",
    "    - (__:/J__ freud/C (the/M (famous/M psychiatrist/C)))"
   ]
  },
  {
   "cell_type": "markdown",
   "id": "47c687f3",
   "metadata": {
    "slideshow": {
     "slide_type": "subslide"
    }
   },
   "source": [
    "__Triggers (T)__ are for additional specifications of relationships\n",
    "- Conditional: \"We go __if__ it rains\"\n",
    "- Temporal: \"John and Mary traveled to the North Pole __in__ 2015\""
   ]
  },
  {
   "cell_type": "markdown",
   "id": "68804b95",
   "metadata": {
    "slideshow": {
     "slide_type": "subslide"
    }
   },
   "source": [
    "### Hyperedge types\n",
    "\n",
    "- capital/C and germany/C are concepts; (of/B capital/C germany/C) is also a concept\n",
    "- (northern/M germany/C) is a concept (C), and (not/M is/P) is a predicate (P)"
   ]
  },
  {
   "cell_type": "markdown",
   "id": "d293e45b",
   "metadata": {
    "slideshow": {
     "slide_type": "fragment"
    }
   },
   "source": [
    "| Element types | Resulting type |\n",
    "|---------------|----------------|\n",
    "| (M x)         | x              |\n",
    "| (B C C+)      | C              |\n",
    "| (T \\[CR\\])    | S              |\n",
    "| (P \\[CRS\\]+)  | P              |\n",
    "| (J x y+)      | x              |"
   ]
  },
  {
   "cell_type": "markdown",
   "id": "53bf8cb1",
   "metadata": {
    "slideshow": {
     "slide_type": "subslide"
    }
   },
   "source": [
    "- Two more types for non-atomic edges: __relation (R)__ and __specifier (S)__\n",
    "- Always as a result of composing edges\n",
    "- _Relations_ state facts: (is/P Berlin/C nice/C)\n",
    "- _Specifiers_ produced by triggers: (in/T 1976/C)"
   ]
  },
  {
   "attachments": {},
   "cell_type": "markdown",
   "id": "9b22d3ce",
   "metadata": {
    "slideshow": {
     "slide_type": "subslide"
    }
   },
   "source": [
    "![](sh_types.PNG)"
   ]
  },
  {
   "cell_type": "markdown",
   "id": "8ecf924e",
   "metadata": {
    "slideshow": {
     "slide_type": "subslide"
    }
   },
   "source": [
    "### Argument roles\n",
    "\n",
    "- For _builders_ and _predicates_\n",
    "- To make meaning more explicit\n",
    "- To cover UD grammatical cases"
   ]
  },
  {
   "cell_type": "markdown",
   "id": "986d6ad9",
   "metadata": {
    "slideshow": {
     "slide_type": "fragment"
    }
   },
   "source": [
    "- Builder: __\"main (m)\"__ and __\"auxiliary (a)\"__\n",
    "    - (+/B.am tennis/C ball/C): \"ball\" is the main, a hypernym of the concept"
   ]
  },
  {
   "cell_type": "markdown",
   "id": "c4f39755",
   "metadata": {
    "slideshow": {
     "slide_type": "subslide"
    }
   },
   "source": [
    "_Predicates_ can induce roles the arguments play in the relation:\n",
    "- (gave/P.sio john/C mary/C (a/M flower/C))\n",
    "\n",
    "Codes:\n",
    "\n",
    "* **s**: subject\n",
    "* **p**: passive subject\n",
    "* **a**: agent\n",
    "* **c**: subject complement\n",
    "* **o**: direct object\n",
    "* **i**: indirect object\n",
    "* **x**: specification\n",
    "* **t**: parataxis\n",
    "* **j**: interjection\n",
    "* **r**: relative relation\n",
    "* **?**: undetermined\n"
   ]
  },
  {
   "cell_type": "markdown",
   "id": "285dcdc7",
   "metadata": {
    "slideshow": {
     "slide_type": "subslide"
    }
   },
   "source": [
    "### Subtypes"
   ]
  },
  {
   "cell_type": "markdown",
   "id": "5eb78b16",
   "metadata": {
    "slideshow": {
     "slide_type": "subslide"
    }
   },
   "source": [
    "Subtypes provide further distinctions, for example that a predicate is declarative (``Pd``), or that a concept is common (``Cc``), or that a modifier is a determinant (``Md``)::\n",
    "\n",
    "   (is/Pd.sc (the/Md sky/Cc) blue/Cc)\n",
    "\n",
    "For concepts we can define the following subtypes:\n",
    "\n",
    "| Code | Subtype       | Example  |\n",
    "|------|---------------|----------|\n",
    "| Cc   | common        | apple/Cc |\n",
    "| Cp   | proper        | mary/Cp  |\n",
    "| Cn   | number        | 27/Cn    |\n",
    "| Ci   | pronoun       | she/Ci   |\n",
    "| Cw   | interrogative | who/Cw   |"
   ]
  },
  {
   "cell_type": "markdown",
   "id": "334f53cc",
   "metadata": {
    "slideshow": {
     "slide_type": "subslide"
    }
   },
   "source": [
    "![](atom_structure.PNG)"
   ]
  },
  {
   "cell_type": "markdown",
   "id": "f90ee4ca",
   "metadata": {
    "slideshow": {
     "slide_type": "slide"
    }
   },
   "source": [
    "# Practice"
   ]
  },
  {
   "cell_type": "code",
   "execution_count": 27,
   "id": "06a2eea1",
   "metadata": {
    "slideshow": {
     "slide_type": "subslide"
    }
   },
   "outputs": [],
   "source": [
    "#Init the perser\n",
    "from graphbrain.parsers import create_parser\n",
    "parser = create_parser(lang='en')"
   ]
  },
  {
   "cell_type": "code",
   "execution_count": 21,
   "id": "541fe367",
   "metadata": {
    "slideshow": {
     "slide_type": "fragment"
    }
   },
   "outputs": [],
   "source": [
    "#Parse \n",
    "graph = parser.parse('Einstein developed the Theory of Relativity.')"
   ]
  },
  {
   "cell_type": "code",
   "execution_count": 22,
   "id": "c446076b",
   "metadata": {
    "slideshow": {
     "slide_type": "subslide"
    }
   },
   "outputs": [
    {
     "data": {
      "text/plain": [
       "{'parses': ({'main_edge': (developed/Pd.so.<f-----/en einstein/Cp.s/en (of/Br.ma/en (the/Md/en theory/Cc.s/en) relativity/Cc.s/en)),\n",
       "   'extra_edges': set(),\n",
       "   'failed': False,\n",
       "   'text': 'Einstein developed the Theory of Relativity.',\n",
       "   'atom2word': {developed/Pd.so.<f-----/en: ('developed', 1),\n",
       "    einstein/Cp.s/en: ('Einstein', 0),\n",
       "    of/Br.ma/en: ('of', 4),\n",
       "    the/Md/en: ('the', 2),\n",
       "    theory/Cc.s/en: ('Theory', 3),\n",
       "    relativity/Cc.s/en: ('Relativity', 5)},\n",
       "   'atom2token': {einstein/Cp.s/en: Einstein,\n",
       "    the/Md/en: the,\n",
       "    theory/Cc.s/en: Theory,\n",
       "    relativity/Cc.s/en: Relativity,\n",
       "    developed/Pd.so.<f-----/en: developed,\n",
       "    of/Br.ma/en: of},\n",
       "   'spacy_sentence': Einstein developed the Theory of Relativity.,\n",
       "   'resolved_corefs': (developed/Pd.so.<f-----/en einstein/Cp.s/en (of/Br.ma/en (the/Md/en theory/Cc.s/en) relativity/Cc.s/en))},),\n",
       " 'inferred_edges': []}"
      ]
     },
     "execution_count": 22,
     "metadata": {},
     "output_type": "execute_result"
    }
   ],
   "source": [
    "graph"
   ]
  },
  {
   "cell_type": "code",
   "execution_count": 32,
   "id": "4c56e031",
   "metadata": {
    "slideshow": {
     "slide_type": "subslide"
    }
   },
   "outputs": [
    {
     "name": "stdout",
     "output_type": "stream",
     "text": [
      "(developed/Pd.so.<f-----/en einstein/Cp.s/en (of/Br.ma/en (the/Md/en theory/Cc.s/en) relativity/Cc.s/en))\n"
     ]
    }
   ],
   "source": [
    "edge = graph['parses'][0]['main_edge']\n",
    "print(edge)"
   ]
  },
  {
   "cell_type": "code",
   "execution_count": 33,
   "id": "6933a3a7",
   "metadata": {
    "slideshow": {
     "slide_type": "fragment"
    }
   },
   "outputs": [
    {
     "data": {
      "text/html": [
       "<span style=\"color:#303030\"><span style=\"font-weight:bold\">(</span><span style=\"color:#cb4b16\"><span style=\"color:#cb4b16\">developed</span><span style=\"color:#000000;font-weight:lighter\">/Pd.so.&lt;f-----/en</span> <div style=\"margin-left:20px;color:#268bd2\"><span style=\"color:#268bd2\">einstein</span><span style=\"color:#000000;font-weight:lighter\">/Cp.s/en</span> <div style=\"margin-left:20px;color:#268bd2\"><span style=\"font-weight:bold\">(</span><span style=\"color:#859900\"><span style=\"color:#859900\">of</span><span style=\"color:#000000;font-weight:lighter\">/Br.ma/en</span> <div style=\"margin-left:20px;color:#268bd2\"><span style=\"font-weight:bold\">(</span><span style=\"color:#dc322f\"><span style=\"color:#dc322f\">the</span><span style=\"color:#000000;font-weight:lighter\">/Md/en</span> <span style=\"color:#268bd2\"><span style=\"color:#268bd2\">theory</span><span style=\"color:#000000;font-weight:lighter\">/Cc.s/en</span><span style=\"color:#268bd2\"><span style=\"font-weight:bold\">)</span></span></div> <div style=\"margin-left:20px;color:#268bd2\"><span style=\"color:#268bd2\">relativity</span><span style=\"color:#000000;font-weight:lighter\">/Cc.s/en</span><span style=\"color:#268bd2\"><span style=\"font-weight:bold\">)</span></span><span style=\"color:#303030\"><span style=\"font-weight:bold\">)</span></span></div></span>"
      ],
      "text/plain": [
       "<IPython.core.display.HTML object>"
      ]
     },
     "metadata": {},
     "output_type": "display_data"
    }
   ],
   "source": [
    "show(edge)"
   ]
  },
  {
   "cell_type": "code",
   "execution_count": 34,
   "id": "2f71d091",
   "metadata": {
    "slideshow": {
     "slide_type": "subslide"
    }
   },
   "outputs": [
    {
     "data": {
      "text/html": [
       "<div style=\"background-color:#fcfcfc; padding:50px\"><div style=\"display:table;border:2px solid #fdf6e3;background-color:#eee8d5;border-radius:10px;padding:3px\"><div style=\"display:table-row\"><div style=\"display: table-cell; vertical-align: middle;background-color:#eee8d5;padding-left:5px\"><div style=\"padding:5px;background-color:#cb4b16;border:2px solid #fdf6e3; border-radius:10px;text-align:center\"><span style=\"color:#fdf6e3;font-weight:bold\">developed</span><span style=\"color:#eee8d5;font-weight:lighter\">/P.so</span></div></div><div style=\"display: table-cell; vertical-align: middle;background-color:#eee8d5;padding:5px\"><div style=\"display:table-row\"><div style=\"display: table-cell;vertical-align: middle\"><div style=\"padding:5px;background-color:#268bd2;border:2px solid #fdf6e3; border-radius:10px;text-align:center\"><span style=\"color:#fdf6e3;font-weight:bold\">einstein</span><span style=\"color:#eee8d5;font-weight:lighter\">/C</span></div></div><div style=\"width:5px\"></div><div style=\"display: table-cell;vertical-align: middle\"><div style=\"display:table;border:2px solid #fdf6e3;background-color:#268bd2;border-radius:10px;padding:3px\"><div style=\"display:table-row\"><div style=\"display: table-cell; vertical-align: middle;background-color:#268bd2;padding-left:5px\"><div style=\"padding:5px;background-color:#859900;border:2px solid #fdf6e3; border-radius:10px;text-align:center\"><span style=\"color:#fdf6e3;font-weight:bold\">of</span><span style=\"color:#eee8d5;font-weight:lighter\">/B.ma</span></div></div><div style=\"display: table-cell; vertical-align: middle;background-color:#268bd2;padding:5px\"><div style=\"display:table-row\"><div style=\"display: table-cell;vertical-align: middle\"><div style=\"display:table;border:2px solid #fdf6e3;background-color:#268bd2;border-radius:10px;padding:8px\"><div style=\"display:table-row\"><div style=\"display: table-row; vertical-align: top;background-color:#268bd2;padding:5px\"><div style=\"padding:5px;background-color:#dc322f;border:2px solid #fdf6e3; border-radius:10px;text-align:center\"><span style=\"color:#fdf6e3;font-weight:bold\">the</span><span style=\"color:#eee8d5;font-weight:lighter\">/M</span></div></div><div style=\"display: table-row; height:8px\"></div><div style=\"display: table-row; vertical-align: top;background-color:#268bd2;padding:5px\"><div style=\"display:table\"><div style=\"display: table-row\"><div style=\"padding:5px;background-color:#268bd2;border:2px solid #fdf6e3; border-radius:10px;text-align:center\"><span style=\"color:#fdf6e3;font-weight:bold\">theory</span><span style=\"color:#eee8d5;font-weight:lighter\">/C</span></div></div></div></div></div></div></div><div style=\"width:5px\"></div><div style=\"display: table-cell;vertical-align: middle\"><div style=\"padding:5px;background-color:#268bd2;border:2px solid #fdf6e3; border-radius:10px;text-align:center\"><span style=\"color:#fdf6e3;font-weight:bold\">relativity</span><span style=\"color:#eee8d5;font-weight:lighter\">/C</span></div></div></div></div></div></div></div></div></div></div></div></div>"
      ],
      "text/plain": [
       "<IPython.core.display.HTML object>"
      ]
     },
     "metadata": {},
     "output_type": "display_data"
    }
   ],
   "source": [
    "blocks(edge)"
   ]
  },
  {
   "cell_type": "code",
   "execution_count": 39,
   "id": "e1441429",
   "metadata": {
    "slideshow": {
     "slide_type": "fragment"
    }
   },
   "outputs": [
    {
     "data": {
      "text/plain": [
       "of/Br.ma/en"
      ]
     },
     "execution_count": 39,
     "metadata": {},
     "output_type": "execute_result"
    }
   ],
   "source": [
    "edge[2][0]"
   ]
  },
  {
   "cell_type": "code",
   "execution_count": 41,
   "id": "00dc9ddb",
   "metadata": {
    "slideshow": {
     "slide_type": "fragment"
    }
   },
   "outputs": [
    {
     "data": {
      "text/plain": [
       "'Rd'"
      ]
     },
     "execution_count": 41,
     "metadata": {},
     "output_type": "execute_result"
    }
   ],
   "source": [
    "edge.type()"
   ]
  },
  {
   "cell_type": "markdown",
   "id": "aa908b46",
   "metadata": {
    "slideshow": {
     "slide_type": "subslide"
    }
   },
   "source": [
    "#### Hyperedge operations"
   ]
  },
  {
   "cell_type": "code",
   "execution_count": 42,
   "id": "9a165434",
   "metadata": {
    "slideshow": {
     "slide_type": "subslide"
    }
   },
   "outputs": [],
   "source": [
    "from graphbrain import hedge, hgraph\n",
    "\n",
    "edge = hedge('(developed/Pd.so.<f-----/en einstein/Cp.s/en (of/Br.ma/en (the/Md/en theory/Cc.s/en) relativity/Cc.s/en))')"
   ]
  },
  {
   "cell_type": "code",
   "execution_count": 43,
   "id": "4ed5a69a",
   "metadata": {
    "slideshow": {
     "slide_type": "fragment"
    }
   },
   "outputs": [
    {
     "data": {
      "text/plain": [
       "(einstein/Cp.s/en, (of/Br.ma/en (the/Md/en theory/Cc.s/en) relativity/Cc.s/en))"
      ]
     },
     "execution_count": 43,
     "metadata": {},
     "output_type": "execute_result"
    }
   ],
   "source": [
    "edge[1::]"
   ]
  },
  {
   "cell_type": "code",
   "execution_count": 48,
   "id": "fe188480",
   "metadata": {
    "slideshow": {
     "slide_type": "fragment"
    }
   },
   "outputs": [
    {
     "data": {
      "text/plain": [
       "'the theory of relativity'"
      ]
     },
     "execution_count": 48,
     "metadata": {},
     "output_type": "execute_result"
    }
   ],
   "source": [
    "edge[2].label()"
   ]
  },
  {
   "cell_type": "code",
   "execution_count": 51,
   "id": "d04a0686",
   "metadata": {
    "slideshow": {
     "slide_type": "subslide"
    }
   },
   "outputs": [
    {
     "data": {
      "text/plain": [
       "{(developed/Pd.so.<f-----/en einstein/Cp.s/en (of/Br.ma/en (the/Md/en theory/Cc.s/en) relativity/Cc.s/en)),\n",
       " (of/Br.ma/en (the/Md/en theory/Cc.s/en) relativity/Cc.s/en),\n",
       " (the/Md/en theory/Cc.s/en),\n",
       " developed/Pd.so.<f-----/en,\n",
       " einstein/Cp.s/en,\n",
       " of/Br.ma/en,\n",
       " relativity/Cc.s/en,\n",
       " the/Md/en,\n",
       " theory/Cc.s/en}"
      ]
     },
     "execution_count": 51,
     "metadata": {},
     "output_type": "execute_result"
    }
   ],
   "source": [
    "edge.subedges()"
   ]
  },
  {
   "cell_type": "code",
   "execution_count": 52,
   "id": "fe1608cd",
   "metadata": {
    "slideshow": {
     "slide_type": "fragment"
    }
   },
   "outputs": [
    {
     "data": {
      "text/plain": [
       "[developed/Pd.so.<f-----/en,\n",
       " einstein/Cp.s/en,\n",
       " of/Br.ma/en,\n",
       " the/Md/en,\n",
       " theory/Cc.s/en,\n",
       " relativity/Cc.s/en]"
      ]
     },
     "execution_count": 52,
     "metadata": {},
     "output_type": "execute_result"
    }
   ],
   "source": [
    "edge.all_atoms()"
   ]
  },
  {
   "cell_type": "code",
   "execution_count": 60,
   "id": "b9876d24",
   "metadata": {
    "slideshow": {
     "slide_type": "subslide"
    }
   },
   "outputs": [
    {
     "data": {
      "text/plain": [
       "(developed/Pd.so.<f-----/en einstein/Cp.s/en (of/Br.ma/en (the/Md/en theory/Cc.s/en) relativity/Cc.s/en))"
      ]
     },
     "execution_count": 60,
     "metadata": {},
     "output_type": "execute_result"
    }
   ],
   "source": [
    "hg = hgraph('example.db')\n",
    "hg.add(edge)"
   ]
  },
  {
   "cell_type": "code",
   "execution_count": 61,
   "id": "ee0f9e37",
   "metadata": {
    "slideshow": {
     "slide_type": "fragment"
    }
   },
   "outputs": [
    {
     "data": {
      "text/plain": [
       "True"
      ]
     },
     "execution_count": 61,
     "metadata": {},
     "output_type": "execute_result"
    }
   ],
   "source": [
    "hg.exists(edge)"
   ]
  },
  {
   "cell_type": "code",
   "execution_count": 62,
   "id": "2c867215",
   "metadata": {
    "slideshow": {
     "slide_type": "fragment"
    }
   },
   "outputs": [
    {
     "data": {
      "text/plain": [
       "True"
      ]
     },
     "execution_count": 62,
     "metadata": {},
     "output_type": "execute_result"
    }
   ],
   "source": [
    "hg.exists(edge[1])"
   ]
  },
  {
   "cell_type": "code",
   "execution_count": 63,
   "id": "c742620a",
   "metadata": {
    "slideshow": {
     "slide_type": "subslide"
    }
   },
   "outputs": [],
   "source": [
    "edges = list(hg.all())"
   ]
  },
  {
   "cell_type": "code",
   "execution_count": 64,
   "id": "1da8a529",
   "metadata": {
    "slideshow": {
     "slide_type": "fragment"
    }
   },
   "outputs": [
    {
     "data": {
      "text/plain": [
       "[(developed/Pd.so.<f-----/en einstein/Cp.s/en (of/Br.ma/en (the/Md/en theory/Cc.s/en) relativity/Cc.s/en)),\n",
       " developed/Pd.so.<f-----/en,\n",
       " einstein/Cp.s/en,\n",
       " (of/Br.ma/en (the/Md/en theory/Cc.s/en) relativity/Cc.s/en),\n",
       " of/Br.ma/en,\n",
       " (the/Md/en theory/Cc.s/en),\n",
       " the/Md/en,\n",
       " theory/Cc.s/en,\n",
       " relativity/Cc.s/en]"
      ]
     },
     "execution_count": 64,
     "metadata": {},
     "output_type": "execute_result"
    }
   ],
   "source": [
    "edges"
   ]
  },
  {
   "cell_type": "code",
   "execution_count": 65,
   "id": "6cb7ed06",
   "metadata": {
    "slideshow": {
     "slide_type": "subslide"
    }
   },
   "outputs": [
    {
     "data": {
      "text/plain": [
       "[(developed/Pd.so.<f-----/en einstein/Cp.s/en (of/Br.ma/en (the/Md/en theory/Cc.s/en) relativity/Cc.s/en))]"
      ]
     },
     "execution_count": 65,
     "metadata": {},
     "output_type": "execute_result"
    }
   ],
   "source": [
    "list(hg.search(\"(*/P * *)\"))"
   ]
  },
  {
   "cell_type": "markdown",
   "id": "7aaaae87",
   "metadata": {
    "slideshow": {
     "slide_type": "slide"
    }
   },
   "source": [
    "# From natural language to SH"
   ]
  },
  {
   "cell_type": "markdown",
   "id": "d33cdecc",
   "metadata": {
    "slideshow": {
     "slide_type": "fragment"
    }
   },
   "source": [
    "- It is a hard task to annotate enough data to train a NL-SH parser\n",
    "- Better infer SH from grammatically-enriched representation --> UD\n",
    "- Two staged approach\n",
    "     - __α-stage__: a classifier that assigns a type to each token in a given sentence. \n",
    "     - __β-stage__: is a search tree-based algorithm that recursively applies rules to build SH from sequence of atoms\n",
    "- ML only in α-stage, a trivial classification problem"
   ]
  },
  {
   "cell_type": "markdown",
   "id": "47a8a68d",
   "metadata": {
    "slideshow": {
     "slide_type": "subslide"
    }
   },
   "source": [
    "## α-stage\n",
    "\n",
    "- With the usage of spaCy:\n",
    "    - Segmentation \n",
    "    - Tokenization \n",
    "    - POS tags \n",
    "    - Dependency labels\n",
    "    - NER\n",
    "- Generate features for each token \n",
    "- spaCy model: \"en_core_web_lg-2.0.0\""
   ]
  },
  {
   "cell_type": "markdown",
   "id": "d8e36b6d",
   "metadata": {
    "slideshow": {
     "slide_type": "subslide"
    }
   },
   "source": [
    "- __Data__:\n",
    "    - fiction books\n",
    "    - non-fiction books\n",
    "    - news\n",
    "    - scientific articles\n",
    "    - Wikipedia articles\n",
    "- Selected randomly 60 sentences from each (~300 sentences)\n",
    "- __6936__ tokens in full for classification\n",
    "- They were annotated manually for classification\n",
    "- Trained a random-forest classifier"
   ]
  },
  {
   "cell_type": "markdown",
   "id": "94b518bc",
   "metadata": {
    "slideshow": {
     "slide_type": "subslide"
    }
   },
   "source": [
    "### Features\n",
    "\n",
    "- Initial feature set:\n",
    "    - POS, Dependency edge, NER\n",
    "    - Word is among the most 15, 25, 50 and 100 common words (WORD15, WORD25, WORD50, WORD100)\n",
    "    - Word is punctuation\n",
    "    - Is it a ROOT in dep parse\n",
    "    - Does it have left or right children\n",
    "    - Capitalization shape (\"Alice\" -> Xxxxx)\n",
    "    - Relative features:\n",
    "        - Ones directly before or after the current one in the sentence\n",
    "        - Parent of the current one in the dep tree\n",
    "        - For all the relative, the above applied\n",
    "- __In total 33 features candidate__"
   ]
  },
  {
   "cell_type": "markdown",
   "id": "9e37b6fe",
   "metadata": {
    "slideshow": {
     "slide_type": "subslide"
    }
   },
   "source": [
    "### Feature selection\n",
    "\n",
    "- Iterative ablation procedure\n",
    "- Starts with all feature candidates (33)\n",
    "- 100 runs of the learning algorithm performed\n",
    "    - Each run randomly splits two-third for training and one-third for testing\n",
    "- The process repeated, excluding one feature at a time\n",
    "- The feature that most degrades mean accuracy is excluded\n",
    "    - If no negative impact --> exclude one with the highest p-value"
   ]
  },
  {
   "cell_type": "markdown",
   "id": "bdb74691",
   "metadata": {
    "slideshow": {
     "slide_type": "fragment"
    }
   },
   "source": [
    "- The procedure is repeated, ablating one feature at a time\n",
    "- The procedure stops one when no remaining feature fulfills the criterias\n",
    "- With p-value thresholds: .05 and .005\n",
    "- The final feature set contained 5 feature: F5 = {TAG, DEP, HDEP, HPOS, POS_AFTER}"
   ]
  },
  {
   "cell_type": "markdown",
   "id": "a3d38675",
   "metadata": {
    "slideshow": {
     "slide_type": "subslide"
    }
   },
   "source": [
    "![](feature_eval.PNG)"
   ]
  },
  {
   "cell_type": "markdown",
   "id": "a4be5b46",
   "metadata": {
    "slideshow": {
     "slide_type": "slide"
    }
   },
   "source": [
    "## β-stage\n",
    "\n",
    "- This stage transforms the sequence of atoms into a semantic hyperedge\n",
    "- It follows the α-stage\n",
    "- A bottom up process:\n",
    "    - Aggregates the deeper structure into a more complex one\n",
    "    - Recursively combines hyperedges into a final, well-formed hyperedge"
   ]
  },
  {
   "cell_type": "markdown",
   "id": "b332da16",
   "metadata": {
    "slideshow": {
     "slide_type": "subslide"
    }
   },
   "source": [
    "#### Algorithm\n",
    "\n",
    "| Element types | Resulting type |\n",
    "|---------------|----------------|\n",
    "| (M x)         | x              |\n",
    "| (B C C+)      | C              |\n",
    "| (T \\[CR\\])    | S              |\n",
    "| (P \\[CRS\\]+)  | P              |\n",
    "| (J x y+)      | x              |\n",
    "\n",
    "- The process starts with the typed atoms of the original sentence\n",
    "- At each step the current hyperedge is scanned from left to right to match a rule"
   ]
  },
  {
   "cell_type": "markdown",
   "id": "17f79951",
   "metadata": {
    "slideshow": {
     "slide_type": "subslide"
    }
   },
   "source": [
    "- If there are two matches:\n",
    "    - The algorithm assign a higher score to sub-sequences where all items are directly connected in UD\n",
    "    - In of tie, the function prefers sequence that contains the deepest atom in the UD tree\n",
    "    - If still a tie, rules are ordered empirically\n",
    "- If no match, the first two is connected with special conjunction (:/J)\n",
    "- This guarantees a valid SH at the end\n",
    "\n",
    "After this, __Argument roles__ are inferred from dependency labels."
   ]
  },
  {
   "cell_type": "markdown",
   "id": "b4b17406",
   "metadata": {
    "slideshow": {
     "slide_type": "subslide"
    }
   },
   "source": [
    "![](transform.PNG)"
   ]
  },
  {
   "cell_type": "markdown",
   "id": "aefbaf2d",
   "metadata": {
    "slideshow": {
     "slide_type": "subslide"
    }
   },
   "source": [
    "## Validation\n",
    "\n",
    "- The methods were manually tested on 100 sentences\n",
    "- These sentences were not part of the training or the test sets\n",
    "\n",
    "![](validation.PNG)"
   ]
  },
  {
   "cell_type": "markdown",
   "id": "d16ed4b9",
   "metadata": {
    "slideshow": {
     "slide_type": "subslide"
    }
   },
   "source": [
    "## Summary\n",
    "\n",
    "- Lots of similarities with our methods in 4lang (built on UD)\n",
    "- Only English support, but could be expanded to new languages\n",
    "- With feature-selection only keeping 3 features wasn't that much worse\n",
    "    - 3 features could be described programmatically --> no need for ML, the whole method is interpretable"
   ]
  },
  {
   "cell_type": "markdown",
   "id": "5374d3f8",
   "metadata": {
    "slideshow": {
     "slide_type": "subslide"
    }
   },
   "source": [
    "# Applications\n",
    "## Open-Information Extraction\n",
    "\n",
    "- Domain-free extraction from text of tuples (typically triplets) representing semantic relationships\n",
    "- Differs from RE tasks as the relationships are not given\n",
    "- The task is to extract all kinds of tuples possible\n",
    "- In the SH model it is possible to define a small set of tuples to achieve comparable results"
   ]
  },
  {
   "cell_type": "markdown",
   "id": "76519476",
   "metadata": {
    "slideshow": {
     "slide_type": "slide"
    }
   },
   "source": [
    "# Pattern language"
   ]
  },
  {
   "cell_type": "markdown",
   "id": "eae4c21e",
   "metadata": {
    "slideshow": {
     "slide_type": "subslide"
    }
   },
   "source": [
    "- Patterns are hyperedges themselves\n",
    "- Patterns are defined with the help of special atoms: wildcards and variables.\n",
    "- The former are useful for simply querying and matching, while the latter allow for the extraction of specific parts of a hyperedge."
   ]
  },
  {
   "cell_type": "markdown",
   "id": "6ac915e8",
   "metadata": {
    "slideshow": {
     "slide_type": "subslide"
    }
   },
   "source": [
    "We will demonstrate the pattern language of SH on the [WiRe57 : A Fine-Grained Benchmark for Open Information Extraction](https://arxiv.org/abs/1809.08962) dataset."
   ]
  },
  {
   "cell_type": "code",
   "execution_count": 78,
   "id": "f801dd57",
   "metadata": {
    "slideshow": {
     "slide_type": "fragment"
    }
   },
   "outputs": [],
   "source": [
    "import json\n",
    "\n",
    "data = {}\n",
    "\n",
    "with open(\"WiRe57_343-manual-oie.json\") as f:\n",
    "    data = json.load(f)"
   ]
  },
  {
   "cell_type": "markdown",
   "id": "3567979e",
   "metadata": {
    "slideshow": {
     "slide_type": "subslide"
    }
   },
   "source": [
    "After loading, we extract triplets and texts from the dataset:"
   ]
  },
  {
   "cell_type": "code",
   "execution_count": 104,
   "id": "c2112682",
   "metadata": {
    "slideshow": {
     "slide_type": "fragment"
    }
   },
   "outputs": [],
   "source": [
    "texts = []\n",
    "triplets = []\n",
    "\n",
    "for k in data:\n",
    "    for v in data[k]:\n",
    "        texts.append(v['sent'])\n",
    "        \n",
    "        triplets_by_sentence = []\n",
    "        for t in v['tuples']:\n",
    "            triplets_by_sentence.append({'REL': t['rel']['text'], 'ARG1': t['arg1']['text'], 'ARG2': t['arg2']['text']})\n",
    "            \n",
    "        triplets.append(triplets_by_sentence)"
   ]
  },
  {
   "cell_type": "code",
   "execution_count": 134,
   "id": "a47ed52f",
   "metadata": {
    "slideshow": {
     "slide_type": "subslide"
    }
   },
   "outputs": [
    {
     "data": {
      "text/plain": [
       "'The Greater Tokyo Area is the most populous metropolitan area in the world.'"
      ]
     },
     "execution_count": 134,
     "metadata": {},
     "output_type": "execute_result"
    }
   ],
   "source": [
    "texts[1]"
   ]
  },
  {
   "cell_type": "code",
   "execution_count": 135,
   "id": "2d5cf8ad",
   "metadata": {
    "slideshow": {
     "slide_type": "fragment"
    }
   },
   "outputs": [
    {
     "data": {
      "text/plain": [
       "[{'REL': 'is the seat of', 'ARG1': 'It/Tokyo', 'ARG2': 'the Emperor of Japan'},\n",
       " {'REL': 'is the seat of',\n",
       "  'ARG1': 'It/Tokyo',\n",
       "  'ARG2': 'the Japanese government'},\n",
       " {'REL': '[has]', 'ARG1': 'Japan', 'ARG2': '[an] Emperor'},\n",
       " {'REL': '[has]', 'ARG1': '[Japan]', 'ARG2': '[a] government'}]"
      ]
     },
     "execution_count": 135,
     "metadata": {},
     "output_type": "execute_result"
    }
   ],
   "source": [
    "triplets[2]"
   ]
  },
  {
   "cell_type": "markdown",
   "id": "5af88186",
   "metadata": {
    "slideshow": {
     "slide_type": "subslide"
    }
   },
   "source": [
    "Now, lets use our parser to parse the dataset into _SH_ format."
   ]
  },
  {
   "cell_type": "code",
   "execution_count": 110,
   "id": "a9c8c4e1",
   "metadata": {
    "slideshow": {
     "slide_type": "fragment"
    }
   },
   "outputs": [
    {
     "name": "stderr",
     "output_type": "stream",
     "text": [
      "100%|███████████████████████████████████████████████████████████████████████████████████████████████████████████████████████████████████████████████████████████████████████████████████████████████████████████████████████████████████████████████████████████████████████████████████████| 57/57 [00:02<00:00, 27.65it/s]\n"
     ]
    }
   ],
   "source": [
    "from tqdm import tqdm\n",
    "\n",
    "edges = []\n",
    "\n",
    "for text in tqdm(texts):\n",
    "    edges.append(parser.parse(text)['parses'][0]['main_edge'])"
   ]
  },
  {
   "cell_type": "code",
   "execution_count": 136,
   "id": "ff6956af",
   "metadata": {
    "slideshow": {
     "slide_type": "subslide"
    }
   },
   "outputs": [
    {
     "data": {
      "text/plain": [
       "(is/Pd.sc.|f--3s-/en (the/Md/en (+/B.am/. (+/B.am/. greater/Cp.s/en tokyo/Cp.s/en) area/Cp.s/en)) (in/Br.ma/en (the/Md/en ((most/M^/en populous/Ma/en) (metropolitan/Ma/en area/Cc.s/en))) (the/Md/en world/Cc.s/en)))"
      ]
     },
     "execution_count": 136,
     "metadata": {},
     "output_type": "execute_result"
    }
   ],
   "source": [
    "edges[1]"
   ]
  },
  {
   "cell_type": "code",
   "execution_count": 137,
   "id": "fc7d7f5e",
   "metadata": {
    "slideshow": {
     "slide_type": "fragment"
    }
   },
   "outputs": [
    {
     "data": {
      "text/html": [
       "<div style=\"background-color:#fcfcfc; padding:50px\"><div style=\"display:table;border:2px solid #fdf6e3;background-color:#eee8d5;border-radius:10px;padding:3px\"><div style=\"display:table-row\"><div style=\"display: table-cell; vertical-align: top;background-color:#eee8d5;padding:5px\"><div style=\"padding:5px;background-color:#cb4b16;border:2px solid #fdf6e3;border-radius:10px\"><span style=\"color:#fdf6e3;font-weight:bold\">is</span><span style=\"color:#eee8d5;font-weight:lighter\">/P.sc</span></div></div><div style=\"display: table-cell; vertical-align: top;background-color:#eee8d5;padding:5px\"><div style=\"display:table-row\"><div><div style=\"display:table;border:2px solid #fdf6e3;background-color:#268bd2;border-radius:10px;padding:3px\"><div style=\"display:table-row\"><div style=\"display: table-cell; vertical-align: middle;background-color:#268bd2;padding-left:5px\"><div style=\"padding:5px;background-color:#dc322f;border:2px solid #fdf6e3;border-radius:10px\"><span style=\"color:#fdf6e3;font-weight:bold\">the</span><span style=\"color:#eee8d5;font-weight:lighter\">/M</span></div></div><div style=\"display: table-cell; vertical-align: middle;background-color:#268bd2;padding:5px\"><div style=\"display:table-row\"><div style=\"display: table-cell;vertical-align: middle\"><div style=\"display:table;border:2px solid #fdf6e3;background-color:#268bd2;border-radius:10px;padding:3px\"><div style=\"display:table-row\"><div style=\"display: table-cell; vertical-align: top;background-color:#268bd2;padding:5px\"><div style=\"padding:5px;background-color:#859900;border:2px solid #fdf6e3;border-radius:10px\"><span style=\"color:#fdf6e3;font-weight:bold\">+</span><span style=\"color:#eee8d5;font-weight:lighter\">/B.am</span></div></div><div style=\"display: table-cell; vertical-align: top;background-color:#268bd2;padding:5px\"><div style=\"display:table-row\"><div><div style=\"display:table;border:2px solid #fdf6e3;background-color:#268bd2;border-radius:10px;padding:3px\"><div style=\"display:table-row\"><div style=\"display: table-cell; vertical-align: middle;background-color:#268bd2;padding-left:5px\"><div style=\"padding:5px;background-color:#859900;border:2px solid #fdf6e3;border-radius:10px\"><span style=\"color:#fdf6e3;font-weight:bold\">+</span><span style=\"color:#eee8d5;font-weight:lighter\">/B.am</span></div></div><div style=\"display: table-cell; vertical-align: middle;background-color:#268bd2;padding:5px\"><div style=\"display:table-row\"><div style=\"display: table-cell;vertical-align: middle\"><div style=\"padding:5px;background-color:#268bd2;border:2px solid #fdf6e3;border-radius:10px\"><span style=\"color:#fdf6e3;font-weight:bold\">greater</span><span style=\"color:#eee8d5;font-weight:lighter\">/C</span></div></div><div style=\"width:5px\"></div><div style=\"display: table-cell;vertical-align: middle\"><div style=\"padding:5px;background-color:#268bd2;border:2px solid #fdf6e3;border-radius:10px\"><span style=\"color:#fdf6e3;font-weight:bold\">tokyo</span><span style=\"color:#eee8d5;font-weight:lighter\">/C</span></div></div></div></div></div></div></div><div style=\"height:5px\"></div><div><div style=\"padding:5px;background-color:#268bd2;border:2px solid #fdf6e3;border-radius:10px\"><span style=\"color:#fdf6e3;font-weight:bold\">area</span><span style=\"color:#eee8d5;font-weight:lighter\">/C</span></div></div></div></div></div></div></div></div></div></div></div></div><div style=\"height:5px\"></div><div><div style=\"display:table;border:2px solid #fdf6e3;background-color:#268bd2;border-radius:10px;padding:3px\"><div style=\"display:table-row\"><div style=\"display: table-cell; vertical-align: top;background-color:#268bd2;padding:5px\"><div style=\"padding:5px;background-color:#859900;border:2px solid #fdf6e3;border-radius:10px\"><span style=\"color:#fdf6e3;font-weight:bold\">in</span><span style=\"color:#eee8d5;font-weight:lighter\">/B.ma</span></div></div><div style=\"display: table-cell; vertical-align: top;background-color:#268bd2;padding:5px\"><div style=\"display:table-row\"><div><div style=\"display:table;border:2px solid #fdf6e3;background-color:#268bd2;border-radius:10px;padding:3px\"><div style=\"display:table-row\"><div style=\"display: table-cell; vertical-align: middle;background-color:#268bd2;padding-left:5px\"><div style=\"padding:5px;background-color:#dc322f;border:2px solid #fdf6e3;border-radius:10px\"><span style=\"color:#fdf6e3;font-weight:bold\">the</span><span style=\"color:#eee8d5;font-weight:lighter\">/M</span></div></div><div style=\"display: table-cell; vertical-align: middle;background-color:#268bd2;padding:5px\"><div style=\"display:table-row\"><div style=\"display: table-cell;vertical-align: middle\"><div style=\"display:table;border:2px solid #fdf6e3;background-color:#268bd2;border-radius:10px;padding:3px\"><div style=\"display:table-row\"><div style=\"display: table-cell; vertical-align: middle;background-color:#268bd2;padding-left:5px\"><div style=\"display:table;border:2px solid #fdf6e3;background-color:#dc322f;border-radius:10px;padding:3px\"><div style=\"display:table-row\"><div style=\"display: table-cell; vertical-align: middle;background-color:#dc322f;padding-left:5px\"><div style=\"padding:5px;background-color:#dc322f;border:2px solid #fdf6e3;border-radius:10px\"><span style=\"color:#fdf6e3;font-weight:bold\">most</span><span style=\"color:#eee8d5;font-weight:lighter\">/M</span></div></div><div style=\"display: table-cell; vertical-align: middle;background-color:#dc322f;padding:5px\"><div style=\"display:table-row\"><div style=\"display: table-cell;vertical-align: middle\"><div style=\"padding:5px;background-color:#dc322f;border:2px solid #fdf6e3;border-radius:10px\"><span style=\"color:#fdf6e3;font-weight:bold\">populous</span><span style=\"color:#eee8d5;font-weight:lighter\">/M</span></div></div></div></div></div></div></div><div style=\"display: table-cell; vertical-align: middle;background-color:#268bd2;padding:5px\"><div style=\"display:table-row\"><div style=\"display: table-cell;vertical-align: middle\"><div style=\"display:table;border:2px solid #fdf6e3;background-color:#268bd2;border-radius:10px;padding:3px\"><div style=\"display:table-row\"><div style=\"display: table-cell; vertical-align: middle;background-color:#268bd2;padding-left:5px\"><div style=\"padding:5px;background-color:#dc322f;border:2px solid #fdf6e3;border-radius:10px\"><span style=\"color:#fdf6e3;font-weight:bold\">metropolitan</span><span style=\"color:#eee8d5;font-weight:lighter\">/M</span></div></div><div style=\"display: table-cell; vertical-align: middle;background-color:#268bd2;padding:5px\"><div style=\"display:table-row\"><div style=\"display: table-cell;vertical-align: middle\"><div style=\"padding:5px;background-color:#268bd2;border:2px solid #fdf6e3;border-radius:10px\"><span style=\"color:#fdf6e3;font-weight:bold\">area</span><span style=\"color:#eee8d5;font-weight:lighter\">/C</span></div></div></div></div></div></div></div></div></div></div></div></div></div></div></div></div></div><div style=\"height:5px\"></div><div><div style=\"display:table;border:2px solid #fdf6e3;background-color:#268bd2;border-radius:10px;padding:3px\"><div style=\"display:table-row\"><div style=\"display: table-cell; vertical-align: middle;background-color:#268bd2;padding-left:5px\"><div style=\"padding:5px;background-color:#dc322f;border:2px solid #fdf6e3;border-radius:10px\"><span style=\"color:#fdf6e3;font-weight:bold\">the</span><span style=\"color:#eee8d5;font-weight:lighter\">/M</span></div></div><div style=\"display: table-cell; vertical-align: middle;background-color:#268bd2;padding:5px\"><div style=\"display:table-row\"><div style=\"display: table-cell;vertical-align: middle\"><div style=\"padding:5px;background-color:#268bd2;border:2px solid #fdf6e3;border-radius:10px\"><span style=\"color:#fdf6e3;font-weight:bold\">world</span><span style=\"color:#eee8d5;font-weight:lighter\">/C</span></div></div></div></div></div></div></div></div></div></div></div></div></div></div></div></div></div>"
      ],
      "text/plain": [
       "<IPython.core.display.HTML object>"
      ]
     },
     "metadata": {},
     "output_type": "display_data"
    }
   ],
   "source": [
    "vblocks(edges[1])"
   ]
  },
  {
   "cell_type": "code",
   "execution_count": 174,
   "id": "44a6a762",
   "metadata": {
    "slideshow": {
     "slide_type": "subslide"
    }
   },
   "outputs": [],
   "source": [
    "from graphbrain.hyperedge import match_pattern\n",
    "\n",
    "patt = hedge('is/P.sc ARG1 ARG2')\n",
    "\n",
    "m = match_pattern(edges[1], patt)"
   ]
  },
  {
   "cell_type": "code",
   "execution_count": 176,
   "id": "426bb464",
   "metadata": {
    "slideshow": {
     "slide_type": "fragment"
    }
   },
   "outputs": [
    {
     "data": {
      "text/plain": [
       "[{'ARG1': (the/Md/en (+/B.am/. (+/B.am/. greater/Cp.s/en tokyo/Cp.s/en) area/Cp.s/en)),\n",
       "  'ARG2': (in/Br.ma/en (the/Md/en ((most/M^/en populous/Ma/en) (metropolitan/Ma/en area/Cc.s/en))) (the/Md/en world/Cc.s/en))}]"
      ]
     },
     "execution_count": 176,
     "metadata": {},
     "output_type": "execute_result"
    }
   ],
   "source": [
    "m"
   ]
  },
  {
   "cell_type": "code",
   "execution_count": 178,
   "id": "95aa1094",
   "metadata": {
    "slideshow": {
     "slide_type": "fragment"
    }
   },
   "outputs": [
    {
     "data": {
      "text/plain": [
       "'the greater tokyo area'"
      ]
     },
     "execution_count": 178,
     "metadata": {},
     "output_type": "execute_result"
    }
   ],
   "source": [
    "m[0]['ARG1'].label()"
   ]
  },
  {
   "cell_type": "code",
   "execution_count": 254,
   "id": "3a5f73e1",
   "metadata": {
    "slideshow": {
     "slide_type": "fragment"
    }
   },
   "outputs": [
    {
     "data": {
      "text/plain": [
       "'world'"
      ]
     },
     "execution_count": 254,
     "metadata": {},
     "output_type": "execute_result"
    }
   ],
   "source": [
    "m[0]['ARG2'].all_atoms()[-1].label()"
   ]
  },
  {
   "cell_type": "code",
   "execution_count": 231,
   "id": "de6caf25",
   "metadata": {
    "slideshow": {
     "slide_type": "subslide"
    }
   },
   "outputs": [],
   "source": [
    "hg = hgraph('wire.db')\n",
    "\n",
    "for edge in edges:\n",
    "    hg.add(edge)\n",
    "    \n",
    "def pattern_to_triplet(patt, edges):\n",
    "    for i, edge in enumerate(edges):\n",
    "        for e in edge.subedges():\n",
    "            if not e.is_atom():\n",
    "                m = match_pattern(e, patt)\n",
    "                if m:\n",
    "                    args = m[0]\n",
    "\n",
    "                    pattern_triplet = {}\n",
    "                    \n",
    "                    for k in args:\n",
    "                        pattern_triplet[k] = args[k]\n",
    "                    pattern_triplet['text'] = texts[i]\n",
    "                        \n",
    "                    yield pattern_triplet"
   ]
  },
  {
   "cell_type": "code",
   "execution_count": 240,
   "id": "6dda642b",
   "metadata": {
    "slideshow": {
     "slide_type": "subslide"
    }
   },
   "outputs": [
    {
     "name": "stdout",
     "output_type": "stream",
     "text": [
      "It is the seat of the Emperor of Japan and the Japanese government.\n"
     ]
    },
    {
     "data": {
      "text/html": [
       "<div style=\"background-color:#fcfcfc; padding:50px\"><div style=\"display:table;border:2px solid #fdf6e3;background-color:#eee8d5;border-radius:10px;padding:3px\"><div style=\"display:table-row\"><div style=\"display: table-cell; vertical-align: middle;background-color:#eee8d5;padding-left:5px\"><div style=\"padding:5px;background-color:#cb4b16;border:2px solid #fdf6e3; border-radius:10px;text-align:center\"><span style=\"color:#fdf6e3;font-weight:bold\">is</span><span style=\"color:#eee8d5;font-weight:lighter\">/P.sc</span></div></div><div style=\"display: table-cell; vertical-align: middle;background-color:#eee8d5;padding:5px\"><div style=\"display:table-row\"><div style=\"display: table-cell;vertical-align: middle\"><div style=\"padding:5px;background-color:#268bd2;border:2px solid #fdf6e3; border-radius:10px;text-align:center\"><span style=\"color:#fdf6e3;font-weight:bold\">it</span><span style=\"color:#eee8d5;font-weight:lighter\">/C</span></div></div><div style=\"width:5px\"></div><div style=\"display: table-cell;vertical-align: middle\"><div style=\"display:table;border:2px solid #fdf6e3;background-color:#268bd2;border-radius:10px;padding:3px\"><div style=\"display:table-row\"><div style=\"display: table-cell; vertical-align: middle;background-color:#268bd2;padding-left:5px\"><div style=\"padding:5px;background-color:#859900;border:2px solid #fdf6e3; border-radius:10px;text-align:center\"><span style=\"color:#fdf6e3;font-weight:bold\">of</span><span style=\"color:#eee8d5;font-weight:lighter\">/B.ma</span></div></div><div style=\"display: table-cell; vertical-align: middle;background-color:#268bd2;padding:5px\"><div style=\"display:table-row\"><div style=\"display: table-cell;vertical-align: middle\"><div style=\"display:table;border:2px solid #fdf6e3;background-color:#268bd2;border-radius:10px;padding:8px\"><div style=\"display:table-row\"><div style=\"display: table-row; vertical-align: top;background-color:#268bd2;padding:5px\"><div style=\"padding:5px;background-color:#dc322f;border:2px solid #fdf6e3; border-radius:10px;text-align:center\"><span style=\"color:#fdf6e3;font-weight:bold\">the</span><span style=\"color:#eee8d5;font-weight:lighter\">/M</span></div></div><div style=\"display: table-row; height:8px\"></div><div style=\"display: table-row; vertical-align: top;background-color:#268bd2;padding:5px\"><div style=\"display:table\"><div style=\"display: table-row\"><div style=\"padding:5px;background-color:#268bd2;border:2px solid #fdf6e3; border-radius:10px;text-align:center\"><span style=\"color:#fdf6e3;font-weight:bold\">seat</span><span style=\"color:#eee8d5;font-weight:lighter\">/C</span></div></div></div></div></div></div></div><div style=\"width:5px\"></div><div style=\"display: table-cell;vertical-align: middle\"><div style=\"display:table;border:2px solid #fdf6e3;background-color:#268bd2;border-radius:10px;padding:3px\"><div style=\"display:table-row\"><div style=\"display: table-cell; vertical-align: middle;background-color:#268bd2;padding-left:5px\"><div style=\"padding:5px;background-color:#b58900;border:2px solid #fdf6e3; border-radius:10px;text-align:center\"><span style=\"color:#fdf6e3;font-weight:bold\">and</span><span style=\"color:#eee8d5;font-weight:lighter\">/J</span></div></div><div style=\"display: table-cell; vertical-align: middle;background-color:#268bd2;padding:5px\"><div style=\"display:table-row\"><div style=\"display: table-cell;vertical-align: middle\"><div style=\"display:table;border:2px solid #fdf6e3;background-color:#268bd2;border-radius:10px;padding:3px\"><div style=\"display:table-row\"><div style=\"display: table-cell; vertical-align: middle;background-color:#268bd2;padding-left:5px\"><div style=\"padding:5px;background-color:#859900;border:2px solid #fdf6e3; border-radius:10px;text-align:center\"><span style=\"color:#fdf6e3;font-weight:bold\">of</span><span style=\"color:#eee8d5;font-weight:lighter\">/B.ma</span></div></div><div style=\"display: table-cell; vertical-align: middle;background-color:#268bd2;padding:5px\"><div style=\"display:table-row\"><div style=\"display: table-cell;vertical-align: middle\"><div style=\"display:table;border:2px solid #fdf6e3;background-color:#268bd2;border-radius:10px;padding:8px\"><div style=\"display:table-row\"><div style=\"display: table-row; vertical-align: top;background-color:#268bd2;padding:5px\"><div style=\"padding:5px;background-color:#dc322f;border:2px solid #fdf6e3; border-radius:10px;text-align:center\"><span style=\"color:#fdf6e3;font-weight:bold\">the</span><span style=\"color:#eee8d5;font-weight:lighter\">/M</span></div></div><div style=\"display: table-row; height:8px\"></div><div style=\"display: table-row; vertical-align: top;background-color:#268bd2;padding:5px\"><div style=\"display:table\"><div style=\"display: table-row\"><div style=\"padding:5px;background-color:#268bd2;border:2px solid #fdf6e3; border-radius:10px;text-align:center\"><span style=\"color:#fdf6e3;font-weight:bold\">emperor</span><span style=\"color:#eee8d5;font-weight:lighter\">/C</span></div></div></div></div></div></div></div><div style=\"width:5px\"></div><div style=\"display: table-cell;vertical-align: middle\"><div style=\"padding:5px;background-color:#268bd2;border:2px solid #fdf6e3; border-radius:10px;text-align:center\"><span style=\"color:#fdf6e3;font-weight:bold\">japan</span><span style=\"color:#eee8d5;font-weight:lighter\">/C</span></div></div></div></div></div></div></div><div style=\"width:5px\"></div><div style=\"display: table-cell;vertical-align: middle\"><div style=\"display:table;border:2px solid #fdf6e3;background-color:#268bd2;border-radius:10px;padding:8px\"><div style=\"display:table-row\"><div style=\"display: table-row; vertical-align: top;background-color:#268bd2;padding:5px\"><div style=\"padding:5px;background-color:#dc322f;border:2px solid #fdf6e3; border-radius:10px;text-align:center\"><span style=\"color:#fdf6e3;font-weight:bold\">the</span><span style=\"color:#eee8d5;font-weight:lighter\">/M</span></div></div><div style=\"display: table-row; height:8px\"></div><div style=\"display: table-row; vertical-align: top;background-color:#268bd2;padding:5px\"><div style=\"display:table\"><div style=\"display: table-row\"><div style=\"display:table;border:2px solid #fdf6e3;background-color:#268bd2;border-radius:10px;padding:8px\"><div style=\"display:table-row\"><div style=\"display: table-row; vertical-align: top;background-color:#268bd2;padding:5px\"><div style=\"padding:5px;background-color:#dc322f;border:2px solid #fdf6e3; border-radius:10px;text-align:center\"><span style=\"color:#fdf6e3;font-weight:bold\">japanese</span><span style=\"color:#eee8d5;font-weight:lighter\">/M</span></div></div><div style=\"display: table-row; height:8px\"></div><div style=\"display: table-row; vertical-align: top;background-color:#268bd2;padding:5px\"><div style=\"display:table\"><div style=\"display: table-row\"><div style=\"padding:5px;background-color:#268bd2;border:2px solid #fdf6e3; border-radius:10px;text-align:center\"><span style=\"color:#fdf6e3;font-weight:bold\">government</span><span style=\"color:#eee8d5;font-weight:lighter\">/C</span></div></div></div></div></div></div></div></div></div></div></div></div></div></div></div></div></div></div></div></div></div></div></div></div></div></div></div>"
      ],
      "text/plain": [
       "<IPython.core.display.HTML object>"
      ]
     },
     "metadata": {},
     "output_type": "display_data"
    }
   ],
   "source": [
    "print(texts[2])\n",
    "blocks(edges[2])"
   ]
  },
  {
   "cell_type": "code",
   "execution_count": 248,
   "id": "ed11e4ec",
   "metadata": {
    "slideshow": {
     "slide_type": "subslide"
    }
   },
   "outputs": [
    {
     "name": "stdout",
     "output_type": "stream",
     "text": [
      "(is/Pd.sc.|f--3s-/en it/Ci/en (of/Br.ma/en (the/Md/en seat/Cc.s/en) (of/Br.ma/en (the/Md/en emperor/Cp.s/en) japan/Cp.s/en)))\n",
      "(is/Pd.sc.|f--3s-/en it/Ci/en (of/Br.ma/en (the/Md/en seat/Cc.s/en) (the/Md/en (japanese/Ma/en government/Cc.s/en))))\n"
     ]
    }
   ],
   "source": [
    "from graphbrain.utils.conjunctions import *\n",
    "\n",
    "con_edges = conjunctions_decomposition(edges[2], concepts=True)\n",
    "\n",
    "for e in con_edges:\n",
    "    print(e)"
   ]
  },
  {
   "cell_type": "code",
   "execution_count": 252,
   "id": "f80a8e83",
   "metadata": {
    "slideshow": {
     "slide_type": "fragment"
    }
   },
   "outputs": [
    {
     "data": {
      "text/plain": [
       "[{'ARG1': it/Ci/en,\n",
       "  'ARG2': (of/Br.ma/en (the/Md/en seat/Cc.s/en) (the/Md/en (japanese/Ma/en government/Cc.s/en)))}]"
      ]
     },
     "execution_count": 252,
     "metadata": {},
     "output_type": "execute_result"
    }
   ],
   "source": [
    "match_pattern(con_edges[1], 'is/P.sc ARG1 ARG2')"
   ]
  },
  {
   "cell_type": "code",
   "execution_count": 261,
   "id": "f932313a",
   "metadata": {
    "slideshow": {
     "slide_type": "subslide"
    }
   },
   "outputs": [],
   "source": [
    "from graphbrain.patterns import PatternCounter\n",
    "\n",
    "pc = PatternCounter()"
   ]
  },
  {
   "cell_type": "code",
   "execution_count": 262,
   "id": "4b61a664",
   "metadata": {
    "slideshow": {
     "slide_type": "fragment"
    }
   },
   "outputs": [],
   "source": [
    "for e in hg.all():\n",
    "    if hg.is_primary(e):\n",
    "        pc.count(e)"
   ]
  },
  {
   "cell_type": "code",
   "execution_count": 263,
   "id": "945e1733",
   "metadata": {
    "slideshow": {
     "slide_type": "subslide"
    }
   },
   "outputs": [
    {
     "data": {
      "text/plain": [
       "[((*/M */C), 298),\n",
       " ((*/B.ma */C */C), 209),\n",
       " ((*/T */C), 75),\n",
       " ((*/M (*/M */C)), 65),\n",
       " ((*/M (*/B.ma */C */C)), 56),\n",
       " ((*/B.ma (*/M */C) */C), 47),\n",
       " ((*/B.mm */C */C), 39),\n",
       " ((*/B.ma (*/B.ma */C */C) */C), 39),\n",
       " ((*/B.ma */C (*/M */C)), 37),\n",
       " ((*/T (*/M */C)), 35),\n",
       " ((*/J */C */C), 33),\n",
       " ((*/B.ma */C (*/B.ma */C */C)), 27),\n",
       " ((*/M */M), 24),\n",
       " ((*/B.ma (*/M */C) (*/M */C)), 20),\n",
       " ((*/J */R */R), 19),\n",
       " ((*/J */C */R), 15),\n",
       " (((*/M */M) */C), 14),\n",
       " ((*/T (*/B.ma */C */C)), 14),\n",
       " ((*/J (*/B.ma */C */C) */C), 13),\n",
       " ((*/B.mm (*/M */C) */C), 13),\n",
       " ((*/P.so */C */C), 12),\n",
       " ((*/B.ma (*/B.ma */C */C) (*/B.ma */C */C)), 12),\n",
       " ((*/J (*/M */C) */C), 11),\n",
       " ((*/P.sc */C */C), 10),\n",
       " ((*/P.o */C), 10),\n",
       " ((*/P.sx */C */S), 10),\n",
       " ((*/P.sx */C (*/T */C)), 10),\n",
       " ((*/T (*/J */C */C)), 9),\n",
       " ((*/B.mm */C (*/B.ma */C */C)), 9),\n",
       " ((*/J (*/M */C) */R), 9),\n",
       " ((*/P.sc */C (*/B.ma */C */C)), 8),\n",
       " ((*/J */C (*/M */C)), 8),\n",
       " ((*/B.ma */C (*/B.mm */C */C)), 8),\n",
       " ((*/B.ma (*/B.ma */C */C) (*/M */C)), 8),\n",
       " ((*/T */R), 8),\n",
       " ((*/P.sox */C */C */S), 8),\n",
       " ((*/P.sox */C */C (*/T */C)), 8),\n",
       " ((*/M */P.sox), 7),\n",
       " ((*/B.ma (*/M */C) (*/B.ma */C */C)), 7),\n",
       " ((*/J */R */C), 7),\n",
       " ((*/J */C (*/J */C */C)), 7),\n",
       " ((*/B.mm (*/B.ma */C */C) */C), 6),\n",
       " ((*/B.mm */C (*/M */C)), 6),\n",
       " ((*/J */C (*/B.ma */C */C)), 6),\n",
       " (((*/M */P.sox) */C */C */S), 6),\n",
       " (((*/M */P.sox) */C */C (*/T */C)), 6),\n",
       " ((*/M */P.sx), 6),\n",
       " ((*/J (*/B.ma */C */C) (*/J */C */C)), 6),\n",
       " (((*/M */M) (*/M */C)), 5),\n",
       " ((*/B.ma */C (*/J */C */C)), 5),\n",
       " ((*/J */R (*/P.o */C)), 5),\n",
       " ((*/P.scx */C */C */S), 5),\n",
       " ((*/B */C */C), 5),\n",
       " ((*/J (*/M */C) (*/M */C)), 5),\n",
       " ((*/P.so */C (*/M */C)), 5),\n",
       " ((*/P.sox */C (*/M */C) */S), 5),\n",
       " ((*/P.sox */C (*/M */C) (*/T */C)), 5),\n",
       " ((*/B.mm */C (*/J */C */C)), 5),\n",
       " ((*/P.o (*/B.ma */C */C)), 5),\n",
       " ((*/B.mm */C (*/J */C */R)), 5),\n",
       " ((*/J (*/B.ma */C */C) (*/B.ma */C */C)), 4),\n",
       " ((*/P.sc (*/M */C) */C), 4),\n",
       " ((*/B.ma (*/M */C) (*/B.mm */C */C)), 4),\n",
       " (((*/M */P.sox) */C (*/M */C) */S), 4),\n",
       " (((*/M */P.sox) */C (*/M */C) (*/T */C)), 4),\n",
       " ((*/M (*/M */M)), 4),\n",
       " (((*/M */P.sx) */C */S), 4),\n",
       " (((*/M */P.sx) */C (*/T */C)), 4),\n",
       " ((*/M */J), 4),\n",
       " ((*/M (*/B.mm */C */C)), 4),\n",
       " (((*/M */P.so) */C */C), 4),\n",
       " ((*/M */P.so), 4),\n",
       " ((*/M */P.px), 4),\n",
       " ((*/P.sr */C */R), 4),\n",
       " ((*/B.mm (*/B.mm */C */C) */C), 4),\n",
       " ((*/P.so */C (*/B.ma */C */C)), 4),\n",
       " ((*/J */R */S), 4),\n",
       " ((*/P.sc (*/M */C) (*/B.ma */C */C)), 3),\n",
       " ((*/B.ma (*/M */C) (*/J */C */C)), 3),\n",
       " ((*/P.o (*/M */C)), 3),\n",
       " ((*/B.aa */C */C), 3),\n",
       " ((*/P.x */S), 3),\n",
       " ((*/P.x (*/T */C)), 3),\n",
       " ((*/P.scx */C (*/M */C) */S), 3),\n",
       " ((*/J */C (*/B.mm */C */C)), 3),\n",
       " ((*/B.mm (*/M */C) (*/B.ma */C */C)), 3),\n",
       " ((*/M */P.?), 3),\n",
       " ((*/M */P.p), 3),\n",
       " ((*/P.s */C), 3),\n",
       " ((*/P.sox (*/M */C) */C */S), 3),\n",
       " ((*/P.sox (*/M */C) */C (*/T */C)), 3),\n",
       " ((*/P.scx */C */C (*/T */C)), 3),\n",
       " ((*/P.px */C */S), 3),\n",
       " (((*/M */P.px) */C */S), 3),\n",
       " ((*/P.px */C (*/T */C)), 3),\n",
       " (((*/M */P.px) */C (*/T */C)), 3),\n",
       " ((*/P.ox */C */S), 3),\n",
       " ((*/P.ox */C (*/T */C)), 3),\n",
       " ((*/T (*/B.mm */C */C)), 3),\n",
       " ((*/B.mm */C (*/B.mm */C */C)), 3),\n",
       " ((*/J */R (*/T */C)), 3),\n",
       " ((*/B.mm (*/B.ma */C */C) (*/M */C)), 2),\n",
       " ((*/J (*/B.ma */C */C) (*/M */C)), 2),\n",
       " ((*/M (*/B.aa */C */C)), 2),\n",
       " (((*/M */P.x) */S), 2),\n",
       " (((*/M */P.x) (*/T */C)), 2),\n",
       " ((*/M */P.x), 2),\n",
       " ((*/P.sr */C */C), 2),\n",
       " (((*/M */P.sr) */C */C), 2),\n",
       " ((*/P.sr */C (*/B.mm */C */C)), 2),\n",
       " (((*/M */P.sr) */C (*/B.mm */C */C)), 2),\n",
       " ((*/M */P.sr), 2),\n",
       " ((*/B.mm (*/M */C) (*/M */C)), 2),\n",
       " ((*/M */P.scx), 2),\n",
       " ((*/J */S */R), 2),\n",
       " ((*/J (*/T */R) */R), 2),\n",
       " ((*/P */C), 2),\n",
       " ((*/P.p */C), 2),\n",
       " (((*/M */P.p) */C), 2),\n",
       " ((*/J (*/J */C */R) */R), 2),\n",
       " ((*/P.scx */C (*/B.ma */C */C) */S), 2),\n",
       " (((*/M */P.sox) (*/M */C) */C */S), 2),\n",
       " ((*/P.sox (*/M */C) (*/M */C) */S), 2),\n",
       " (((*/M */P.sox) (*/M */C) (*/M */C) */S), 2),\n",
       " (((*/M */P.sox) (*/M */C) */C (*/T */C)), 2),\n",
       " ((*/P.sox (*/M */C) (*/M */C) (*/T */C)), 2),\n",
       " (((*/M */P.sox) (*/M */C) (*/M */C) (*/T */C)), 2),\n",
       " ((*/J (*/P.scx */C */C */S) */R), 2),\n",
       " ((*/P.scx (*/B.ma */C */C) */C */S), 2),\n",
       " ((*/P.scx (*/B.ma */C */C) (*/M */C) */S), 2),\n",
       " ((*/P.scx (*/B.ma */C */C) */C (*/T */C)), 2),\n",
       " ((*/P.scx */C (*/M */C) (*/T */C)), 2),\n",
       " ((*/P.scx (*/B.ma */C */C) (*/M */C) (*/T */C)), 2),\n",
       " ((*/J (*/M */C) (*/B.ma */C */C)), 2),\n",
       " ((*/P.soxx */C */C */S */S), 2),\n",
       " ((*/P.soxx */C */C (*/T */C) */S), 2),\n",
       " ((*/P.soxx */C */C */S (*/T */C)), 2),\n",
       " ((*/P.soxx */C */C (*/T */C) (*/T */C)), 2),\n",
       " ((*/B.mm (*/B.ma */C */C) (*/B.ma */C */C)), 2),\n",
       " ((*/M (*/M */P.sx)), 2),\n",
       " ((*/J */R (*/M */C)), 2),\n",
       " (((*/M */P.s) */C), 2),\n",
       " ((*/M */P.s), 2),\n",
       " ((*/P.r */R), 2),\n",
       " ((*/J */R (*/P.sc */C */C)), 2),\n",
       " (((*/M */P.sc) */C */C), 2),\n",
       " (((*/M */P.sc) */C (*/B.ma */C */C)), 2),\n",
       " ((*/M */P.sc), 2),\n",
       " ((*/P.sox (*/B.ma */C */C) */C */S), 2),\n",
       " ((*/P.sox (*/B.ma */C */C) (*/M */C) */S), 2),\n",
       " ((*/P.sox (*/B.ma */C */C) */C (*/T */C)), 2),\n",
       " ((*/P.sox (*/B.ma */C */C) (*/M */C) (*/T */C)), 2),\n",
       " ((*/P.c */C), 2),\n",
       " (((*/M */P.c) */C), 2),\n",
       " ((*/M */P.c), 2),\n",
       " ((*/P.xx */S */S), 2),\n",
       " ((*/P.xx (*/T */C) */S), 2),\n",
       " ((*/P.xx */S (*/T */C)), 2),\n",
       " ((*/P.xx (*/T */C) (*/T */C)), 2),\n",
       " (((*/M */P.so) */C (*/M */C)), 2),\n",
       " ((*/J */R (*/P.so */C */C)), 2),\n",
       " ((*/P.so (*/M */C) */C), 2),\n",
       " ((*/P.sxr */C */S */R), 2),\n",
       " ((*/P.sxr */C (*/T */C) */R), 2),\n",
       " ((*/P.sc */C (*/M */C)), 2),\n",
       " ((*/B.mm (*/J */C */C) */C), 2),\n",
       " ((*/J (*/P.sc */C */C) */R), 2),\n",
       " ((*/J */R (*/B.mm */C */C)), 2),\n",
       " ((*/B.mm (*/J */C */R) */C), 2),\n",
       " ((*/J (*/B.mm */C */C) */R), 2),\n",
       " (((*/M */P.o) */C), 2),\n",
       " ((*/M */P.o), 2),\n",
       " ((*/P.sx (*/M */C) */S), 2),\n",
       " ((*/P.sx (*/M */C) (*/T */C)), 2),\n",
       " ((*/P.o? */C */R), 2),\n",
       " ((*/J */C (*/P.so */C */C)), 2),\n",
       " ((*/P.x */C), 2),\n",
       " ((*/M */P.pr), 2),\n",
       " ((*/P.so (*/B.mm */C */C) */C), 2),\n",
       " ((*/J */C (*/P.oo */C */C)), 2),\n",
       " ((*/P.oo */C */C), 2),\n",
       " ((*/M */P.sxxx), 2),\n",
       " (((*/M */M) */J), 2),\n",
       " (((*/M */T) */C), 2),\n",
       " ((*/M */T), 2),\n",
       " ((*/M */P.cx), 2),\n",
       " (((*/M */M) (*/B.ma */C */C)), 2),\n",
       " ((*/P.ssc */C */C */C), 1),\n",
       " ((*/P.ssc */C (*/B.mm */C */C) */C), 1),\n",
       " ((*/P.ssc */C */C (*/J */C */C)), 1),\n",
       " ((*/P.ssc */C (*/B.mm */C */C) (*/J */C */C)), 1),\n",
       " ((*/J (*/P.sxx */C */S */S) */R), 1),\n",
       " ((*/J (*/P.sxx */C */S */S) (*/P.o */C)), 1),\n",
       " ((*/P.sxx */C */S */S), 1),\n",
       " ((*/P.sxx */C (*/T */C) */S), 1),\n",
       " ((*/P.sxx */C */S (*/T */C)), 1),\n",
       " ((*/P.sxx */C (*/T */C) (*/T */C)), 1),\n",
       " ((*/J (*/P.scxx */C */C */R */S) */R), 1),\n",
       " ((*/J */R (*/P.sr */C */C)), 1),\n",
       " ((*/J (*/P.scxx */C */C */R */S) (*/P.sr */C */C)), 1),\n",
       " ((*/P.scxx */C */C */R */S), 1),\n",
       " (((*/M */P.scxx) */C */C */R */S), 1),\n",
       " ((*/P.scxx */C (*/B.ma */C */C) */R */S), 1),\n",
       " (((*/M */P.scxx) */C (*/B.ma */C */C) */R */S), 1),\n",
       " ((*/P.scxx */C */C (*/P.x */S) */S), 1),\n",
       " (((*/M */P.scxx) */C */C (*/P.x */S) */S), 1),\n",
       " ((*/P.scxx */C (*/B.ma */C */C) (*/P.x */S) */S), 1),\n",
       " (((*/M */P.scxx) */C (*/B.ma */C */C) (*/P.x */S) */S), 1),\n",
       " ((*/P.scxx */C */C */R (*/T */C)), 1),\n",
       " (((*/M */P.scxx) */C */C */R (*/T */C)), 1),\n",
       " ((*/P.scxx */C (*/B.ma */C */C) */R (*/T */C)), 1),\n",
       " (((*/M */P.scxx) */C (*/B.ma */C */C) */R (*/T */C)), 1),\n",
       " ((*/P.scxx */C */C (*/P.x */S) (*/T */C)), 1),\n",
       " (((*/M */P.scxx) */C */C (*/P.x */S) (*/T */C)), 1),\n",
       " ((*/P.scxx */C (*/B.ma */C */C) (*/P.x */S) (*/T */C)), 1),\n",
       " (((*/M */P.scxx) */C (*/B.ma */C */C) (*/P.x */S) (*/T */C)), 1),\n",
       " ((*/M */P.scxx), 1),\n",
       " ((*/P.sr (*/B.ma */C */C) */C), 1),\n",
       " (((*/M */P.sr) (*/B.ma */C */C) */C), 1),\n",
       " ((*/P.sr (*/B.ma */C */C) (*/B.mm */C */C)), 1),\n",
       " (((*/M */P.sr) (*/B.ma */C */C) (*/B.mm */C */C)), 1),\n",
       " ((*/P.poxr */C */C */S */R), 1),\n",
       " (((*/M */P.poxr) */C */C */S */R), 1),\n",
       " ((*/P.poxr */C */C (*/T */C) */R), 1),\n",
       " (((*/M */P.poxr) */C */C (*/T */C) */R), 1),\n",
       " ((*/P.poxr */C */C */S (*/P.scx */C */C */S)), 1),\n",
       " (((*/M */P.poxr) */C */C */S (*/P.scx */C */C */S)), 1),\n",
       " ((*/P.poxr */C */C (*/T */C) (*/P.scx */C */C */S)), 1),\n",
       " (((*/M */P.poxr) */C */C (*/T */C) (*/P.scx */C */C */S)), 1),\n",
       " ((*/M */P.poxr), 1),\n",
       " (((*/M */P.scx) */C */C */S), 1),\n",
       " (((*/M */P.scx) */C (*/M */C) */S), 1),\n",
       " ((*/P.scx */C */C (*/T */R)), 1),\n",
       " (((*/M */P.scx) */C */C (*/T */R)), 1),\n",
       " ((*/P.scx */C (*/M */C) (*/T */R)), 1),\n",
       " (((*/M */P.scx) */C (*/M */C) (*/T */R)), 1),\n",
       " ((*/T (*/P.soxxx */C */C */S */S */S)), 1),\n",
       " ((*/P.soxxx */C */C */S */S */S), 1),\n",
       " ((*/P.soxxx (*/B.ma */C */C) */C */S */S */S), 1),\n",
       " ((*/P.soxxx */C (*/M */C) */S */S */S), 1),\n",
       " ((*/P.soxxx (*/B.ma */C */C) (*/M */C) */S */S */S), 1),\n",
       " ((*/P.soxxx */C */C (*/T */C) */S */S), 1),\n",
       " ((*/P.soxxx (*/B.ma */C */C) */C (*/T */C) */S */S), 1),\n",
       " ((*/P.soxxx */C (*/M */C) (*/T */C) */S */S), 1),\n",
       " ((*/P.soxxx (*/B.ma */C */C) (*/M */C) (*/T */C) */S */S), 1),\n",
       " ((*/P.soxxx */C */C */S (*/T */C) */S), 1),\n",
       " ((*/P.soxxx (*/B.ma */C */C) */C */S (*/T */C) */S), 1),\n",
       " ((*/P.soxxx */C (*/M */C) */S (*/T */C) */S), 1),\n",
       " ((*/P.soxxx (*/B.ma */C */C) (*/M */C) */S (*/T */C) */S), 1),\n",
       " ((*/P.soxxx */C */C (*/T */C) (*/T */C) */S), 1),\n",
       " ((*/P.soxxx (*/B.ma */C */C) */C (*/T */C) (*/T */C) */S), 1),\n",
       " ((*/P.soxxx */C (*/M */C) (*/T */C) (*/T */C) */S), 1),\n",
       " ((*/P.soxxx (*/B.ma */C */C) (*/M */C) (*/T */C) (*/T */C) */S), 1),\n",
       " ((*/P.soxxx */C */C */S */S (*/T */C)), 1),\n",
       " ((*/P.soxxx (*/B.ma */C */C) */C */S */S (*/T */C)), 1),\n",
       " ((*/P.soxxx */C (*/M */C) */S */S (*/T */C)), 1),\n",
       " ((*/P.soxxx (*/B.ma */C */C) (*/M */C) */S */S (*/T */C)), 1),\n",
       " ((*/P.soxxx */C */C (*/T */C) */S (*/T */C)), 1),\n",
       " ((*/P.soxxx (*/B.ma */C */C) */C (*/T */C) */S (*/T */C)), 1),\n",
       " ((*/P.soxxx */C (*/M */C) (*/T */C) */S (*/T */C)), 1),\n",
       " ((*/P.soxxx (*/B.ma */C */C) (*/M */C) (*/T */C) */S (*/T */C)), 1),\n",
       " ((*/P.soxxx */C */C */S (*/T */C) (*/T */C)), 1),\n",
       " ((*/P.soxxx (*/B.ma */C */C) */C */S (*/T */C) (*/T */C)), 1),\n",
       " ((*/P.soxxx */C (*/M */C) */S (*/T */C) (*/T */C)), 1),\n",
       " ((*/P.soxxx (*/B.ma */C */C) (*/M */C) */S (*/T */C) (*/T */C)), 1),\n",
       " ((*/P.soxxx */C */C (*/T */C) (*/T */C) (*/T */C)), 1),\n",
       " ((*/P.soxxx (*/B.ma */C */C) */C (*/T */C) (*/T */C) (*/T */C)), 1),\n",
       " ((*/P.soxxx */C (*/M */C) (*/T */C) (*/T */C) (*/T */C)), 1),\n",
       " ((*/P.soxxx (*/B.ma */C */C) (*/M */C) (*/T */C) (*/T */C) (*/T */C)), 1),\n",
       " ((*/P.pxx */C */S */S), 1),\n",
       " (((*/M */P.pxx) */C */S */S), 1),\n",
       " ((*/P.pxx (*/B.ma */C */C) */S */S), 1),\n",
       " (((*/M */P.pxx) (*/B.ma */C */C) */S */S), 1),\n",
       " ((*/P.pxx */C (*/T */C) */S), 1),\n",
       " (((*/M */P.pxx) */C (*/T */C) */S), 1),\n",
       " ((*/P.pxx (*/B.ma */C */C) (*/T */C) */S), 1),\n",
       " (((*/M */P.pxx) (*/B.ma */C */C) (*/T */C) */S), 1),\n",
       " ((*/P.pxx */C */S (*/T */C)), 1),\n",
       " (((*/M */P.pxx) */C */S (*/T */C)), 1),\n",
       " ((*/P.pxx (*/B.ma */C */C) */S (*/T */C)), 1),\n",
       " (((*/M */P.pxx) (*/B.ma */C */C) */S (*/T */C)), 1),\n",
       " ((*/P.pxx */C (*/T */C) (*/T */C)), 1),\n",
       " (((*/M */P.pxx) */C (*/T */C) (*/T */C)), 1),\n",
       " ((*/P.pxx (*/B.ma */C */C) (*/T */C) (*/T */C)), 1),\n",
       " (((*/M */P.pxx) (*/B.ma */C */C) (*/T */C) (*/T */C)), 1),\n",
       " ((*/M */P.pxx), 1),\n",
       " ((*/J (*/B.ma */C */C) (*/B.mm */C */C)), 1),\n",
       " ((*/P.? */S), 1),\n",
       " (((*/J */P.? */R) */S), 1),\n",
       " ((*/P.? (*/J */S */S)), 1),\n",
       " (((*/J */P.? */R) (*/J */S */S)), 1),\n",
       " ((*/J */P.? */R), 1),\n",
       " ((*/J (*/M */P.?) */R), 1),\n",
       " ((*/J */P.? (*/P */S */S)), 1),\n",
       " ((*/J (*/M */P.?) (*/P */S */S)), 1),\n",
       " ((*/M (*/M */P.?)), 1),\n",
       " ((*/P */S */S), 1),\n",
       " ((*/P (*/T */C) */S), 1),\n",
       " ((*/P */S (*/J */S */R)), 1),\n",
       " ((*/P (*/T */C) (*/J */S */R)), 1),\n",
       " ((*/J */S (*/P */C)), 1),\n",
       " ((*/J (*/T */R) (*/P */C)), 1),\n",
       " ((*/T (*/P */C)), 1),\n",
       " ((*/P (*/B */C */C)), 1),\n",
       " ((*/B (*/B */C */C) */C), 1),\n",
       " ((*/B */C (*/B */C */C)), 1),\n",
       " ((*/B (*/B */C */C) (*/B */C */C)), 1),\n",
       " ((*/B */C (*/J */C */C)), 1),\n",
       " ((*/B (*/M */C) */C), 1),\n",
       " ((*/J */S */S), 1),\n",
       " ((*/J (*/T */R) */S), 1),\n",
       " ((*/J */S (*/T */C)), 1),\n",
       " ((*/J (*/T */R) (*/T */C)), 1),\n",
       " ((*/T (*/P.p */C)), 1),\n",
       " ((*/M (*/M */P.p)), 1),\n",
       " ((*/J */C (*/P.scx */C */C */S)), 1),\n",
       " ((*/J (*/J */C */R) (*/P.scx */C */C */S)), 1),\n",
       " ((*/J */C (*/P.o?? */C */R */R)), 1),\n",
       " ((*/J (*/M */C) (*/P.o?? */C */R */R)), 1),\n",
       " ((*/P.o?? */C */R */R), 1),\n",
       " ((*/P.o?? (*/B.ma */C */C) */R */R), 1),\n",
       " ((*/P.o?? */C (*/P.sx */C */S) */R), 1),\n",
       " ((*/P.o?? (*/B.ma */C */C) (*/P.sx */C */S) */R), 1),\n",
       " ((*/P.o?? */C */R (*/P.so */C */C)), 1),\n",
       " ((*/P.o?? (*/B.ma */C */C) */R (*/P.so */C */C)), 1),\n",
       " ((*/P.o?? */C (*/P.sx */C */S) (*/P.so */C */C)), 1),\n",
       " ((*/P.o?? (*/B.ma */C */C) (*/P.sx */C */S) (*/P.so */C */C)), 1),\n",
       " ((*/P.scx */C */C (*/J */S */R)), 1),\n",
       " ((*/P.scx */C (*/B.ma */C */C) (*/J */S */R)), 1),\n",
       " ((*/J */S (*/P.cx */C */S)), 1),\n",
       " ((*/J (*/T */R) (*/P.cx */C */S)), 1),\n",
       " ((*/T (*/P.s */C)), 1),\n",
       " ((*/P.cx */C */S), 1),\n",
       " ((*/P.cx (*/M */C) */S), 1),\n",
       " ((*/P.cx */C (*/T */C)), 1),\n",
       " ((*/P.cx (*/M */C) (*/T */C)), 1),\n",
       " ((*/J (*/P.scx */C */C */S) (*/P.o */C)), 1),\n",
       " ((*/P.scx (*/M */C) */C */S), 1),\n",
       " ((*/P.scx (*/M */C) (*/B.ma */C */C) */S), 1),\n",
       " ((*/P.scx (*/M */C) */C (*/T */C)), 1),\n",
       " ((*/P.scx */C (*/B.ma */C */C) (*/T */C)), 1),\n",
       " ((*/P.scx (*/M */C) (*/B.ma */C */C) (*/T */C)), 1),\n",
       " ((*/P.soxx (*/M */C) */C */S */S), 1),\n",
       " ((*/P.soxx */C (*/B.mm */C */C) */S */S), 1),\n",
       " ((*/P.soxx (*/M */C) (*/B.mm */C */C) */S */S), 1),\n",
       " ((*/P.soxx (*/M */C) */C (*/T */C) */S), 1),\n",
       " ((*/P.soxx */C (*/B.mm */C */C) (*/T */C) */S), 1),\n",
       " ((*/P.soxx (*/M */C) (*/B.mm */C */C) (*/T */C) */S), 1),\n",
       " ((*/P.soxx (*/M */C) */C */S (*/T */C)), 1),\n",
       " ((*/P.soxx */C (*/B.mm */C */C) */S (*/T */C)), 1),\n",
       " ((*/P.soxx (*/M */C) (*/B.mm */C */C) */S (*/T */C)), 1),\n",
       " ((*/P.soxx (*/M */C) */C (*/T */C) (*/T */C)), 1),\n",
       " ((*/P.soxx */C (*/B.mm */C */C) (*/T */C) (*/T */C)), 1),\n",
       " ((*/P.soxx (*/M */C) (*/B.mm */C */C) (*/T */C) (*/T */C)), 1),\n",
       " (((*/M */J) */R */C), 1),\n",
       " ((*/J (*/P.s */C) */C), 1),\n",
       " (((*/M */J) (*/P.s */C) */C), 1),\n",
       " (((*/M */J) */R (*/M */C)), 1),\n",
       " ((*/J (*/P.s */C) (*/M */C)), 1),\n",
       " (((*/M */J) (*/P.s */C) (*/M */C)), 1),\n",
       " ((*/P.s (*/M */C)), 1),\n",
       " (((*/M */P.s) (*/M */C)), 1),\n",
       " ((*/P.soxx */C */C */S */R), 1),\n",
       " ((*/P.soxx (*/M */C) */C */S */R), 1),\n",
       " ((*/P.soxx */C (*/M */C) */S */R), 1),\n",
       " ((*/P.soxx (*/M */C) (*/M */C) */S */R), 1),\n",
       " ((*/P.soxx */C */C (*/T */R) */R), 1),\n",
       " ((*/P.soxx (*/M */C) */C (*/T */R) */R), 1),\n",
       " ((*/P.soxx */C (*/M */C) (*/T */R) */R), 1),\n",
       " ((*/P.soxx (*/M */C) (*/M */C) (*/T */R) */R), 1),\n",
       " ((*/P.soxx */C */C */S (*/P.r */R)), 1),\n",
       " ((*/P.soxx (*/M */C) */C */S (*/P.r */R)), 1),\n",
       " ((*/P.soxx */C (*/M */C) */S (*/P.r */R)), 1),\n",
       " ((*/P.soxx (*/M */C) (*/M */C) */S (*/P.r */R)), 1),\n",
       " ((*/P.soxx */C */C (*/T */R) (*/P.r */R)), 1),\n",
       " ((*/P.soxx (*/M */C) */C (*/T */R) (*/P.r */R)), 1),\n",
       " ((*/P.soxx */C (*/M */C) (*/T */R) (*/P.r */R)), 1),\n",
       " ((*/P.soxx (*/M */C) (*/M */C) (*/T */R) (*/P.r */R)), 1),\n",
       " ((*/T (*/P.xx */S */R)), 1),\n",
       " ((*/P.xx */S */R), 1),\n",
       " ((*/P.xx (*/T */C) */R), 1),\n",
       " ((*/P.xx */S (*/P.oxxx */C */S */S */C)), 1),\n",
       " ((*/P.xx (*/T */C) (*/P.oxxx */C */S */S */C)), 1),\n",
       " ((*/P.oxxx */C */S */S */C), 1),\n",
       " (((*/M */P.oxxx) */C */S */S */C), 1),\n",
       " ((*/P.oxxx (*/M */C) */S */S */C), 1),\n",
       " (((*/M */P.oxxx) (*/M */C) */S */S */C), 1),\n",
       " ((*/P.oxxx */C (*/T */C) */S */C), 1),\n",
       " (((*/M */P.oxxx) */C (*/T */C) */S */C), 1),\n",
       " ((*/P.oxxx (*/M */C) (*/T */C) */S */C), 1),\n",
       " (((*/M */P.oxxx) (*/M */C) (*/T */C) */S */C), 1),\n",
       " ((*/P.oxxx */C */S (*/T */C) */C), 1),\n",
       " (((*/M */P.oxxx) */C */S (*/T */C) */C), 1),\n",
       " ((*/P.oxxx (*/M */C) */S (*/T */C) */C), 1),\n",
       " (((*/M */P.oxxx) (*/M */C) */S (*/T */C) */C), 1),\n",
       " ((*/P.oxxx */C (*/T */C) (*/T */C) */C), 1),\n",
       " (((*/M */P.oxxx) */C (*/T */C) (*/T */C) */C), 1),\n",
       " ((*/P.oxxx (*/M */C) (*/T */C) (*/T */C) */C), 1),\n",
       " (((*/M */P.oxxx) (*/M */C) (*/T */C) (*/T */C) */C), 1),\n",
       " ((*/P.oxxx */C */S */S (*/M */C)), 1),\n",
       " (((*/M */P.oxxx) */C */S */S (*/M */C)), 1),\n",
       " ((*/P.oxxx (*/M */C) */S */S (*/M */C)), 1),\n",
       " (((*/M */P.oxxx) (*/M */C) */S */S (*/M */C)), 1),\n",
       " ((*/P.oxxx */C (*/T */C) */S (*/M */C)), 1),\n",
       " (((*/M */P.oxxx) */C (*/T */C) */S (*/M */C)), 1),\n",
       " ((*/P.oxxx (*/M */C) (*/T */C) */S (*/M */C)), 1),\n",
       " (((*/M */P.oxxx) (*/M */C) (*/T */C) */S (*/M */C)), 1),\n",
       " ((*/P.oxxx */C */S (*/T */C) (*/M */C)), 1),\n",
       " (((*/M */P.oxxx) */C */S (*/T */C) (*/M */C)), 1),\n",
       " ((*/P.oxxx (*/M */C) */S (*/T */C) (*/M */C)), 1),\n",
       " (((*/M */P.oxxx) (*/M */C) */S (*/T */C) (*/M */C)), 1),\n",
       " ((*/P.oxxx */C (*/T */C) (*/T */C) (*/M */C)), 1),\n",
       " (((*/M */P.oxxx) */C (*/T */C) (*/T */C) (*/M */C)), 1),\n",
       " ((*/P.oxxx (*/M */C) (*/T */C) (*/T */C) (*/M */C)), 1),\n",
       " (((*/M */P.oxxx) (*/M */C) (*/T */C) (*/T */C) (*/M */C)), 1),\n",
       " ((*/M */P.oxxx), 1),\n",
       " ((*/P.r (*/P.sc */C */C)), 1),\n",
       " ((*/J (*/J */R */R) */R), 1),\n",
       " ((*/J (*/J */R */R) (*/P.sc */C */C)), 1),\n",
       " ((*/J (*/P.sox */C */C */S) */R), 1),\n",
       " ((*/J */R (*/P.xr */S */R)), 1),\n",
       " ((*/J (*/P.sox */C */C */S) (*/P.xr */S */R)), 1),\n",
       " ((*/M (*/M */P.sox)), 1),\n",
       " ((*/P.xr */S */R), 1),\n",
       " ((*/P.xr (*/T */C) */R), 1),\n",
       " ((*/P.xr */S (*/P.sc */C */C)), 1),\n",
       " ((*/P.xr (*/T */C) (*/P.sc */C */C)), 1),\n",
       " ((*/P.soxx */C */C */S */C), 1),\n",
       " ((*/P.soxx (*/M */C) */C */S */C), 1),\n",
       " ((*/P.soxx */C */C (*/T */C) */C), 1),\n",
       " ((*/P.soxx (*/M */C) */C (*/T */C) */C), 1),\n",
       " ((*/P.soxx */C */C */S (*/J */C */R)), 1),\n",
       " ((*/P.soxx (*/M */C) */C */S (*/J */C */R)), 1),\n",
       " ((*/P.soxx */C */C (*/T */C) (*/J */C */R)), 1),\n",
       " ((*/P.soxx (*/M */C) */C (*/T */C) (*/J */C */R)), 1),\n",
       " ((*/J */C (*/P.sox */C */C */S)), 1),\n",
       " ((*/J (*/M */C) (*/P.sox */C */C */S)), 1),\n",
       " (((*/M */P.sox) (*/B.ma */C */C) */C */S), 1),\n",
       " (((*/M */P.sox) (*/B.ma */C */C) (*/M */C) */S), 1),\n",
       " (((*/M */P.sox) (*/B.ma */C */C) */C (*/T */C)), 1),\n",
       " (((*/M */P.sox) (*/B.ma */C */C) (*/M */C) (*/T */C)), 1),\n",
       " ((*/P.scx? */C */R */S */R), 1),\n",
       " ((*/P.scx? (*/M */C) */R */S */R), 1),\n",
       " ((*/P.scx? */C (*/P.c */C) */S */R), 1),\n",
       " ((*/P.scx? (*/M */C) (*/P.c */C) */S */R), 1),\n",
       " ((*/P.scx? */C */R (*/T */C) */R), 1),\n",
       " ((*/P.scx? (*/M */C) */R (*/T */C) */R), 1),\n",
       " ((*/P.scx? */C (*/P.c */C) (*/T */C) */R), 1),\n",
       " ((*/P.scx? (*/M */C) (*/P.c */C) (*/T */C) */R), 1),\n",
       " ((*/P.scx? */C */R */S (*/J */R */R)), 1),\n",
       " ((*/P.scx? (*/M */C) */R */S (*/J */R */R)), 1),\n",
       " ((*/P.scx? */C (*/P.c */C) */S (*/J */R */R)), 1),\n",
       " ((*/P.scx? (*/M */C) (*/P.c */C) */S (*/J */R */R)), 1),\n",
       " ((*/P.scx? */C */R (*/T */C) (*/J */R */R)), 1),\n",
       " ((*/P.scx? (*/M */C) */R (*/T */C) (*/J */R */R)), 1),\n",
       " ((*/P.scx? */C (*/P.c */C) (*/T */C) (*/J */R */R)), 1),\n",
       " ((*/P.scx? (*/M */C) (*/P.c */C) (*/T */C) (*/J */R */R)), 1),\n",
       " ((*/J (*/P.xx */S */S) */R), 1),\n",
       " ((*/J */R (*/P.r */R)), 1),\n",
       " ((*/J (*/P.xx */S */S) (*/P.r */R)), 1),\n",
       " ((*/P.r (*/P.so */C */C)), 1),\n",
       " ((*/J (*/P.px */C */S) */R), 1),\n",
       " ((*/J (*/P.px */C */S) (*/P.so */C */C)), 1),\n",
       " ((*/P.px (*/M */C) */S), 1),\n",
       " (((*/M */P.px) (*/M */C) */S), 1),\n",
       " ((*/P.px (*/M */C) (*/T */C)), 1),\n",
       " (((*/M */P.px) (*/M */C) (*/T */C)), 1),\n",
       " ((*/P.so (*/M */C) (*/M */C)), 1),\n",
       " ((*/B.ma */C (*/B.aa */C */C)), 1),\n",
       " ((*/J (*/P.sx */C */S) */R), 1),\n",
       " ((*/J */R (*/P.sxr */C */S */R)), 1),\n",
       " ((*/J (*/P.sx */C */S) (*/P.sxr */C */S */R)), 1),\n",
       " ((*/P.sxr (*/B.ma */C */C) */S */R), 1),\n",
       " ((*/P.sxr (*/B.ma */C */C) (*/T */C) */R), 1),\n",
       " ((*/P.sxr */C */S (*/P.sxx? */C */S */R */C)), 1),\n",
       " ((*/P.sxr (*/B.ma */C */C) */S (*/P.sxx? */C */S */R */C)), 1),\n",
       " ((*/P.sxr */C (*/T */C) (*/P.sxx? */C */S */R */C)), 1),\n",
       " ((*/P.sxr (*/B.ma */C */C) (*/T */C) (*/P.sxx? */C */S */R */C)), 1),\n",
       " ((*/P.sxx? */C */S */R */C), 1),\n",
       " ((*/P.sxx? */C (*/T */C) */R */C), 1),\n",
       " ((*/P.sxx? */C */S (*/P.oox */C */C */S) */C), 1),\n",
       " ((*/P.sxx? */C (*/T */C) (*/P.oox */C */C */S) */C), 1),\n",
       " ((*/P.oox */C */C */S), 1),\n",
       " (((*/M */P.oox) */C */C */S), 1),\n",
       " ((*/P.oox (*/M */C) */C */S), 1),\n",
       " (((*/M */P.oox) (*/M */C) */C */S), 1),\n",
       " ((*/P.oox */C */C (*/T */C)), 1),\n",
       " (((*/M */P.oox) */C */C (*/T */C)), 1),\n",
       " ((*/P.oox (*/M */C) */C (*/T */C)), 1),\n",
       " (((*/M */P.oox) (*/M */C) */C (*/T */C)), 1),\n",
       " ((*/M */P.oox), 1),\n",
       " ((*/P.sr */C (*/J */R */R)), 1),\n",
       " ((*/J (*/P.sox */C */C */R) */R), 1),\n",
       " ((*/J (*/P.sox */C */C */R) (*/P.sc */C */C)), 1),\n",
       " ((*/P.sox */C */C */R), 1),\n",
       " ((*/P.sox */C (*/B.ma */C */C) */R), 1),\n",
       " ((*/P.sox */C */C (*/P.sc? */C */C */C)), 1),\n",
       " ((*/P.sox */C (*/B.ma */C */C) (*/P.sc? */C */C */C)), 1),\n",
       " ((*/P.sc? */C */C */C), 1),\n",
       " ((*/P.sc? (*/M */C) */C */C), 1),\n",
       " ((*/P.sc? */C (*/M */C) */C), 1),\n",
       " ((*/P.sc? (*/M */C) (*/M */C) */C), 1),\n",
       " ((*/P.sc (*/B.ma */C */C) */C), 1),\n",
       " ((*/P.sc (*/B.ma */C */C) (*/M */C)), 1),\n",
       " ((*/J (*/J */R */C) */R), 1),\n",
       " ((*/J */R (*/P.x */S)), 1),\n",
       " ((*/J (*/J */R */C) (*/P.x */S)), 1),\n",
       " ((*/J (*/P.s?? */C */R */C) */C), 1),\n",
       " ((*/J */R (*/J */C */R)), 1),\n",
       " ((*/J (*/P.s?? */C */R */C) (*/J */C */R)), 1),\n",
       " ((*/P.s?? */C */R */C), 1),\n",
       " ((*/P.s?? (*/B.ma */C */C) */R */C), 1),\n",
       " ((*/P.s?? */C (*/P.o */C) */C), 1),\n",
       " ((*/P.s?? (*/B.ma */C */C) (*/P.o */C) */C), 1),\n",
       " ((*/P.s?? */C */R (*/M */C)), 1),\n",
       " ((*/P.s?? (*/B.ma */C */C) */R (*/M */C)), 1),\n",
       " ((*/P.s?? */C (*/P.o */C) (*/M */C)), 1),\n",
       " ((*/P.s?? (*/B.ma */C */C) (*/P.o */C) (*/M */C)), 1),\n",
       " ((*/J */C (*/P.soxx */C */C */S */S)), 1),\n",
       " ((*/J (*/M */C) (*/P.soxx */C */C */S */S)), 1),\n",
       " ((*/P.scx */C */C */R), 1),\n",
       " (((*/M */P.scx) */C */C */R), 1),\n",
       " ((*/P.scx */C (*/J */C */C) */R), 1),\n",
       " (((*/M */P.scx) */C (*/J */C */C) */R), 1),\n",
       " ((*/P.scx */C */C (*/P.ox */C */S)), 1),\n",
       " (((*/M */P.scx) */C */C (*/P.ox */C */S)), 1),\n",
       " ((*/P.scx */C (*/J */C */C) (*/P.ox */C */S)), 1),\n",
       " (((*/M */P.scx) */C (*/J */C */C) (*/P.ox */C */S)), 1),\n",
       " ((*/P.ox (*/B.mm */C */C) */S), 1),\n",
       " ((*/P.ox (*/B.mm */C */C) (*/T */C)), 1),\n",
       " ((*/B.mm (*/B.mm */C */C) (*/J */C */C)), 1),\n",
       " ((*/B.mm (*/J */C */C) (*/M */C)), 1),\n",
       " ((*/J (*/P.so */C */C) */C), 1),\n",
       " ((*/J (*/P.so */C */C) (*/M */C)), 1),\n",
       " ((*/B.ma (*/B.ma */C */C) (*/B.mm */C */C)), 1),\n",
       " ((*/B.mm (*/M */C) (*/J */C */C)), 1),\n",
       " ((*/J (*/M */C) (*/B.mm */C */C)), 1),\n",
       " ((*/J */R (*/P.sr */C */R)), 1),\n",
       " ((*/J (*/P.sc */C */C) (*/P.sr */C */R)), 1),\n",
       " ((*/P.sr */C (*/P.xx */S */S)), 1),\n",
       " (((*/M */P.xx) */S */S), 1),\n",
       " (((*/M */P.xx) (*/T */C) */S), 1),\n",
       " (((*/M */P.xx) */S (*/T */C)), 1),\n",
       " (((*/M */P.xx) (*/T */C) (*/T */C)), 1),\n",
       " ((*/M */P.xx), 1),\n",
       " ((*/J (*/P.sr */C */R) */R), 1),\n",
       " ((*/J (*/P.sr */C */R) (*/P.o */C)), 1),\n",
       " ((*/P.sr */C (*/P.oixx */C */C */S */S)), 1),\n",
       " ((*/P.oixx */C */C */S */S), 1),\n",
       " ((*/P.oixx */C */C (*/T */C) */S), 1),\n",
       " ((*/P.oixx */C */C */S (*/T */C)), 1),\n",
       " ((*/P.oixx */C */C (*/T */C) (*/T */C)), 1),\n",
       " ((*/B.ma (*/B.ma */C */C) (*/J */C */C)), 1),\n",
       " ((*/J (*/J */R */S) */C), 1),\n",
       " ((*/J (*/J */R */S) (*/B.mm */C */C)), 1),\n",
       " ((*/J (*/P.px */C */S) */S), 1),\n",
       " ((*/J */R (*/T */R)), 1),\n",
       " ((*/J (*/P.px */C */S) (*/T */R)), 1),\n",
       " ((*/M (*/M */P.px)), 1),\n",
       " ((*/T (*/P.so */C */C)), 1),\n",
       " ((*/P.so */C (*/B.mm */C */C)), 1),\n",
       " ((*/B.mm (*/J */C */R) (*/B.ma */C */C)), 1),\n",
       " ((*/J */C (*/P.o */C)), 1),\n",
       " ((*/J (*/B.mm */C */C) (*/P.o */C)), 1),\n",
       " ((*/J (*/J */R */R) */C), 1),\n",
       " ((*/J */R (*/B.ma */C */C)), 1),\n",
       " ((*/J (*/J */R */R) (*/B.ma */C */C)), 1),\n",
       " ((*/J */R (*/J */R */C)), 1),\n",
       " ((*/J (*/P.scx */C */C */S) (*/J */R */C)), 1),\n",
       " ((*/J (*/P.o */C) */C), 1),\n",
       " ((*/J (*/P.o */C) (*/B.mm */C */C)), 1),\n",
       " (((*/M */P.o) (*/M */C)), 1),\n",
       " ((*/J */C (*/P.sx */C */S)), 1),\n",
       " ((*/J (*/M */C) (*/P.sx */C */S)), 1),\n",
       " (((*/M */P.sx) (*/M */C) */S), 1),\n",
       " (((*/M */P.sx) (*/M */C) (*/T */C)), 1),\n",
       " ((*/J */C (*/J */R */R)), 1),\n",
       " ((*/J (*/B.mm */C */C) (*/J */R */R)), 1),\n",
       " ((*/J (*/P.o? */C */R) */R), 1),\n",
       " ((*/J */R (*/P.o? */C */R)), 1),\n",
       " ((*/J (*/P.o? */C */R) (*/P.o? */C */R)), 1),\n",
       " ((*/P.o? (*/B.mm */C */C) */R), 1),\n",
       " ((*/P.o? */C (*/P.so */C */C)), 1),\n",
       " ((*/P.o? (*/B.mm */C */C) (*/P.so */C */C)), 1),\n",
       " ((*/B.mm (*/B.mm */C */C) (*/B.mm */C */C)), 1),\n",
       " ((*/B.mm (*/J */C */R) (*/B.mm */C */C)), 1),\n",
       " ((*/J */C (*/P.x */R)), 1),\n",
       " ((*/J (*/M */C) (*/P.x */R)), 1),\n",
       " ((*/P.x */R), 1),\n",
       " ((*/P.x (*/P.x */C)), 1),\n",
       " ((*/P.x (*/B.ma */C */C)), 1),\n",
       " ((*/P.o? (*/M */C) */R), 1),\n",
       " ((*/P.o? */C (*/P.x */S)), 1),\n",
       " ((*/P.o? (*/M */C) (*/P.x */S)), 1),\n",
       " ((*/P.pr */C */R), 1),\n",
       " (((*/M */P.pr) */C */R), 1),\n",
       " ((*/P.pr (*/M */C) */R), 1),\n",
       " (((*/M */P.pr) (*/M */C) */R), 1),\n",
       " ((*/P.pr */C (*/P.o */C)), 1),\n",
       " (((*/M */P.pr) */C (*/P.o */C)), 1),\n",
       " ((*/P.pr (*/M */C) (*/P.o */C)), 1),\n",
       " (((*/M */P.pr) (*/M */C) (*/P.o */C)), 1),\n",
       " ((*/M (*/M */P.pr)), 1),\n",
       " (((*/M */P.o) (*/B.ma */C */C)), 1),\n",
       " ((*/J (*/P.p */C) */R), 1),\n",
       " ((*/J */R (*/P.ox */C */S)), 1),\n",
       " ((*/J (*/P.p */C) (*/P.ox */C */S)), 1),\n",
       " ((*/P.p (*/M */C)), 1),\n",
       " (((*/M */P.p) (*/M */C)), 1),\n",
       " ((*/P.ox (*/M */C) */S), 1),\n",
       " ((*/P.ox (*/M */C) (*/T */C)), 1),\n",
       " ((*/J (*/J */R */S) */R), 1),\n",
       " ((*/J */R (*/P.axx? */S */C */S */C)), 1),\n",
       " ((*/J (*/J */R */S) (*/P.axx? */S */C */S */C)), 1),\n",
       " ((*/J (*/P.s */C) */S), 1),\n",
       " ((*/J (*/P.s */C) (*/T */C)), 1),\n",
       " ((*/P.axx? */S */C */S */C), 1),\n",
       " (((*/M */P.axx?) */S */C */S */C), 1),\n",
       " ((*/P.axx? (*/T */C) */C */S */C), 1),\n",
       " (((*/M */P.axx?) (*/T */C) */C */S */C), 1),\n",
       " ((*/P.axx? */S (*/M */C) */S */C), 1),\n",
       " (((*/M */P.axx?) */S (*/M */C) */S */C), 1),\n",
       " ((*/P.axx? (*/T */C) (*/M */C) */S */C), 1),\n",
       " (((*/M */P.axx?) (*/T */C) (*/M */C) */S */C), 1),\n",
       " ((*/P.axx? */S */C (*/T */C) */C), 1),\n",
       " (((*/M */P.axx?) */S */C (*/T */C) */C), 1),\n",
       " ((*/P.axx? (*/T */C) */C (*/T */C) */C), 1),\n",
       " (((*/M */P.axx?) (*/T */C) */C (*/T */C) */C), 1),\n",
       " ((*/P.axx? */S (*/M */C) (*/T */C) */C), 1),\n",
       " (((*/M */P.axx?) */S (*/M */C) (*/T */C) */C), 1),\n",
       " ((*/P.axx? (*/T */C) (*/M */C) (*/T */C) */C), 1),\n",
       " (((*/M */P.axx?) (*/T */C) (*/M */C) (*/T */C) */C), 1),\n",
       " ((*/M */P.axx?), 1),\n",
       " ((*/J (*/P.pax */C */S */S) */R), 1),\n",
       " ((*/J (*/P.pax */C */S */S) (*/P.o */C)), 1),\n",
       " ((*/P.pax */C */S */S), 1),\n",
       " (((*/M */P.pax) */C */S */S), 1),\n",
       " ((*/P.pax (*/B.ma */C */C) */S */S), 1),\n",
       " (((*/M */P.pax) (*/B.ma */C */C) */S */S), 1),\n",
       " ((*/P.pax */C (*/T */C) */S), 1),\n",
       " (((*/M */P.pax) */C (*/T */C) */S), 1),\n",
       " ((*/P.pax (*/B.ma */C */C) (*/T */C) */S), 1),\n",
       " (((*/M */P.pax) (*/B.ma */C */C) (*/T */C) */S), 1),\n",
       " ((*/P.pax */C */S (*/T */C)), 1),\n",
       " (((*/M */P.pax) */C */S (*/T */C)), 1),\n",
       " ((*/P.pax (*/B.ma */C */C) */S (*/T */C)), 1),\n",
       " (((*/M */P.pax) (*/B.ma */C */C) */S (*/T */C)), 1),\n",
       " ((*/P.pax */C (*/T */C) (*/T */C)), 1),\n",
       " (((*/M */P.pax) */C (*/T */C) (*/T */C)), 1),\n",
       " ((*/P.pax (*/B.ma */C */C) (*/T */C) (*/T */C)), 1),\n",
       " (((*/M */P.pax) (*/B.ma */C */C) (*/T */C) (*/T */C)), 1),\n",
       " ((*/M */P.pax), 1),\n",
       " ((*/J (*/P.so */C */C) */R), 1),\n",
       " ((*/J (*/P.so */C */C) (*/P.o */C)), 1),\n",
       " ((*/P.so (*/B.mm */C */C) (*/M */C)), 1),\n",
       " ((*/J (*/J */C */R) (*/P.oo */C */C)), 1),\n",
       " (((*/M */J) */C */R), 1),\n",
       " (((*/M */J) (*/M */C) */R), 1),\n",
       " (((*/M */J) */C (*/P.so */C */C)), 1),\n",
       " ((*/J (*/M */C) (*/P.so */C */C)), 1),\n",
       " (((*/M */J) (*/M */C) (*/P.so */C */C)), 1),\n",
       " ((*/P.so (*/B.mm */C */C) (*/B.ma */C */C)), 1),\n",
       " ((*/B.mm (*/B.mm */C */C) (*/B.ma */C */C)), 1),\n",
       " ((*/P.oo (*/M */C) */C), 1),\n",
       " ((*/J (*/P.sxxx */C */S */C */S) */S), 1),\n",
       " ((*/J (*/P.sxxx */C */S */C */S) (*/T */C)), 1),\n",
       " ((*/P.sxxx */C */S */C */S), 1),\n",
       " (((*/M */P.sxxx) */C */S */C */S), 1),\n",
       " ((*/P.sxxx */C (*/T */C) */C */S), 1),\n",
       " (((*/M */P.sxxx) */C (*/T */C) */C */S), 1),\n",
       " ((*/P.sxxx */C */S (*/M */C) */S), 1),\n",
       " (((*/M */P.sxxx) */C */S (*/M */C) */S), 1),\n",
       " ((*/P.sxxx */C (*/T */C) (*/M */C) */S), 1),\n",
       " (((*/M */P.sxxx) */C (*/T */C) (*/M */C) */S), 1),\n",
       " ((*/P.sxxx */C */S */C (*/T */C)), 1),\n",
       " (((*/M */P.sxxx) */C */S */C (*/T */C)), 1),\n",
       " ((*/P.sxxx */C (*/T */C) */C (*/T */C)), 1),\n",
       " (((*/M */P.sxxx) */C (*/T */C) */C (*/T */C)), 1),\n",
       " ((*/P.sxxx */C */S (*/M */C) (*/T */C)), 1),\n",
       " (((*/M */P.sxxx) */C */S (*/M */C) (*/T */C)), 1),\n",
       " ((*/P.sxxx */C (*/T */C) (*/M */C) (*/T */C)), 1),\n",
       " (((*/M */P.sxxx) */C (*/T */C) (*/M */C) (*/T */C)), 1),\n",
       " (((*/M */M) */P.sxxx), 1),\n",
       " ((*/M (*/M */P.sxxx)), 1),\n",
       " (((*/M */M) (*/M */P.sxxx)), 1),\n",
       " (((*/J */M */C) */C), 1),\n",
       " ((*/J */M */C), 1),\n",
       " (((*/M */J) */M */C), 1),\n",
       " ((*/J */M (*/B */C */C)), 1),\n",
       " (((*/M */J) */M (*/B */C */C)), 1),\n",
       " ((*/M (*/M */J)), 1),\n",
       " (((*/M */M) (*/M */J)), 1),\n",
       " ((*/P.sr */C */S), 1),\n",
       " ((*/P.sr (*/M */C) */S), 1),\n",
       " ((*/P.sr */C (*/T */R)), 1),\n",
       " ((*/P.sr (*/M */C) (*/T */R)), 1),\n",
       " ((*/T (*/P.sx */C */S)), 1),\n",
       " (((*/M */T) (*/B.mm */C */C)), 1),\n",
       " (((*/M */M) */T), 1),\n",
       " ((*/J */C (*/P.sc */C */C)), 1),\n",
       " ((*/J (*/P.sx */C */S) */S), 1),\n",
       " ((*/J (*/P.sx */C */S) (*/T */C)), 1),\n",
       " ((*/T (*/J */C */R)), 1),\n",
       " ((*/J */C (*/P.soxxr */C */C */C */R */C)), 1),\n",
       " ((*/J (*/M */C) (*/P.soxxr */C */C */C */R */C)), 1),\n",
       " ((*/P.soxxr */C */C */C */R */C), 1),\n",
       " (((*/M */P.soxxr) */C */C */C */R */C), 1),\n",
       " ((*/P.soxxr */C */C (*/M */C) */R */C), 1),\n",
       " (((*/M */P.soxxr) */C */C (*/M */C) */R */C), 1),\n",
       " ((*/P.soxxr */C */C */C (*/P.ox */C */S) */C), 1),\n",
       " (((*/M */P.soxxr) */C */C */C (*/P.ox */C */S) */C), 1),\n",
       " ((*/P.soxxr */C */C (*/M */C) (*/P.ox */C */S) */C), 1),\n",
       " (((*/M */P.soxxr) */C */C (*/M */C) (*/P.ox */C */S) */C), 1),\n",
       " ((*/M */P.soxxr), 1),\n",
       " ((*/P.ox (*/B.ma */C */C) */S), 1),\n",
       " ((*/P.ox (*/B.ma */C */C) (*/T */C)), 1),\n",
       " (((*/M */T) (*/J */C */C)), 1),\n",
       " ((*/P.sox */C (*/B.mm */C */C) */S), 1),\n",
       " ((*/P.sox (*/M */C) (*/B.mm */C */C) */S), 1),\n",
       " ((*/P.sox */C (*/B.mm */C */C) (*/T */C)), 1),\n",
       " ((*/P.sox (*/M */C) (*/B.mm */C */C) (*/T */C)), 1),\n",
       " ((*/B.mm (*/B.ma */C */C) (*/J */C */R)), 1),\n",
       " ((*/J */C (*/P.x */C)), 1),\n",
       " ((*/J (*/M */C) (*/P.x */C)), 1),\n",
       " ((*/P.x (*/M */C)), 1),\n",
       " ((*/P.sr */C (*/P.sso */C */C */C)), 1),\n",
       " ((*/P.sso */C */C */C), 1),\n",
       " (((*/M */P.sso) */C */C */C), 1),\n",
       " ((*/P.sso (*/M */C) */C */C), 1),\n",
       " (((*/M */P.sso) (*/M */C) */C */C), 1),\n",
       " ((*/P.sso */C */C (*/J */C */C)), 1),\n",
       " (((*/M */P.sso) */C */C (*/J */C */C)), 1),\n",
       " ((*/P.sso (*/M */C) */C (*/J */C */C)), 1),\n",
       " (((*/M */P.sso) (*/M */C) */C (*/J */C */C)), 1),\n",
       " ((*/M */P.sso), 1),\n",
       " ((*/P.sxr (*/M */C) */S */R), 1),\n",
       " ((*/P.sxr (*/M */C) (*/T */C) */R), 1),\n",
       " ((*/P.sxr */C */S (*/P.so */C */C)), 1),\n",
       " ((*/P.sxr (*/M */C) */S (*/P.so */C */C)), 1),\n",
       " ((*/P.sxr */C (*/T */C) (*/P.so */C */C)), 1),\n",
       " ((*/P.sxr (*/M */C) (*/T */C) (*/P.so */C */C)), 1),\n",
       " (((*/M */P.so) (*/M */C) */C), 1),\n",
       " (((*/M */P.so) */C (*/B.ma */C */C)), 1),\n",
       " ((*/P.so (*/M */C) (*/B.ma */C */C)), 1),\n",
       " (((*/M */P.so) (*/M */C) (*/B.ma */C */C)), 1),\n",
       " ((*/P.sr (*/M */C) */C), 1),\n",
       " (((*/M */P.sr) (*/M */C) */C), 1),\n",
       " ((*/P.sr (*/M */C) (*/B.mm */C */C)), 1),\n",
       " (((*/M */P.sr) (*/M */C) (*/B.mm */C */C)), 1),\n",
       " ((*/J (*/P.soxxr */C */C */S */S */R) */C), 1),\n",
       " ((*/J */R (*/B */C */C)), 1),\n",
       " ((*/J (*/P.soxxr */C */C */S */S */R) (*/B */C */C)), 1),\n",
       " ((*/P.soxxr */C */C */S */S */R), 1),\n",
       " ((*/P.soxxr (*/M */C) */C */S */S */R), 1),\n",
       " ((*/P.soxxr */C (*/M */C) */S */S */R), 1),\n",
       " ((*/P.soxxr (*/M */C) (*/M */C) */S */S */R), 1),\n",
       " ((*/P.soxxr */C */C (*/T */C) */S */R), 1),\n",
       " ((*/P.soxxr (*/M */C) */C (*/T */C) */S */R), 1),\n",
       " ((*/P.soxxr */C (*/M */C) (*/T */C) */S */R), 1),\n",
       " ((*/P.soxxr (*/M */C) (*/M */C) (*/T */C) */S */R), 1),\n",
       " ((*/P.soxxr */C */C */S (*/T */C) */R), 1),\n",
       " ((*/P.soxxr (*/M */C) */C */S (*/T */C) */R), 1),\n",
       " ((*/P.soxxr */C (*/M */C) */S (*/T */C) */R), 1),\n",
       " ((*/P.soxxr (*/M */C) (*/M */C) */S (*/T */C) */R), 1),\n",
       " ((*/P.soxxr */C */C (*/T */C) (*/T */C) */R), 1),\n",
       " ((*/P.soxxr (*/M */C) */C (*/T */C) (*/T */C) */R), 1),\n",
       " ((*/P.soxxr */C (*/M */C) (*/T */C) (*/T */C) */R), 1),\n",
       " ((*/P.soxxr (*/M */C) (*/M */C) (*/T */C) (*/T */C) */R), 1),\n",
       " ((*/P.soxxr */C */C */S */S (*/P.sx */C */S)), 1),\n",
       " ((*/P.soxxr (*/M */C) */C */S */S (*/P.sx */C */S)), 1),\n",
       " ((*/P.soxxr */C (*/M */C) */S */S (*/P.sx */C */S)), 1),\n",
       " ((*/P.soxxr (*/M */C) (*/M */C) */S */S (*/P.sx */C */S)), 1),\n",
       " ((*/P.soxxr */C */C (*/T */C) */S (*/P.sx */C */S)), 1),\n",
       " ((*/P.soxxr (*/M */C) */C (*/T */C) */S (*/P.sx */C */S)), 1),\n",
       " ((*/P.soxxr */C (*/M */C) (*/T */C) */S (*/P.sx */C */S)), 1),\n",
       " ((*/P.soxxr (*/M */C) (*/M */C) (*/T */C) */S (*/P.sx */C */S)), 1),\n",
       " ((*/P.soxxr */C */C */S (*/T */C) (*/P.sx */C */S)), 1),\n",
       " ((*/P.soxxr (*/M */C) */C */S (*/T */C) (*/P.sx */C */S)), 1),\n",
       " ((*/P.soxxr */C (*/M */C) */S (*/T */C) (*/P.sx */C */S)), 1),\n",
       " ((*/P.soxxr (*/M */C) (*/M */C) */S (*/T */C) (*/P.sx */C */S)), 1),\n",
       " ((*/P.soxxr */C */C (*/T */C) (*/T */C) (*/P.sx */C */S)), 1),\n",
       " ((*/P.soxxr (*/M */C) */C (*/T */C) (*/T */C) (*/P.sx */C */S)), 1),\n",
       " ((*/P.soxxr */C (*/M */C) (*/T */C) (*/T */C) (*/P.sx */C */S)), 1),\n",
       " ((*/P.soxxr (*/M */C) (*/M */C) (*/T */C) (*/T */C) (*/P.sx */C */S)), 1),\n",
       " (((*/M */B) */C */C), 1),\n",
       " ((*/M */B), 1),\n",
       " (((*/M */M) */B), 1),\n",
       " (((*/M */M) */M), 1),\n",
       " ((*/P.? */R), 1),\n",
       " (((*/M */P.?) */R), 1),\n",
       " ((*/P.? (*/J */R */B)), 1),\n",
       " (((*/M */P.?) (*/J */R */B)), 1),\n",
       " ((*/J */R */B), 1),\n",
       " ((*/J (*/P.so */C */C) */B), 1),\n",
       " ((*/P.so (*/B.ma */C */C) */C), 1),\n",
       " (((*/M */P.so) (*/B.ma */C */C) */C), 1),\n",
       " ((*/P.so (*/B.ma */C */C) (*/M */C)), 1),\n",
       " (((*/M */P.so) (*/B.ma */C */C) (*/M */C)), 1),\n",
       " ((*/P.c (*/B.ma */C */C)), 1),\n",
       " (((*/M */P.c) (*/B.ma */C */C)), 1),\n",
       " ((*/P.oxr */C */S */R), 1),\n",
       " (((*/M */P.oxr) */C */S */R), 1),\n",
       " ((*/P.oxr (*/M */C) */S */R), 1),\n",
       " (((*/M */P.oxr) (*/M */C) */S */R), 1),\n",
       " ((*/P.oxr */C (*/T */C) */R), 1),\n",
       " (((*/M */P.oxr) */C (*/T */C) */R), 1),\n",
       " ((*/P.oxr (*/M */C) (*/T */C) */R), 1),\n",
       " (((*/M */P.oxr) (*/M */C) (*/T */C) */R), 1),\n",
       " ((*/P.oxr */C */S (*/P.sx */C */S)), 1),\n",
       " (((*/M */P.oxr) */C */S (*/P.sx */C */S)), 1),\n",
       " ((*/P.oxr (*/M */C) */S (*/P.sx */C */S)), 1),\n",
       " (((*/M */P.oxr) (*/M */C) */S (*/P.sx */C */S)), 1),\n",
       " ((*/P.oxr */C (*/T */C) (*/P.sx */C */S)), 1),\n",
       " (((*/M */P.oxr) */C (*/T */C) (*/P.sx */C */S)), 1),\n",
       " ((*/P.oxr (*/M */C) (*/T */C) (*/P.sx */C */S)), 1),\n",
       " (((*/M */P.oxr) (*/M */C) (*/T */C) (*/P.sx */C */S)), 1),\n",
       " ((*/M */P.oxr), 1),\n",
       " ((*/P.sxr */C */S */S), 1),\n",
       " ((*/P.sxr (*/M */C) */S */S), 1),\n",
       " ((*/P.sxr */C (*/T */C) */S), 1),\n",
       " ((*/P.sxr (*/M */C) (*/T */C) */S), 1),\n",
       " ((*/P.sxr */C */S (*/T */R)), 1),\n",
       " ((*/P.sxr (*/M */C) */S (*/T */R)), 1),\n",
       " ((*/P.sxr */C (*/T */C) (*/T */R)), 1),\n",
       " ((*/P.sxr (*/M */C) (*/T */C) (*/T */R)), 1),\n",
       " ((*/T (*/P.cx */C */R)), 1),\n",
       " ((*/P.cx */C */R), 1),\n",
       " (((*/M */P.cx) */C */R), 1),\n",
       " ((*/P.cx (*/M */C) */R), 1),\n",
       " (((*/M */P.cx) (*/M */C) */R), 1),\n",
       " ((*/P.cx */C (*/P.o */C)), 1),\n",
       " (((*/M */P.cx) */C (*/P.o */C)), 1),\n",
       " ((*/P.cx (*/M */C) (*/P.o */C)), 1),\n",
       " (((*/M */P.cx) (*/M */C) (*/P.o */C)), 1),\n",
       " ((*/M (*/M */P.cx)), 1),\n",
       " ((*/B.mm (*/J */C */C) (*/J */C */R)), 1),\n",
       " ((*/J (*/M */C) (*/P.oo */C */C)), 1),\n",
       " ((*/P.oo (*/B.ma */C */C) */C), 1),\n",
       " ((*/P.oo */C (*/M */C)), 1),\n",
       " ((*/P.oo (*/B.ma */C */C) (*/M */C)), 1),\n",
       " ((*/J (*/P.sc */C */C) (*/P.so */C */C)), 1),\n",
       " ((*/P.sc (*/M */C) (*/M */C)), 1),\n",
       " ((*/P.so */C (*/J */C */C)), 1),\n",
       " (((*/M */P.so) */C (*/J */C */C)), 1)]"
      ]
     },
     "execution_count": 263,
     "metadata": {},
     "output_type": "execute_result"
    }
   ],
   "source": [
    "patts = pc.patterns.most_common()\n",
    "\n",
    "patts"
   ]
  },
  {
   "cell_type": "code",
   "execution_count": 264,
   "id": "e2bdf5f7",
   "metadata": {
    "slideshow": {
     "slide_type": "subslide"
    }
   },
   "outputs": [
    {
     "data": {
      "text/plain": [
       "[((*/M */C), 298),\n",
       " ((*/B.ma */C */C), 209),\n",
       " ((*/T */C), 75),\n",
       " ((*/M (*/M */C)), 65),\n",
       " ((*/M (*/B.ma */C */C)), 56),\n",
       " ((*/B.ma (*/M */C) */C), 47),\n",
       " ((*/B.mm */C */C), 39),\n",
       " ((*/B.ma (*/B.ma */C */C) */C), 39),\n",
       " ((*/B.ma */C (*/M */C)), 37),\n",
       " ((*/T (*/M */C)), 35),\n",
       " ((*/J */C */C), 33),\n",
       " ((*/B.ma */C (*/B.ma */C */C)), 27),\n",
       " ((*/M */M), 24),\n",
       " ((*/B.ma (*/M */C) (*/M */C)), 20),\n",
       " ((*/J */R */R), 19),\n",
       " ((*/J */C */R), 15),\n",
       " (((*/M */M) */C), 14),\n",
       " ((*/T (*/B.ma */C */C)), 14),\n",
       " ((*/J (*/B.ma */C */C) */C), 13),\n",
       " ((*/B.mm (*/M */C) */C), 13),\n",
       " ((*/P.so */C */C), 12),\n",
       " ((*/B.ma (*/B.ma */C */C) (*/B.ma */C */C)), 12),\n",
       " ((*/J (*/M */C) */C), 11),\n",
       " ((*/P.sc */C */C), 10),\n",
       " ((*/P.o */C), 10),\n",
       " ((*/P.sx */C */S), 10),\n",
       " ((*/P.sx */C (*/T */C)), 10),\n",
       " ((*/T (*/J */C */C)), 9),\n",
       " ((*/B.mm */C (*/B.ma */C */C)), 9),\n",
       " ((*/J (*/M */C) */R), 9),\n",
       " ((*/P.sc */C (*/B.ma */C */C)), 8),\n",
       " ((*/J */C (*/M */C)), 8),\n",
       " ((*/B.ma */C (*/B.mm */C */C)), 8),\n",
       " ((*/B.ma (*/B.ma */C */C) (*/M */C)), 8),\n",
       " ((*/T */R), 8),\n",
       " ((*/P.sox */C */C */S), 8),\n",
       " ((*/P.sox */C */C (*/T */C)), 8),\n",
       " ((*/M */P.sox), 7),\n",
       " ((*/B.ma (*/M */C) (*/B.ma */C */C)), 7),\n",
       " ((*/J */R */C), 7),\n",
       " ((*/J */C (*/J */C */C)), 7),\n",
       " ((*/B.mm (*/B.ma */C */C) */C), 6),\n",
       " ((*/B.mm */C (*/M */C)), 6),\n",
       " ((*/J */C (*/B.ma */C */C)), 6),\n",
       " (((*/M */P.sox) */C */C */S), 6),\n",
       " (((*/M */P.sox) */C */C (*/T */C)), 6),\n",
       " ((*/M */P.sx), 6),\n",
       " ((*/J (*/B.ma */C */C) (*/J */C */C)), 6),\n",
       " (((*/M */M) (*/M */C)), 5),\n",
       " ((*/B.ma */C (*/J */C */C)), 5),\n",
       " ((*/J */R (*/P.o */C)), 5),\n",
       " ((*/P.scx */C */C */S), 5),\n",
       " ((*/B */C */C), 5),\n",
       " ((*/J (*/M */C) (*/M */C)), 5),\n",
       " ((*/P.so */C (*/M */C)), 5),\n",
       " ((*/P.sox */C (*/M */C) */S), 5),\n",
       " ((*/P.sox */C (*/M */C) (*/T */C)), 5),\n",
       " ((*/B.mm */C (*/J */C */C)), 5),\n",
       " ((*/P.o (*/B.ma */C */C)), 5),\n",
       " ((*/B.mm */C (*/J */C */R)), 5),\n",
       " ((*/J (*/B.ma */C */C) (*/B.ma */C */C)), 4),\n",
       " ((*/P.sc (*/M */C) */C), 4),\n",
       " ((*/B.ma (*/M */C) (*/B.mm */C */C)), 4),\n",
       " (((*/M */P.sox) */C (*/M */C) */S), 4),\n",
       " (((*/M */P.sox) */C (*/M */C) (*/T */C)), 4),\n",
       " ((*/M (*/M */M)), 4),\n",
       " (((*/M */P.sx) */C */S), 4),\n",
       " (((*/M */P.sx) */C (*/T */C)), 4),\n",
       " ((*/M */J), 4),\n",
       " ((*/M (*/B.mm */C */C)), 4),\n",
       " (((*/M */P.so) */C */C), 4),\n",
       " ((*/M */P.so), 4),\n",
       " ((*/M */P.px), 4),\n",
       " ((*/P.sr */C */R), 4),\n",
       " ((*/B.mm (*/B.mm */C */C) */C), 4),\n",
       " ((*/P.so */C (*/B.ma */C */C)), 4),\n",
       " ((*/J */R */S), 4),\n",
       " ((*/P.sc (*/M */C) (*/B.ma */C */C)), 3),\n",
       " ((*/B.ma (*/M */C) (*/J */C */C)), 3),\n",
       " ((*/P.o (*/M */C)), 3),\n",
       " ((*/B.aa */C */C), 3),\n",
       " ((*/P.x */S), 3),\n",
       " ((*/P.x (*/T */C)), 3),\n",
       " ((*/P.scx */C (*/M */C) */S), 3),\n",
       " ((*/J */C (*/B.mm */C */C)), 3),\n",
       " ((*/B.mm (*/M */C) (*/B.ma */C */C)), 3),\n",
       " ((*/M */P.?), 3),\n",
       " ((*/M */P.p), 3),\n",
       " ((*/P.s */C), 3),\n",
       " ((*/P.sox (*/M */C) */C */S), 3),\n",
       " ((*/P.sox (*/M */C) */C (*/T */C)), 3),\n",
       " ((*/P.scx */C */C (*/T */C)), 3),\n",
       " ((*/P.px */C */S), 3),\n",
       " (((*/M */P.px) */C */S), 3),\n",
       " ((*/P.px */C (*/T */C)), 3),\n",
       " (((*/M */P.px) */C (*/T */C)), 3),\n",
       " ((*/P.ox */C */S), 3),\n",
       " ((*/P.ox */C (*/T */C)), 3),\n",
       " ((*/T (*/B.mm */C */C)), 3),\n",
       " ((*/B.mm */C (*/B.mm */C */C)), 3),\n",
       " ((*/J */R (*/T */C)), 3),\n",
       " ((*/B.mm (*/B.ma */C */C) (*/M */C)), 2),\n",
       " ((*/J (*/B.ma */C */C) (*/M */C)), 2),\n",
       " ((*/M (*/B.aa */C */C)), 2),\n",
       " (((*/M */P.x) */S), 2),\n",
       " (((*/M */P.x) (*/T */C)), 2),\n",
       " ((*/M */P.x), 2),\n",
       " ((*/P.sr */C */C), 2),\n",
       " (((*/M */P.sr) */C */C), 2),\n",
       " ((*/P.sr */C (*/B.mm */C */C)), 2),\n",
       " (((*/M */P.sr) */C (*/B.mm */C */C)), 2),\n",
       " ((*/M */P.sr), 2),\n",
       " ((*/B.mm (*/M */C) (*/M */C)), 2),\n",
       " ((*/M */P.scx), 2),\n",
       " ((*/J */S */R), 2),\n",
       " ((*/J (*/T */R) */R), 2),\n",
       " ((*/P */C), 2),\n",
       " ((*/P.p */C), 2),\n",
       " (((*/M */P.p) */C), 2),\n",
       " ((*/J (*/J */C */R) */R), 2),\n",
       " ((*/P.scx */C (*/B.ma */C */C) */S), 2),\n",
       " (((*/M */P.sox) (*/M */C) */C */S), 2),\n",
       " ((*/P.sox (*/M */C) (*/M */C) */S), 2),\n",
       " (((*/M */P.sox) (*/M */C) (*/M */C) */S), 2),\n",
       " (((*/M */P.sox) (*/M */C) */C (*/T */C)), 2),\n",
       " ((*/P.sox (*/M */C) (*/M */C) (*/T */C)), 2),\n",
       " (((*/M */P.sox) (*/M */C) (*/M */C) (*/T */C)), 2),\n",
       " ((*/J (*/P.scx */C */C */S) */R), 2),\n",
       " ((*/P.scx (*/B.ma */C */C) */C */S), 2),\n",
       " ((*/P.scx (*/B.ma */C */C) (*/M */C) */S), 2),\n",
       " ((*/P.scx (*/B.ma */C */C) */C (*/T */C)), 2),\n",
       " ((*/P.scx */C (*/M */C) (*/T */C)), 2),\n",
       " ((*/P.scx (*/B.ma */C */C) (*/M */C) (*/T */C)), 2),\n",
       " ((*/J (*/M */C) (*/B.ma */C */C)), 2),\n",
       " ((*/P.soxx */C */C */S */S), 2),\n",
       " ((*/P.soxx */C */C (*/T */C) */S), 2),\n",
       " ((*/P.soxx */C */C */S (*/T */C)), 2),\n",
       " ((*/P.soxx */C */C (*/T */C) (*/T */C)), 2),\n",
       " ((*/B.mm (*/B.ma */C */C) (*/B.ma */C */C)), 2),\n",
       " ((*/M (*/M */P.sx)), 2),\n",
       " ((*/J */R (*/M */C)), 2),\n",
       " (((*/M */P.s) */C), 2),\n",
       " ((*/M */P.s), 2),\n",
       " ((*/P.r */R), 2),\n",
       " ((*/J */R (*/P.sc */C */C)), 2),\n",
       " (((*/M */P.sc) */C */C), 2),\n",
       " (((*/M */P.sc) */C (*/B.ma */C */C)), 2),\n",
       " ((*/M */P.sc), 2),\n",
       " ((*/P.sox (*/B.ma */C */C) */C */S), 2),\n",
       " ((*/P.sox (*/B.ma */C */C) (*/M */C) */S), 2),\n",
       " ((*/P.sox (*/B.ma */C */C) */C (*/T */C)), 2),\n",
       " ((*/P.sox (*/B.ma */C */C) (*/M */C) (*/T */C)), 2),\n",
       " ((*/P.c */C), 2),\n",
       " (((*/M */P.c) */C), 2),\n",
       " ((*/M */P.c), 2),\n",
       " ((*/P.xx */S */S), 2),\n",
       " ((*/P.xx (*/T */C) */S), 2),\n",
       " ((*/P.xx */S (*/T */C)), 2),\n",
       " ((*/P.xx (*/T */C) (*/T */C)), 2),\n",
       " (((*/M */P.so) */C (*/M */C)), 2),\n",
       " ((*/J */R (*/P.so */C */C)), 2),\n",
       " ((*/P.so (*/M */C) */C), 2),\n",
       " ((*/P.sxr */C */S */R), 2),\n",
       " ((*/P.sxr */C (*/T */C) */R), 2),\n",
       " ((*/P.sc */C (*/M */C)), 2),\n",
       " ((*/B.mm (*/J */C */C) */C), 2),\n",
       " ((*/J (*/P.sc */C */C) */R), 2),\n",
       " ((*/J */R (*/B.mm */C */C)), 2),\n",
       " ((*/B.mm (*/J */C */R) */C), 2),\n",
       " ((*/J (*/B.mm */C */C) */R), 2),\n",
       " (((*/M */P.o) */C), 2),\n",
       " ((*/M */P.o), 2),\n",
       " ((*/P.sx (*/M */C) */S), 2),\n",
       " ((*/P.sx (*/M */C) (*/T */C)), 2),\n",
       " ((*/P.o? */C */R), 2),\n",
       " ((*/J */C (*/P.so */C */C)), 2),\n",
       " ((*/P.x */C), 2),\n",
       " ((*/M */P.pr), 2),\n",
       " ((*/P.so (*/B.mm */C */C) */C), 2),\n",
       " ((*/J */C (*/P.oo */C */C)), 2),\n",
       " ((*/P.oo */C */C), 2),\n",
       " ((*/M */P.sxxx), 2),\n",
       " (((*/M */M) */J), 2),\n",
       " (((*/M */T) */C), 2),\n",
       " ((*/M */T), 2),\n",
       " ((*/M */P.cx), 2),\n",
       " (((*/M */M) (*/B.ma */C */C)), 2),\n",
       " ((*/P.ssc */C */C */C), 1),\n",
       " ((*/P.ssc */C (*/B.mm */C */C) */C), 1),\n",
       " ((*/P.ssc */C */C (*/J */C */C)), 1),\n",
       " ((*/P.ssc */C (*/B.mm */C */C) (*/J */C */C)), 1),\n",
       " ((*/J (*/P.sxx */C */S */S) */R), 1),\n",
       " ((*/J (*/P.sxx */C */S */S) (*/P.o */C)), 1),\n",
       " ((*/P.sxx */C */S */S), 1),\n",
       " ((*/P.sxx */C (*/T */C) */S), 1),\n",
       " ((*/P.sxx */C */S (*/T */C)), 1),\n",
       " ((*/P.sxx */C (*/T */C) (*/T */C)), 1),\n",
       " ((*/J (*/P.scxx */C */C */R */S) */R), 1),\n",
       " ((*/J */R (*/P.sr */C */C)), 1),\n",
       " ((*/J (*/P.scxx */C */C */R */S) (*/P.sr */C */C)), 1),\n",
       " ((*/P.scxx */C */C */R */S), 1),\n",
       " (((*/M */P.scxx) */C */C */R */S), 1),\n",
       " ((*/P.scxx */C (*/B.ma */C */C) */R */S), 1),\n",
       " (((*/M */P.scxx) */C (*/B.ma */C */C) */R */S), 1),\n",
       " ((*/P.scxx */C */C (*/P.x */S) */S), 1),\n",
       " (((*/M */P.scxx) */C */C (*/P.x */S) */S), 1),\n",
       " ((*/P.scxx */C (*/B.ma */C */C) (*/P.x */S) */S), 1),\n",
       " (((*/M */P.scxx) */C (*/B.ma */C */C) (*/P.x */S) */S), 1),\n",
       " ((*/P.scxx */C */C */R (*/T */C)), 1),\n",
       " (((*/M */P.scxx) */C */C */R (*/T */C)), 1),\n",
       " ((*/P.scxx */C (*/B.ma */C */C) */R (*/T */C)), 1),\n",
       " (((*/M */P.scxx) */C (*/B.ma */C */C) */R (*/T */C)), 1),\n",
       " ((*/P.scxx */C */C (*/P.x */S) (*/T */C)), 1),\n",
       " (((*/M */P.scxx) */C */C (*/P.x */S) (*/T */C)), 1),\n",
       " ((*/P.scxx */C (*/B.ma */C */C) (*/P.x */S) (*/T */C)), 1),\n",
       " (((*/M */P.scxx) */C (*/B.ma */C */C) (*/P.x */S) (*/T */C)), 1),\n",
       " ((*/M */P.scxx), 1),\n",
       " ((*/P.sr (*/B.ma */C */C) */C), 1),\n",
       " (((*/M */P.sr) (*/B.ma */C */C) */C), 1),\n",
       " ((*/P.sr (*/B.ma */C */C) (*/B.mm */C */C)), 1),\n",
       " (((*/M */P.sr) (*/B.ma */C */C) (*/B.mm */C */C)), 1),\n",
       " ((*/P.poxr */C */C */S */R), 1),\n",
       " (((*/M */P.poxr) */C */C */S */R), 1),\n",
       " ((*/P.poxr */C */C (*/T */C) */R), 1),\n",
       " (((*/M */P.poxr) */C */C (*/T */C) */R), 1),\n",
       " ((*/P.poxr */C */C */S (*/P.scx */C */C */S)), 1),\n",
       " (((*/M */P.poxr) */C */C */S (*/P.scx */C */C */S)), 1),\n",
       " ((*/P.poxr */C */C (*/T */C) (*/P.scx */C */C */S)), 1),\n",
       " (((*/M */P.poxr) */C */C (*/T */C) (*/P.scx */C */C */S)), 1),\n",
       " ((*/M */P.poxr), 1),\n",
       " (((*/M */P.scx) */C */C */S), 1),\n",
       " (((*/M */P.scx) */C (*/M */C) */S), 1),\n",
       " ((*/P.scx */C */C (*/T */R)), 1),\n",
       " (((*/M */P.scx) */C */C (*/T */R)), 1),\n",
       " ((*/P.scx */C (*/M */C) (*/T */R)), 1),\n",
       " (((*/M */P.scx) */C (*/M */C) (*/T */R)), 1),\n",
       " ((*/T (*/P.soxxx */C */C */S */S */S)), 1),\n",
       " ((*/P.soxxx */C */C */S */S */S), 1),\n",
       " ((*/P.soxxx (*/B.ma */C */C) */C */S */S */S), 1),\n",
       " ((*/P.soxxx */C (*/M */C) */S */S */S), 1),\n",
       " ((*/P.soxxx (*/B.ma */C */C) (*/M */C) */S */S */S), 1),\n",
       " ((*/P.soxxx */C */C (*/T */C) */S */S), 1),\n",
       " ((*/P.soxxx (*/B.ma */C */C) */C (*/T */C) */S */S), 1),\n",
       " ((*/P.soxxx */C (*/M */C) (*/T */C) */S */S), 1),\n",
       " ((*/P.soxxx (*/B.ma */C */C) (*/M */C) (*/T */C) */S */S), 1),\n",
       " ((*/P.soxxx */C */C */S (*/T */C) */S), 1),\n",
       " ((*/P.soxxx (*/B.ma */C */C) */C */S (*/T */C) */S), 1),\n",
       " ((*/P.soxxx */C (*/M */C) */S (*/T */C) */S), 1),\n",
       " ((*/P.soxxx (*/B.ma */C */C) (*/M */C) */S (*/T */C) */S), 1),\n",
       " ((*/P.soxxx */C */C (*/T */C) (*/T */C) */S), 1),\n",
       " ((*/P.soxxx (*/B.ma */C */C) */C (*/T */C) (*/T */C) */S), 1),\n",
       " ((*/P.soxxx */C (*/M */C) (*/T */C) (*/T */C) */S), 1),\n",
       " ((*/P.soxxx (*/B.ma */C */C) (*/M */C) (*/T */C) (*/T */C) */S), 1),\n",
       " ((*/P.soxxx */C */C */S */S (*/T */C)), 1),\n",
       " ((*/P.soxxx (*/B.ma */C */C) */C */S */S (*/T */C)), 1),\n",
       " ((*/P.soxxx */C (*/M */C) */S */S (*/T */C)), 1),\n",
       " ((*/P.soxxx (*/B.ma */C */C) (*/M */C) */S */S (*/T */C)), 1),\n",
       " ((*/P.soxxx */C */C (*/T */C) */S (*/T */C)), 1),\n",
       " ((*/P.soxxx (*/B.ma */C */C) */C (*/T */C) */S (*/T */C)), 1),\n",
       " ((*/P.soxxx */C (*/M */C) (*/T */C) */S (*/T */C)), 1),\n",
       " ((*/P.soxxx (*/B.ma */C */C) (*/M */C) (*/T */C) */S (*/T */C)), 1),\n",
       " ((*/P.soxxx */C */C */S (*/T */C) (*/T */C)), 1),\n",
       " ((*/P.soxxx (*/B.ma */C */C) */C */S (*/T */C) (*/T */C)), 1),\n",
       " ((*/P.soxxx */C (*/M */C) */S (*/T */C) (*/T */C)), 1),\n",
       " ((*/P.soxxx (*/B.ma */C */C) (*/M */C) */S (*/T */C) (*/T */C)), 1),\n",
       " ((*/P.soxxx */C */C (*/T */C) (*/T */C) (*/T */C)), 1),\n",
       " ((*/P.soxxx (*/B.ma */C */C) */C (*/T */C) (*/T */C) (*/T */C)), 1),\n",
       " ((*/P.soxxx */C (*/M */C) (*/T */C) (*/T */C) (*/T */C)), 1),\n",
       " ((*/P.soxxx (*/B.ma */C */C) (*/M */C) (*/T */C) (*/T */C) (*/T */C)), 1),\n",
       " ((*/P.pxx */C */S */S), 1),\n",
       " (((*/M */P.pxx) */C */S */S), 1),\n",
       " ((*/P.pxx (*/B.ma */C */C) */S */S), 1),\n",
       " (((*/M */P.pxx) (*/B.ma */C */C) */S */S), 1),\n",
       " ((*/P.pxx */C (*/T */C) */S), 1),\n",
       " (((*/M */P.pxx) */C (*/T */C) */S), 1),\n",
       " ((*/P.pxx (*/B.ma */C */C) (*/T */C) */S), 1),\n",
       " (((*/M */P.pxx) (*/B.ma */C */C) (*/T */C) */S), 1),\n",
       " ((*/P.pxx */C */S (*/T */C)), 1),\n",
       " (((*/M */P.pxx) */C */S (*/T */C)), 1),\n",
       " ((*/P.pxx (*/B.ma */C */C) */S (*/T */C)), 1),\n",
       " (((*/M */P.pxx) (*/B.ma */C */C) */S (*/T */C)), 1),\n",
       " ((*/P.pxx */C (*/T */C) (*/T */C)), 1),\n",
       " (((*/M */P.pxx) */C (*/T */C) (*/T */C)), 1),\n",
       " ((*/P.pxx (*/B.ma */C */C) (*/T */C) (*/T */C)), 1),\n",
       " (((*/M */P.pxx) (*/B.ma */C */C) (*/T */C) (*/T */C)), 1),\n",
       " ((*/M */P.pxx), 1),\n",
       " ((*/J (*/B.ma */C */C) (*/B.mm */C */C)), 1),\n",
       " ((*/P.? */S), 1),\n",
       " (((*/J */P.? */R) */S), 1),\n",
       " ((*/P.? (*/J */S */S)), 1),\n",
       " (((*/J */P.? */R) (*/J */S */S)), 1),\n",
       " ((*/J */P.? */R), 1),\n",
       " ((*/J (*/M */P.?) */R), 1),\n",
       " ((*/J */P.? (*/P */S */S)), 1),\n",
       " ((*/J (*/M */P.?) (*/P */S */S)), 1),\n",
       " ((*/M (*/M */P.?)), 1),\n",
       " ((*/P */S */S), 1),\n",
       " ((*/P (*/T */C) */S), 1),\n",
       " ((*/P */S (*/J */S */R)), 1),\n",
       " ((*/P (*/T */C) (*/J */S */R)), 1),\n",
       " ((*/J */S (*/P */C)), 1),\n",
       " ((*/J (*/T */R) (*/P */C)), 1),\n",
       " ((*/T (*/P */C)), 1),\n",
       " ((*/P (*/B */C */C)), 1),\n",
       " ((*/B (*/B */C */C) */C), 1),\n",
       " ((*/B */C (*/B */C */C)), 1),\n",
       " ((*/B (*/B */C */C) (*/B */C */C)), 1),\n",
       " ((*/B */C (*/J */C */C)), 1),\n",
       " ((*/B (*/M */C) */C), 1),\n",
       " ((*/J */S */S), 1),\n",
       " ((*/J (*/T */R) */S), 1),\n",
       " ((*/J */S (*/T */C)), 1),\n",
       " ((*/J (*/T */R) (*/T */C)), 1),\n",
       " ((*/T (*/P.p */C)), 1),\n",
       " ((*/M (*/M */P.p)), 1),\n",
       " ((*/J */C (*/P.scx */C */C */S)), 1),\n",
       " ((*/J (*/J */C */R) (*/P.scx */C */C */S)), 1),\n",
       " ((*/J */C (*/P.o?? */C */R */R)), 1),\n",
       " ((*/J (*/M */C) (*/P.o?? */C */R */R)), 1),\n",
       " ((*/P.o?? */C */R */R), 1),\n",
       " ((*/P.o?? (*/B.ma */C */C) */R */R), 1),\n",
       " ((*/P.o?? */C (*/P.sx */C */S) */R), 1),\n",
       " ((*/P.o?? (*/B.ma */C */C) (*/P.sx */C */S) */R), 1),\n",
       " ((*/P.o?? */C */R (*/P.so */C */C)), 1),\n",
       " ((*/P.o?? (*/B.ma */C */C) */R (*/P.so */C */C)), 1),\n",
       " ((*/P.o?? */C (*/P.sx */C */S) (*/P.so */C */C)), 1),\n",
       " ((*/P.o?? (*/B.ma */C */C) (*/P.sx */C */S) (*/P.so */C */C)), 1),\n",
       " ((*/P.scx */C */C (*/J */S */R)), 1),\n",
       " ((*/P.scx */C (*/B.ma */C */C) (*/J */S */R)), 1),\n",
       " ((*/J */S (*/P.cx */C */S)), 1),\n",
       " ((*/J (*/T */R) (*/P.cx */C */S)), 1),\n",
       " ((*/T (*/P.s */C)), 1),\n",
       " ((*/P.cx */C */S), 1),\n",
       " ((*/P.cx (*/M */C) */S), 1),\n",
       " ((*/P.cx */C (*/T */C)), 1),\n",
       " ((*/P.cx (*/M */C) (*/T */C)), 1),\n",
       " ((*/J (*/P.scx */C */C */S) (*/P.o */C)), 1),\n",
       " ((*/P.scx (*/M */C) */C */S), 1),\n",
       " ((*/P.scx (*/M */C) (*/B.ma */C */C) */S), 1),\n",
       " ((*/P.scx (*/M */C) */C (*/T */C)), 1),\n",
       " ((*/P.scx */C (*/B.ma */C */C) (*/T */C)), 1),\n",
       " ((*/P.scx (*/M */C) (*/B.ma */C */C) (*/T */C)), 1),\n",
       " ((*/P.soxx (*/M */C) */C */S */S), 1),\n",
       " ((*/P.soxx */C (*/B.mm */C */C) */S */S), 1),\n",
       " ((*/P.soxx (*/M */C) (*/B.mm */C */C) */S */S), 1),\n",
       " ((*/P.soxx (*/M */C) */C (*/T */C) */S), 1),\n",
       " ((*/P.soxx */C (*/B.mm */C */C) (*/T */C) */S), 1),\n",
       " ((*/P.soxx (*/M */C) (*/B.mm */C */C) (*/T */C) */S), 1),\n",
       " ((*/P.soxx (*/M */C) */C */S (*/T */C)), 1),\n",
       " ((*/P.soxx */C (*/B.mm */C */C) */S (*/T */C)), 1),\n",
       " ((*/P.soxx (*/M */C) (*/B.mm */C */C) */S (*/T */C)), 1),\n",
       " ((*/P.soxx (*/M */C) */C (*/T */C) (*/T */C)), 1),\n",
       " ((*/P.soxx */C (*/B.mm */C */C) (*/T */C) (*/T */C)), 1),\n",
       " ((*/P.soxx (*/M */C) (*/B.mm */C */C) (*/T */C) (*/T */C)), 1),\n",
       " (((*/M */J) */R */C), 1),\n",
       " ((*/J (*/P.s */C) */C), 1),\n",
       " (((*/M */J) (*/P.s */C) */C), 1),\n",
       " (((*/M */J) */R (*/M */C)), 1),\n",
       " ((*/J (*/P.s */C) (*/M */C)), 1),\n",
       " (((*/M */J) (*/P.s */C) (*/M */C)), 1),\n",
       " ((*/P.s (*/M */C)), 1),\n",
       " (((*/M */P.s) (*/M */C)), 1),\n",
       " ((*/P.soxx */C */C */S */R), 1),\n",
       " ((*/P.soxx (*/M */C) */C */S */R), 1),\n",
       " ((*/P.soxx */C (*/M */C) */S */R), 1),\n",
       " ((*/P.soxx (*/M */C) (*/M */C) */S */R), 1),\n",
       " ((*/P.soxx */C */C (*/T */R) */R), 1),\n",
       " ((*/P.soxx (*/M */C) */C (*/T */R) */R), 1),\n",
       " ((*/P.soxx */C (*/M */C) (*/T */R) */R), 1),\n",
       " ((*/P.soxx (*/M */C) (*/M */C) (*/T */R) */R), 1),\n",
       " ((*/P.soxx */C */C */S (*/P.r */R)), 1),\n",
       " ((*/P.soxx (*/M */C) */C */S (*/P.r */R)), 1),\n",
       " ((*/P.soxx */C (*/M */C) */S (*/P.r */R)), 1),\n",
       " ((*/P.soxx (*/M */C) (*/M */C) */S (*/P.r */R)), 1),\n",
       " ((*/P.soxx */C */C (*/T */R) (*/P.r */R)), 1),\n",
       " ((*/P.soxx (*/M */C) */C (*/T */R) (*/P.r */R)), 1),\n",
       " ((*/P.soxx */C (*/M */C) (*/T */R) (*/P.r */R)), 1),\n",
       " ((*/P.soxx (*/M */C) (*/M */C) (*/T */R) (*/P.r */R)), 1),\n",
       " ((*/T (*/P.xx */S */R)), 1),\n",
       " ((*/P.xx */S */R), 1),\n",
       " ((*/P.xx (*/T */C) */R), 1),\n",
       " ((*/P.xx */S (*/P.oxxx */C */S */S */C)), 1),\n",
       " ((*/P.xx (*/T */C) (*/P.oxxx */C */S */S */C)), 1),\n",
       " ((*/P.oxxx */C */S */S */C), 1),\n",
       " (((*/M */P.oxxx) */C */S */S */C), 1),\n",
       " ((*/P.oxxx (*/M */C) */S */S */C), 1),\n",
       " (((*/M */P.oxxx) (*/M */C) */S */S */C), 1),\n",
       " ((*/P.oxxx */C (*/T */C) */S */C), 1),\n",
       " (((*/M */P.oxxx) */C (*/T */C) */S */C), 1),\n",
       " ((*/P.oxxx (*/M */C) (*/T */C) */S */C), 1),\n",
       " (((*/M */P.oxxx) (*/M */C) (*/T */C) */S */C), 1),\n",
       " ((*/P.oxxx */C */S (*/T */C) */C), 1),\n",
       " (((*/M */P.oxxx) */C */S (*/T */C) */C), 1),\n",
       " ((*/P.oxxx (*/M */C) */S (*/T */C) */C), 1),\n",
       " (((*/M */P.oxxx) (*/M */C) */S (*/T */C) */C), 1),\n",
       " ((*/P.oxxx */C (*/T */C) (*/T */C) */C), 1),\n",
       " (((*/M */P.oxxx) */C (*/T */C) (*/T */C) */C), 1),\n",
       " ((*/P.oxxx (*/M */C) (*/T */C) (*/T */C) */C), 1),\n",
       " (((*/M */P.oxxx) (*/M */C) (*/T */C) (*/T */C) */C), 1),\n",
       " ((*/P.oxxx */C */S */S (*/M */C)), 1),\n",
       " (((*/M */P.oxxx) */C */S */S (*/M */C)), 1),\n",
       " ((*/P.oxxx (*/M */C) */S */S (*/M */C)), 1),\n",
       " (((*/M */P.oxxx) (*/M */C) */S */S (*/M */C)), 1),\n",
       " ((*/P.oxxx */C (*/T */C) */S (*/M */C)), 1),\n",
       " (((*/M */P.oxxx) */C (*/T */C) */S (*/M */C)), 1),\n",
       " ((*/P.oxxx (*/M */C) (*/T */C) */S (*/M */C)), 1),\n",
       " (((*/M */P.oxxx) (*/M */C) (*/T */C) */S (*/M */C)), 1),\n",
       " ((*/P.oxxx */C */S (*/T */C) (*/M */C)), 1),\n",
       " (((*/M */P.oxxx) */C */S (*/T */C) (*/M */C)), 1),\n",
       " ((*/P.oxxx (*/M */C) */S (*/T */C) (*/M */C)), 1),\n",
       " (((*/M */P.oxxx) (*/M */C) */S (*/T */C) (*/M */C)), 1),\n",
       " ((*/P.oxxx */C (*/T */C) (*/T */C) (*/M */C)), 1),\n",
       " (((*/M */P.oxxx) */C (*/T */C) (*/T */C) (*/M */C)), 1),\n",
       " ((*/P.oxxx (*/M */C) (*/T */C) (*/T */C) (*/M */C)), 1),\n",
       " (((*/M */P.oxxx) (*/M */C) (*/T */C) (*/T */C) (*/M */C)), 1),\n",
       " ((*/M */P.oxxx), 1),\n",
       " ((*/P.r (*/P.sc */C */C)), 1),\n",
       " ((*/J (*/J */R */R) */R), 1),\n",
       " ((*/J (*/J */R */R) (*/P.sc */C */C)), 1),\n",
       " ((*/J (*/P.sox */C */C */S) */R), 1),\n",
       " ((*/J */R (*/P.xr */S */R)), 1),\n",
       " ((*/J (*/P.sox */C */C */S) (*/P.xr */S */R)), 1),\n",
       " ((*/M (*/M */P.sox)), 1),\n",
       " ((*/P.xr */S */R), 1),\n",
       " ((*/P.xr (*/T */C) */R), 1),\n",
       " ((*/P.xr */S (*/P.sc */C */C)), 1),\n",
       " ((*/P.xr (*/T */C) (*/P.sc */C */C)), 1),\n",
       " ((*/P.soxx */C */C */S */C), 1),\n",
       " ((*/P.soxx (*/M */C) */C */S */C), 1),\n",
       " ((*/P.soxx */C */C (*/T */C) */C), 1),\n",
       " ((*/P.soxx (*/M */C) */C (*/T */C) */C), 1),\n",
       " ((*/P.soxx */C */C */S (*/J */C */R)), 1),\n",
       " ((*/P.soxx (*/M */C) */C */S (*/J */C */R)), 1),\n",
       " ((*/P.soxx */C */C (*/T */C) (*/J */C */R)), 1),\n",
       " ((*/P.soxx (*/M */C) */C (*/T */C) (*/J */C */R)), 1),\n",
       " ((*/J */C (*/P.sox */C */C */S)), 1),\n",
       " ((*/J (*/M */C) (*/P.sox */C */C */S)), 1),\n",
       " (((*/M */P.sox) (*/B.ma */C */C) */C */S), 1),\n",
       " (((*/M */P.sox) (*/B.ma */C */C) (*/M */C) */S), 1),\n",
       " (((*/M */P.sox) (*/B.ma */C */C) */C (*/T */C)), 1),\n",
       " (((*/M */P.sox) (*/B.ma */C */C) (*/M */C) (*/T */C)), 1),\n",
       " ((*/P.scx? */C */R */S */R), 1),\n",
       " ((*/P.scx? (*/M */C) */R */S */R), 1),\n",
       " ((*/P.scx? */C (*/P.c */C) */S */R), 1),\n",
       " ((*/P.scx? (*/M */C) (*/P.c */C) */S */R), 1),\n",
       " ((*/P.scx? */C */R (*/T */C) */R), 1),\n",
       " ((*/P.scx? (*/M */C) */R (*/T */C) */R), 1),\n",
       " ((*/P.scx? */C (*/P.c */C) (*/T */C) */R), 1),\n",
       " ((*/P.scx? (*/M */C) (*/P.c */C) (*/T */C) */R), 1),\n",
       " ((*/P.scx? */C */R */S (*/J */R */R)), 1),\n",
       " ((*/P.scx? (*/M */C) */R */S (*/J */R */R)), 1),\n",
       " ((*/P.scx? */C (*/P.c */C) */S (*/J */R */R)), 1),\n",
       " ((*/P.scx? (*/M */C) (*/P.c */C) */S (*/J */R */R)), 1),\n",
       " ((*/P.scx? */C */R (*/T */C) (*/J */R */R)), 1),\n",
       " ((*/P.scx? (*/M */C) */R (*/T */C) (*/J */R */R)), 1),\n",
       " ((*/P.scx? */C (*/P.c */C) (*/T */C) (*/J */R */R)), 1),\n",
       " ((*/P.scx? (*/M */C) (*/P.c */C) (*/T */C) (*/J */R */R)), 1),\n",
       " ((*/J (*/P.xx */S */S) */R), 1),\n",
       " ((*/J */R (*/P.r */R)), 1),\n",
       " ((*/J (*/P.xx */S */S) (*/P.r */R)), 1),\n",
       " ((*/P.r (*/P.so */C */C)), 1),\n",
       " ((*/J (*/P.px */C */S) */R), 1),\n",
       " ((*/J (*/P.px */C */S) (*/P.so */C */C)), 1),\n",
       " ((*/P.px (*/M */C) */S), 1),\n",
       " (((*/M */P.px) (*/M */C) */S), 1),\n",
       " ((*/P.px (*/M */C) (*/T */C)), 1),\n",
       " (((*/M */P.px) (*/M */C) (*/T */C)), 1),\n",
       " ((*/P.so (*/M */C) (*/M */C)), 1),\n",
       " ((*/B.ma */C (*/B.aa */C */C)), 1),\n",
       " ((*/J (*/P.sx */C */S) */R), 1),\n",
       " ((*/J */R (*/P.sxr */C */S */R)), 1),\n",
       " ((*/J (*/P.sx */C */S) (*/P.sxr */C */S */R)), 1),\n",
       " ((*/P.sxr (*/B.ma */C */C) */S */R), 1),\n",
       " ((*/P.sxr (*/B.ma */C */C) (*/T */C) */R), 1),\n",
       " ((*/P.sxr */C */S (*/P.sxx? */C */S */R */C)), 1),\n",
       " ((*/P.sxr (*/B.ma */C */C) */S (*/P.sxx? */C */S */R */C)), 1),\n",
       " ((*/P.sxr */C (*/T */C) (*/P.sxx? */C */S */R */C)), 1),\n",
       " ((*/P.sxr (*/B.ma */C */C) (*/T */C) (*/P.sxx? */C */S */R */C)), 1),\n",
       " ((*/P.sxx? */C */S */R */C), 1),\n",
       " ((*/P.sxx? */C (*/T */C) */R */C), 1),\n",
       " ((*/P.sxx? */C */S (*/P.oox */C */C */S) */C), 1),\n",
       " ((*/P.sxx? */C (*/T */C) (*/P.oox */C */C */S) */C), 1),\n",
       " ((*/P.oox */C */C */S), 1),\n",
       " (((*/M */P.oox) */C */C */S), 1),\n",
       " ((*/P.oox (*/M */C) */C */S), 1),\n",
       " (((*/M */P.oox) (*/M */C) */C */S), 1),\n",
       " ((*/P.oox */C */C (*/T */C)), 1),\n",
       " (((*/M */P.oox) */C */C (*/T */C)), 1),\n",
       " ((*/P.oox (*/M */C) */C (*/T */C)), 1),\n",
       " (((*/M */P.oox) (*/M */C) */C (*/T */C)), 1),\n",
       " ((*/M */P.oox), 1),\n",
       " ((*/P.sr */C (*/J */R */R)), 1),\n",
       " ((*/J (*/P.sox */C */C */R) */R), 1),\n",
       " ((*/J (*/P.sox */C */C */R) (*/P.sc */C */C)), 1),\n",
       " ((*/P.sox */C */C */R), 1),\n",
       " ((*/P.sox */C (*/B.ma */C */C) */R), 1),\n",
       " ((*/P.sox */C */C (*/P.sc? */C */C */C)), 1),\n",
       " ((*/P.sox */C (*/B.ma */C */C) (*/P.sc? */C */C */C)), 1),\n",
       " ((*/P.sc? */C */C */C), 1),\n",
       " ((*/P.sc? (*/M */C) */C */C), 1),\n",
       " ((*/P.sc? */C (*/M */C) */C), 1),\n",
       " ((*/P.sc? (*/M */C) (*/M */C) */C), 1),\n",
       " ((*/P.sc (*/B.ma */C */C) */C), 1),\n",
       " ((*/P.sc (*/B.ma */C */C) (*/M */C)), 1),\n",
       " ((*/J (*/J */R */C) */R), 1),\n",
       " ((*/J */R (*/P.x */S)), 1),\n",
       " ((*/J (*/J */R */C) (*/P.x */S)), 1),\n",
       " ((*/J (*/P.s?? */C */R */C) */C), 1),\n",
       " ((*/J */R (*/J */C */R)), 1),\n",
       " ((*/J (*/P.s?? */C */R */C) (*/J */C */R)), 1),\n",
       " ((*/P.s?? */C */R */C), 1),\n",
       " ((*/P.s?? (*/B.ma */C */C) */R */C), 1),\n",
       " ((*/P.s?? */C (*/P.o */C) */C), 1),\n",
       " ((*/P.s?? (*/B.ma */C */C) (*/P.o */C) */C), 1),\n",
       " ((*/P.s?? */C */R (*/M */C)), 1),\n",
       " ((*/P.s?? (*/B.ma */C */C) */R (*/M */C)), 1),\n",
       " ((*/P.s?? */C (*/P.o */C) (*/M */C)), 1),\n",
       " ((*/P.s?? (*/B.ma */C */C) (*/P.o */C) (*/M */C)), 1),\n",
       " ((*/J */C (*/P.soxx */C */C */S */S)), 1),\n",
       " ((*/J (*/M */C) (*/P.soxx */C */C */S */S)), 1),\n",
       " ((*/P.scx */C */C */R), 1),\n",
       " (((*/M */P.scx) */C */C */R), 1),\n",
       " ((*/P.scx */C (*/J */C */C) */R), 1),\n",
       " (((*/M */P.scx) */C (*/J */C */C) */R), 1),\n",
       " ((*/P.scx */C */C (*/P.ox */C */S)), 1),\n",
       " (((*/M */P.scx) */C */C (*/P.ox */C */S)), 1),\n",
       " ((*/P.scx */C (*/J */C */C) (*/P.ox */C */S)), 1),\n",
       " (((*/M */P.scx) */C (*/J */C */C) (*/P.ox */C */S)), 1),\n",
       " ((*/P.ox (*/B.mm */C */C) */S), 1),\n",
       " ((*/P.ox (*/B.mm */C */C) (*/T */C)), 1),\n",
       " ((*/B.mm (*/B.mm */C */C) (*/J */C */C)), 1),\n",
       " ((*/B.mm (*/J */C */C) (*/M */C)), 1),\n",
       " ((*/J (*/P.so */C */C) */C), 1),\n",
       " ((*/J (*/P.so */C */C) (*/M */C)), 1),\n",
       " ((*/B.ma (*/B.ma */C */C) (*/B.mm */C */C)), 1),\n",
       " ((*/B.mm (*/M */C) (*/J */C */C)), 1),\n",
       " ((*/J (*/M */C) (*/B.mm */C */C)), 1),\n",
       " ((*/J */R (*/P.sr */C */R)), 1),\n",
       " ((*/J (*/P.sc */C */C) (*/P.sr */C */R)), 1),\n",
       " ((*/P.sr */C (*/P.xx */S */S)), 1),\n",
       " (((*/M */P.xx) */S */S), 1),\n",
       " (((*/M */P.xx) (*/T */C) */S), 1),\n",
       " (((*/M */P.xx) */S (*/T */C)), 1),\n",
       " (((*/M */P.xx) (*/T */C) (*/T */C)), 1),\n",
       " ((*/M */P.xx), 1),\n",
       " ((*/J (*/P.sr */C */R) */R), 1),\n",
       " ((*/J (*/P.sr */C */R) (*/P.o */C)), 1),\n",
       " ((*/P.sr */C (*/P.oixx */C */C */S */S)), 1),\n",
       " ((*/P.oixx */C */C */S */S), 1),\n",
       " ((*/P.oixx */C */C (*/T */C) */S), 1),\n",
       " ((*/P.oixx */C */C */S (*/T */C)), 1),\n",
       " ((*/P.oixx */C */C (*/T */C) (*/T */C)), 1),\n",
       " ((*/B.ma (*/B.ma */C */C) (*/J */C */C)), 1),\n",
       " ((*/J (*/J */R */S) */C), 1),\n",
       " ((*/J (*/J */R */S) (*/B.mm */C */C)), 1),\n",
       " ((*/J (*/P.px */C */S) */S), 1),\n",
       " ((*/J */R (*/T */R)), 1),\n",
       " ((*/J (*/P.px */C */S) (*/T */R)), 1),\n",
       " ((*/M (*/M */P.px)), 1),\n",
       " ((*/T (*/P.so */C */C)), 1),\n",
       " ((*/P.so */C (*/B.mm */C */C)), 1),\n",
       " ((*/B.mm (*/J */C */R) (*/B.ma */C */C)), 1),\n",
       " ((*/J */C (*/P.o */C)), 1),\n",
       " ((*/J (*/B.mm */C */C) (*/P.o */C)), 1),\n",
       " ((*/J (*/J */R */R) */C), 1),\n",
       " ((*/J */R (*/B.ma */C */C)), 1),\n",
       " ((*/J (*/J */R */R) (*/B.ma */C */C)), 1),\n",
       " ((*/J */R (*/J */R */C)), 1),\n",
       " ((*/J (*/P.scx */C */C */S) (*/J */R */C)), 1),\n",
       " ((*/J (*/P.o */C) */C), 1),\n",
       " ((*/J (*/P.o */C) (*/B.mm */C */C)), 1),\n",
       " (((*/M */P.o) (*/M */C)), 1),\n",
       " ((*/J */C (*/P.sx */C */S)), 1),\n",
       " ((*/J (*/M */C) (*/P.sx */C */S)), 1),\n",
       " (((*/M */P.sx) (*/M */C) */S), 1),\n",
       " (((*/M */P.sx) (*/M */C) (*/T */C)), 1),\n",
       " ((*/J */C (*/J */R */R)), 1),\n",
       " ((*/J (*/B.mm */C */C) (*/J */R */R)), 1),\n",
       " ((*/J (*/P.o? */C */R) */R), 1),\n",
       " ((*/J */R (*/P.o? */C */R)), 1),\n",
       " ((*/J (*/P.o? */C */R) (*/P.o? */C */R)), 1),\n",
       " ((*/P.o? (*/B.mm */C */C) */R), 1),\n",
       " ((*/P.o? */C (*/P.so */C */C)), 1),\n",
       " ((*/P.o? (*/B.mm */C */C) (*/P.so */C */C)), 1),\n",
       " ((*/B.mm (*/B.mm */C */C) (*/B.mm */C */C)), 1),\n",
       " ((*/B.mm (*/J */C */R) (*/B.mm */C */C)), 1),\n",
       " ((*/J */C (*/P.x */R)), 1),\n",
       " ((*/J (*/M */C) (*/P.x */R)), 1),\n",
       " ((*/P.x */R), 1),\n",
       " ((*/P.x (*/P.x */C)), 1),\n",
       " ((*/P.x (*/B.ma */C */C)), 1),\n",
       " ((*/P.o? (*/M */C) */R), 1),\n",
       " ((*/P.o? */C (*/P.x */S)), 1),\n",
       " ((*/P.o? (*/M */C) (*/P.x */S)), 1),\n",
       " ((*/P.pr */C */R), 1),\n",
       " (((*/M */P.pr) */C */R), 1),\n",
       " ((*/P.pr (*/M */C) */R), 1),\n",
       " (((*/M */P.pr) (*/M */C) */R), 1),\n",
       " ((*/P.pr */C (*/P.o */C)), 1),\n",
       " (((*/M */P.pr) */C (*/P.o */C)), 1),\n",
       " ((*/P.pr (*/M */C) (*/P.o */C)), 1),\n",
       " (((*/M */P.pr) (*/M */C) (*/P.o */C)), 1),\n",
       " ((*/M (*/M */P.pr)), 1),\n",
       " (((*/M */P.o) (*/B.ma */C */C)), 1),\n",
       " ((*/J (*/P.p */C) */R), 1),\n",
       " ((*/J */R (*/P.ox */C */S)), 1),\n",
       " ((*/J (*/P.p */C) (*/P.ox */C */S)), 1),\n",
       " ((*/P.p (*/M */C)), 1),\n",
       " (((*/M */P.p) (*/M */C)), 1),\n",
       " ((*/P.ox (*/M */C) */S), 1),\n",
       " ((*/P.ox (*/M */C) (*/T */C)), 1),\n",
       " ((*/J (*/J */R */S) */R), 1),\n",
       " ((*/J */R (*/P.axx? */S */C */S */C)), 1),\n",
       " ((*/J (*/J */R */S) (*/P.axx? */S */C */S */C)), 1),\n",
       " ((*/J (*/P.s */C) */S), 1),\n",
       " ((*/J (*/P.s */C) (*/T */C)), 1),\n",
       " ((*/P.axx? */S */C */S */C), 1),\n",
       " (((*/M */P.axx?) */S */C */S */C), 1),\n",
       " ((*/P.axx? (*/T */C) */C */S */C), 1),\n",
       " (((*/M */P.axx?) (*/T */C) */C */S */C), 1),\n",
       " ((*/P.axx? */S (*/M */C) */S */C), 1),\n",
       " (((*/M */P.axx?) */S (*/M */C) */S */C), 1),\n",
       " ((*/P.axx? (*/T */C) (*/M */C) */S */C), 1),\n",
       " (((*/M */P.axx?) (*/T */C) (*/M */C) */S */C), 1),\n",
       " ((*/P.axx? */S */C (*/T */C) */C), 1),\n",
       " (((*/M */P.axx?) */S */C (*/T */C) */C), 1),\n",
       " ((*/P.axx? (*/T */C) */C (*/T */C) */C), 1),\n",
       " (((*/M */P.axx?) (*/T */C) */C (*/T */C) */C), 1),\n",
       " ((*/P.axx? */S (*/M */C) (*/T */C) */C), 1),\n",
       " (((*/M */P.axx?) */S (*/M */C) (*/T */C) */C), 1),\n",
       " ((*/P.axx? (*/T */C) (*/M */C) (*/T */C) */C), 1),\n",
       " (((*/M */P.axx?) (*/T */C) (*/M */C) (*/T */C) */C), 1),\n",
       " ((*/M */P.axx?), 1),\n",
       " ((*/J (*/P.pax */C */S */S) */R), 1),\n",
       " ((*/J (*/P.pax */C */S */S) (*/P.o */C)), 1),\n",
       " ((*/P.pax */C */S */S), 1),\n",
       " (((*/M */P.pax) */C */S */S), 1),\n",
       " ((*/P.pax (*/B.ma */C */C) */S */S), 1),\n",
       " (((*/M */P.pax) (*/B.ma */C */C) */S */S), 1),\n",
       " ((*/P.pax */C (*/T */C) */S), 1),\n",
       " (((*/M */P.pax) */C (*/T */C) */S), 1),\n",
       " ((*/P.pax (*/B.ma */C */C) (*/T */C) */S), 1),\n",
       " (((*/M */P.pax) (*/B.ma */C */C) (*/T */C) */S), 1),\n",
       " ((*/P.pax */C */S (*/T */C)), 1),\n",
       " (((*/M */P.pax) */C */S (*/T */C)), 1),\n",
       " ((*/P.pax (*/B.ma */C */C) */S (*/T */C)), 1),\n",
       " (((*/M */P.pax) (*/B.ma */C */C) */S (*/T */C)), 1),\n",
       " ((*/P.pax */C (*/T */C) (*/T */C)), 1),\n",
       " (((*/M */P.pax) */C (*/T */C) (*/T */C)), 1),\n",
       " ((*/P.pax (*/B.ma */C */C) (*/T */C) (*/T */C)), 1),\n",
       " (((*/M */P.pax) (*/B.ma */C */C) (*/T */C) (*/T */C)), 1),\n",
       " ((*/M */P.pax), 1),\n",
       " ((*/J (*/P.so */C */C) */R), 1),\n",
       " ((*/J (*/P.so */C */C) (*/P.o */C)), 1),\n",
       " ((*/P.so (*/B.mm */C */C) (*/M */C)), 1),\n",
       " ((*/J (*/J */C */R) (*/P.oo */C */C)), 1),\n",
       " (((*/M */J) */C */R), 1),\n",
       " (((*/M */J) (*/M */C) */R), 1),\n",
       " (((*/M */J) */C (*/P.so */C */C)), 1),\n",
       " ((*/J (*/M */C) (*/P.so */C */C)), 1),\n",
       " (((*/M */J) (*/M */C) (*/P.so */C */C)), 1),\n",
       " ((*/P.so (*/B.mm */C */C) (*/B.ma */C */C)), 1),\n",
       " ((*/B.mm (*/B.mm */C */C) (*/B.ma */C */C)), 1),\n",
       " ((*/P.oo (*/M */C) */C), 1),\n",
       " ((*/J (*/P.sxxx */C */S */C */S) */S), 1),\n",
       " ((*/J (*/P.sxxx */C */S */C */S) (*/T */C)), 1),\n",
       " ((*/P.sxxx */C */S */C */S), 1),\n",
       " (((*/M */P.sxxx) */C */S */C */S), 1),\n",
       " ((*/P.sxxx */C (*/T */C) */C */S), 1),\n",
       " (((*/M */P.sxxx) */C (*/T */C) */C */S), 1),\n",
       " ((*/P.sxxx */C */S (*/M */C) */S), 1),\n",
       " (((*/M */P.sxxx) */C */S (*/M */C) */S), 1),\n",
       " ((*/P.sxxx */C (*/T */C) (*/M */C) */S), 1),\n",
       " (((*/M */P.sxxx) */C (*/T */C) (*/M */C) */S), 1),\n",
       " ((*/P.sxxx */C */S */C (*/T */C)), 1),\n",
       " (((*/M */P.sxxx) */C */S */C (*/T */C)), 1),\n",
       " ((*/P.sxxx */C (*/T */C) */C (*/T */C)), 1),\n",
       " (((*/M */P.sxxx) */C (*/T */C) */C (*/T */C)), 1),\n",
       " ((*/P.sxxx */C */S (*/M */C) (*/T */C)), 1),\n",
       " (((*/M */P.sxxx) */C */S (*/M */C) (*/T */C)), 1),\n",
       " ((*/P.sxxx */C (*/T */C) (*/M */C) (*/T */C)), 1),\n",
       " (((*/M */P.sxxx) */C (*/T */C) (*/M */C) (*/T */C)), 1),\n",
       " (((*/M */M) */P.sxxx), 1),\n",
       " ((*/M (*/M */P.sxxx)), 1),\n",
       " (((*/M */M) (*/M */P.sxxx)), 1),\n",
       " (((*/J */M */C) */C), 1),\n",
       " ((*/J */M */C), 1),\n",
       " (((*/M */J) */M */C), 1),\n",
       " ((*/J */M (*/B */C */C)), 1),\n",
       " (((*/M */J) */M (*/B */C */C)), 1),\n",
       " ((*/M (*/M */J)), 1),\n",
       " (((*/M */M) (*/M */J)), 1),\n",
       " ((*/P.sr */C */S), 1),\n",
       " ((*/P.sr (*/M */C) */S), 1),\n",
       " ((*/P.sr */C (*/T */R)), 1),\n",
       " ((*/P.sr (*/M */C) (*/T */R)), 1),\n",
       " ((*/T (*/P.sx */C */S)), 1),\n",
       " (((*/M */T) (*/B.mm */C */C)), 1),\n",
       " (((*/M */M) */T), 1),\n",
       " ((*/J */C (*/P.sc */C */C)), 1),\n",
       " ((*/J (*/P.sx */C */S) */S), 1),\n",
       " ((*/J (*/P.sx */C */S) (*/T */C)), 1),\n",
       " ((*/T (*/J */C */R)), 1),\n",
       " ((*/J */C (*/P.soxxr */C */C */C */R */C)), 1),\n",
       " ((*/J (*/M */C) (*/P.soxxr */C */C */C */R */C)), 1),\n",
       " ((*/P.soxxr */C */C */C */R */C), 1),\n",
       " (((*/M */P.soxxr) */C */C */C */R */C), 1),\n",
       " ((*/P.soxxr */C */C (*/M */C) */R */C), 1),\n",
       " (((*/M */P.soxxr) */C */C (*/M */C) */R */C), 1),\n",
       " ((*/P.soxxr */C */C */C (*/P.ox */C */S) */C), 1),\n",
       " (((*/M */P.soxxr) */C */C */C (*/P.ox */C */S) */C), 1),\n",
       " ((*/P.soxxr */C */C (*/M */C) (*/P.ox */C */S) */C), 1),\n",
       " (((*/M */P.soxxr) */C */C (*/M */C) (*/P.ox */C */S) */C), 1),\n",
       " ((*/M */P.soxxr), 1),\n",
       " ((*/P.ox (*/B.ma */C */C) */S), 1),\n",
       " ((*/P.ox (*/B.ma */C */C) (*/T */C)), 1),\n",
       " (((*/M */T) (*/J */C */C)), 1),\n",
       " ((*/P.sox */C (*/B.mm */C */C) */S), 1),\n",
       " ((*/P.sox (*/M */C) (*/B.mm */C */C) */S), 1),\n",
       " ((*/P.sox */C (*/B.mm */C */C) (*/T */C)), 1),\n",
       " ((*/P.sox (*/M */C) (*/B.mm */C */C) (*/T */C)), 1),\n",
       " ((*/B.mm (*/B.ma */C */C) (*/J */C */R)), 1),\n",
       " ((*/J */C (*/P.x */C)), 1),\n",
       " ((*/J (*/M */C) (*/P.x */C)), 1),\n",
       " ((*/P.x (*/M */C)), 1),\n",
       " ((*/P.sr */C (*/P.sso */C */C */C)), 1),\n",
       " ((*/P.sso */C */C */C), 1),\n",
       " (((*/M */P.sso) */C */C */C), 1),\n",
       " ((*/P.sso (*/M */C) */C */C), 1),\n",
       " (((*/M */P.sso) (*/M */C) */C */C), 1),\n",
       " ((*/P.sso */C */C (*/J */C */C)), 1),\n",
       " (((*/M */P.sso) */C */C (*/J */C */C)), 1),\n",
       " ((*/P.sso (*/M */C) */C (*/J */C */C)), 1),\n",
       " (((*/M */P.sso) (*/M */C) */C (*/J */C */C)), 1),\n",
       " ((*/M */P.sso), 1),\n",
       " ((*/P.sxr (*/M */C) */S */R), 1),\n",
       " ((*/P.sxr (*/M */C) (*/T */C) */R), 1),\n",
       " ((*/P.sxr */C */S (*/P.so */C */C)), 1),\n",
       " ((*/P.sxr (*/M */C) */S (*/P.so */C */C)), 1),\n",
       " ((*/P.sxr */C (*/T */C) (*/P.so */C */C)), 1),\n",
       " ((*/P.sxr (*/M */C) (*/T */C) (*/P.so */C */C)), 1),\n",
       " (((*/M */P.so) (*/M */C) */C), 1),\n",
       " (((*/M */P.so) */C (*/B.ma */C */C)), 1),\n",
       " ((*/P.so (*/M */C) (*/B.ma */C */C)), 1),\n",
       " (((*/M */P.so) (*/M */C) (*/B.ma */C */C)), 1),\n",
       " ((*/P.sr (*/M */C) */C), 1),\n",
       " (((*/M */P.sr) (*/M */C) */C), 1),\n",
       " ((*/P.sr (*/M */C) (*/B.mm */C */C)), 1),\n",
       " (((*/M */P.sr) (*/M */C) (*/B.mm */C */C)), 1),\n",
       " ((*/J (*/P.soxxr */C */C */S */S */R) */C), 1),\n",
       " ((*/J */R (*/B */C */C)), 1),\n",
       " ((*/J (*/P.soxxr */C */C */S */S */R) (*/B */C */C)), 1),\n",
       " ((*/P.soxxr */C */C */S */S */R), 1),\n",
       " ((*/P.soxxr (*/M */C) */C */S */S */R), 1),\n",
       " ((*/P.soxxr */C (*/M */C) */S */S */R), 1),\n",
       " ((*/P.soxxr (*/M */C) (*/M */C) */S */S */R), 1),\n",
       " ((*/P.soxxr */C */C (*/T */C) */S */R), 1),\n",
       " ((*/P.soxxr (*/M */C) */C (*/T */C) */S */R), 1),\n",
       " ((*/P.soxxr */C (*/M */C) (*/T */C) */S */R), 1),\n",
       " ((*/P.soxxr (*/M */C) (*/M */C) (*/T */C) */S */R), 1),\n",
       " ((*/P.soxxr */C */C */S (*/T */C) */R), 1),\n",
       " ((*/P.soxxr (*/M */C) */C */S (*/T */C) */R), 1),\n",
       " ((*/P.soxxr */C (*/M */C) */S (*/T */C) */R), 1),\n",
       " ((*/P.soxxr (*/M */C) (*/M */C) */S (*/T */C) */R), 1),\n",
       " ((*/P.soxxr */C */C (*/T */C) (*/T */C) */R), 1),\n",
       " ((*/P.soxxr (*/M */C) */C (*/T */C) (*/T */C) */R), 1),\n",
       " ((*/P.soxxr */C (*/M */C) (*/T */C) (*/T */C) */R), 1),\n",
       " ((*/P.soxxr (*/M */C) (*/M */C) (*/T */C) (*/T */C) */R), 1),\n",
       " ((*/P.soxxr */C */C */S */S (*/P.sx */C */S)), 1),\n",
       " ((*/P.soxxr (*/M */C) */C */S */S (*/P.sx */C */S)), 1),\n",
       " ((*/P.soxxr */C (*/M */C) */S */S (*/P.sx */C */S)), 1),\n",
       " ((*/P.soxxr (*/M */C) (*/M */C) */S */S (*/P.sx */C */S)), 1),\n",
       " ((*/P.soxxr */C */C (*/T */C) */S (*/P.sx */C */S)), 1),\n",
       " ((*/P.soxxr (*/M */C) */C (*/T */C) */S (*/P.sx */C */S)), 1),\n",
       " ((*/P.soxxr */C (*/M */C) (*/T */C) */S (*/P.sx */C */S)), 1),\n",
       " ((*/P.soxxr (*/M */C) (*/M */C) (*/T */C) */S (*/P.sx */C */S)), 1),\n",
       " ((*/P.soxxr */C */C */S (*/T */C) (*/P.sx */C */S)), 1),\n",
       " ((*/P.soxxr (*/M */C) */C */S (*/T */C) (*/P.sx */C */S)), 1),\n",
       " ((*/P.soxxr */C (*/M */C) */S (*/T */C) (*/P.sx */C */S)), 1),\n",
       " ((*/P.soxxr (*/M */C) (*/M */C) */S (*/T */C) (*/P.sx */C */S)), 1),\n",
       " ((*/P.soxxr */C */C (*/T */C) (*/T */C) (*/P.sx */C */S)), 1),\n",
       " ((*/P.soxxr (*/M */C) */C (*/T */C) (*/T */C) (*/P.sx */C */S)), 1),\n",
       " ((*/P.soxxr */C (*/M */C) (*/T */C) (*/T */C) (*/P.sx */C */S)), 1),\n",
       " ((*/P.soxxr (*/M */C) (*/M */C) (*/T */C) (*/T */C) (*/P.sx */C */S)), 1),\n",
       " (((*/M */B) */C */C), 1),\n",
       " ((*/M */B), 1),\n",
       " (((*/M */M) */B), 1),\n",
       " (((*/M */M) */M), 1),\n",
       " ((*/P.? */R), 1),\n",
       " (((*/M */P.?) */R), 1),\n",
       " ((*/P.? (*/J */R */B)), 1),\n",
       " (((*/M */P.?) (*/J */R */B)), 1),\n",
       " ((*/J */R */B), 1),\n",
       " ((*/J (*/P.so */C */C) */B), 1),\n",
       " ((*/P.so (*/B.ma */C */C) */C), 1),\n",
       " (((*/M */P.so) (*/B.ma */C */C) */C), 1),\n",
       " ((*/P.so (*/B.ma */C */C) (*/M */C)), 1),\n",
       " (((*/M */P.so) (*/B.ma */C */C) (*/M */C)), 1),\n",
       " ((*/P.c (*/B.ma */C */C)), 1),\n",
       " (((*/M */P.c) (*/B.ma */C */C)), 1),\n",
       " ((*/P.oxr */C */S */R), 1),\n",
       " (((*/M */P.oxr) */C */S */R), 1),\n",
       " ((*/P.oxr (*/M */C) */S */R), 1),\n",
       " (((*/M */P.oxr) (*/M */C) */S */R), 1),\n",
       " ((*/P.oxr */C (*/T */C) */R), 1),\n",
       " (((*/M */P.oxr) */C (*/T */C) */R), 1),\n",
       " ((*/P.oxr (*/M */C) (*/T */C) */R), 1),\n",
       " (((*/M */P.oxr) (*/M */C) (*/T */C) */R), 1),\n",
       " ((*/P.oxr */C */S (*/P.sx */C */S)), 1),\n",
       " (((*/M */P.oxr) */C */S (*/P.sx */C */S)), 1),\n",
       " ((*/P.oxr (*/M */C) */S (*/P.sx */C */S)), 1),\n",
       " (((*/M */P.oxr) (*/M */C) */S (*/P.sx */C */S)), 1),\n",
       " ((*/P.oxr */C (*/T */C) (*/P.sx */C */S)), 1),\n",
       " (((*/M */P.oxr) */C (*/T */C) (*/P.sx */C */S)), 1),\n",
       " ((*/P.oxr (*/M */C) (*/T */C) (*/P.sx */C */S)), 1),\n",
       " (((*/M */P.oxr) (*/M */C) (*/T */C) (*/P.sx */C */S)), 1),\n",
       " ((*/M */P.oxr), 1),\n",
       " ((*/P.sxr */C */S */S), 1),\n",
       " ((*/P.sxr (*/M */C) */S */S), 1),\n",
       " ((*/P.sxr */C (*/T */C) */S), 1),\n",
       " ((*/P.sxr (*/M */C) (*/T */C) */S), 1),\n",
       " ((*/P.sxr */C */S (*/T */R)), 1),\n",
       " ((*/P.sxr (*/M */C) */S (*/T */R)), 1),\n",
       " ((*/P.sxr */C (*/T */C) (*/T */R)), 1),\n",
       " ((*/P.sxr (*/M */C) (*/T */C) (*/T */R)), 1),\n",
       " ((*/T (*/P.cx */C */R)), 1),\n",
       " ((*/P.cx */C */R), 1),\n",
       " (((*/M */P.cx) */C */R), 1),\n",
       " ((*/P.cx (*/M */C) */R), 1),\n",
       " (((*/M */P.cx) (*/M */C) */R), 1),\n",
       " ((*/P.cx */C (*/P.o */C)), 1),\n",
       " (((*/M */P.cx) */C (*/P.o */C)), 1),\n",
       " ((*/P.cx (*/M */C) (*/P.o */C)), 1),\n",
       " (((*/M */P.cx) (*/M */C) (*/P.o */C)), 1),\n",
       " ((*/M (*/M */P.cx)), 1),\n",
       " ((*/B.mm (*/J */C */C) (*/J */C */R)), 1),\n",
       " ((*/J (*/M */C) (*/P.oo */C */C)), 1),\n",
       " ((*/P.oo (*/B.ma */C */C) */C), 1),\n",
       " ((*/P.oo */C (*/M */C)), 1),\n",
       " ((*/P.oo (*/B.ma */C */C) (*/M */C)), 1),\n",
       " ((*/J (*/P.sc */C */C) (*/P.so */C */C)), 1),\n",
       " ((*/P.sc (*/M */C) (*/M */C)), 1),\n",
       " ((*/P.so */C (*/J */C */C)), 1),\n",
       " (((*/M */P.so) */C (*/J */C */C)), 1)]"
      ]
     },
     "execution_count": 264,
     "metadata": {},
     "output_type": "execute_result"
    }
   ],
   "source": [
    "pc = PatternCounter()\n",
    "for edge in edges:\n",
    "    pc.count(edge)\n",
    "        \n",
    "patts = pc.patterns.most_common()\n",
    "\n",
    "patts"
   ]
  },
  {
   "cell_type": "code",
   "execution_count": 265,
   "id": "3f0fe251",
   "metadata": {
    "slideshow": {
     "slide_type": "subslide"
    }
   },
   "outputs": [
    {
     "data": {
      "text/plain": [
       "[((*/P.so */C */C), 12),\n",
       " ((*/P.sc */C */C), 10),\n",
       " ((*/P.sx */C */S), 10),\n",
       " ((*/P.sox */C */C */S), 8),\n",
       " ((*/P.scx */C */C */S), 5),\n",
       " ((*/P.sr */C */R), 4),\n",
       " ((*/P.px */C */S), 3),\n",
       " ((*/P.ox */C */S), 3),\n",
       " ((*/P.sr */C */C), 2),\n",
       " ((*/P.soxx */C */C */S */S), 2)]"
      ]
     },
     "execution_count": 265,
     "metadata": {},
     "output_type": "execute_result"
    }
   ],
   "source": [
    "pc = PatternCounter(expansions={'(*/P * * ...)'})\n",
    "for edge in edges:\n",
    "    if hg.is_primary(edge):\n",
    "        pc.count(edge)\n",
    "        \n",
    "patts = pc.patterns.most_common()\n",
    "\n",
    "patts[:10]"
   ]
  },
  {
   "cell_type": "code",
   "execution_count": 266,
   "id": "b2f36ee0",
   "metadata": {
    "slideshow": {
     "slide_type": "fragment"
    }
   },
   "outputs": [
    {
     "name": "stdout",
     "output_type": "stream",
     "text": [
      "REL: is, ARG1: tokyo, ARG2: ˈtoʊkioʊ japanese toːkʲoː officially tokyo metropolis \n",
      " TEXT: Tokyo (ˈtoʊkioʊ, Japanese: toːkʲoː), officially Tokyo Metropolis, is the capital city of Japan and one of its 47 prefectures.\n",
      "\n",
      "REL: is, ARG1: the greater tokyo area, ARG2: the most populous metropolitan area in the world \n",
      " TEXT: The Greater Tokyo Area is the most populous metropolitan area in the world.\n",
      "\n",
      "REL: is, ARG1: it, ARG2: the seat of the emperor of japan and the japanese government \n",
      " TEXT: It is the seat of the Emperor of Japan and the Japanese government.\n",
      "\n",
      "REL: when made, ARG1: shogun tokugawa ieyasu, ARG2: the city his headquarters \n",
      " TEXT: Formerly known as Edo, it has been the de facto seat of government since 1603 when Shogun Tokugawa Ieyasu made the city his headquarters.\n",
      "\n",
      "REL: moved, ARG1: emperor meiji, ARG2: his seat \n",
      " TEXT: It officially became the capital after Emperor Meiji moved his seat to the city from the old capital of Kyoto in 1868; at that time Edo was renamed Tokyo.\n",
      "\n",
      "REL: officially became, ARG1: it, ARG2: the capital \n",
      " TEXT: It officially became the capital after Emperor Meiji moved his seat to the city from the old capital of Kyoto in 1868; at that time Edo was renamed Tokyo.\n",
      "\n",
      "REL: was, ARG1: that, ARG2: the city of tokyo \n",
      " TEXT: The Tokyo metropolitan government administers the 23 Special Wards of Tokyo (each governed as an individual city), which cover the area that was the City of Tokyo before it merged and became the metropolitan prefecture in 1943.\n",
      "\n",
      "REL: cover, ARG1: which, ARG2: the area \n",
      " TEXT: The Tokyo metropolitan government administers the 23 Special Wards of Tokyo (each governed as an individual city), which cover the area that was the City of Tokyo before it merged and became the metropolitan prefecture in 1943.\n",
      "\n",
      "REL: also administers, ARG1: the metropolitan government, ARG2: 39 municipalities \n",
      " TEXT: The metropolitan government also administers 39 municipalities in the western part of the prefecture and the two outlying island chains.\n",
      "\n",
      "REL: is, ARG1: the population of the special wards, ARG2: over 9 million people \n",
      " TEXT: The population of the special wards is over 9 million people, with the total population of the prefecture exceeding 13 million.\n",
      "\n",
      "REL: is, ARG1: the prefecture, ARG2: part of 's the world most populous metropolitan area \n",
      " TEXT: The prefecture is part of the world's most populous metropolitan area with upwards of 37.8 million people and the world's largest urban agglomeration economy.\n",
      "\n",
      "REL: reprimanded, ARG1: finnish police, ARG2: a man \n",
      " TEXT: Finnish police reprimanded a man for traveling in a car boot to hide his meeting with Prime Minister Juha Sipila during a government crisis last summer, saying this was breach of the traffic code.\n",
      "\n",
      "REL: was, ARG1: this, ARG2: breach of the traffic code \n",
      " TEXT: Finnish police reprimanded a man for traveling in a car boot to hide his meeting with Prime Minister Juha Sipila during a government crisis last summer, saying this was breach of the traffic code.\n",
      "\n",
      "REL: was, ARG1: the traveler, ARG2: state secretary samuli virtanen \n",
      " TEXT: A police statement did not name the man in the boot, but in effect indicated the traveler was State Secretary Samuli Virtanen, who is also the deputy to Foreign Minister Timo Soini.\n",
      "\n",
      "REL: also is, ARG1: who, ARG2: the deputy to foreign minister timo soini \n",
      " TEXT: A police statement did not name the man in the boot, but in effect indicated the traveler was State Secretary Samuli Virtanen, who is also the deputy to Foreign Minister Timo Soini.\n",
      "\n",
      "REL: did not name, ARG1: a police statement, ARG2: the man \n",
      " TEXT: A police statement did not name the man in the boot, but in effect indicated the traveler was State Secretary Samuli Virtanen, who is also the deputy to Foreign Minister Timo Soini.\n",
      "\n",
      "REL: had elected, ARG1: virtanen ’s co - ruling finns party, ARG2: anti - immigration hardliners \n",
      " TEXT: The meeting took place in June, a day after Virtanen’s co-ruling Finns party had elected anti-immigration hardliners as its new leaders.\n",
      "\n",
      "REL: took, ARG1: the meeting, ARG2: place \n",
      " TEXT: The meeting took place in June, a day after Virtanen’s co-ruling Finns party had elected anti-immigration hardliners as its new leaders.\n",
      "\n",
      "REL: would form, ARG1: they, ARG2: a new group \n",
      " TEXT: The government was close to collapse until a group of politicians, including Virtanen and Soini, in the following week walked out of the Finns party and announced they would form a new group.\n",
      "\n",
      "REL: kept, ARG1: the new blue reform group, ARG2: its cabinet seat \n",
      " TEXT: The Finns party was thrown out of the government and the new “Blue Reform” group kept its cabinet seat.\n",
      "\n",
      "REL: climbed, ARG1: that, ARG2: virtanen \n",
      " TEXT: Virtanen has not commented on the case, but lawmaker Tiina Elovaara from Blue Reform said in a blog that Virtanen climbed into the boot to keep the meeting secret at a critical moment.\n",
      "\n",
      "REL: to keep, ARG1: the meeting, ARG2: secret \n",
      " TEXT: Virtanen has not commented on the case, but lawmaker Tiina Elovaara from Blue Reform said in a blog that Virtanen climbed into the boot to keep the meeting secret at a critical moment.\n",
      "\n",
      "REL: was, ARG1: the risk of leakage about the parliamentarians ’ transition, ARG2: too big \n",
      " TEXT: “He avoided media attention when the situation was most serious, and the risk of leakage about the parliamentarians’ transition was too big,” Elovaara said.\n",
      "\n",
      "REL: was, ARG1: when, ARG2: the situation \n",
      " TEXT: “He avoided media attention when the situation was most serious, and the risk of leakage about the parliamentarians’ transition was too big,” Elovaara said.\n",
      "\n",
      "REL: avoided, ARG1: he, ARG2: media attention \n",
      " TEXT: “He avoided media attention when the situation was most serious, and the risk of leakage about the parliamentarians’ transition was too big,” Elovaara said.\n",
      "\n",
      "REL: broadcasts, ARG1: gonzales, ARG2: a web series pop music masterclass on wdr \n",
      " TEXT: Gonzales broadcasts a web series Pop Music Masterclass on WDR, the documentary Classical Connections on BBC Radio 1, The History of Music on Arte, and Music's Cool with Chilly Gonzales on Apple Music's Beats1 radio show.\n",
      "\n",
      "REL: has written, ARG1: he, ARG2: several and newspaper magazine opinion pieces \n",
      " TEXT: He has written several newspaper and magazine opinion pieces in The Guardian, Vice, Billboard, and others.\n",
      "\n",
      "REL: is, ARG1: he, ARG2: the younger brother of the prolific film composer christophe beck \n",
      " TEXT: He is the younger brother of the prolific film composer Christophe Beck.\n",
      "\n",
      "REL: are, ARG1: his parents, ARG2: ashkenazi jews \n",
      " TEXT: His parents are Ashkenazi Jews who had to flee from Hungary during World War II.\n",
      "\n",
      "REL: teaching, ARG1: himself, ARG2: piano \n",
      " TEXT: Gonzales began teaching himself piano at age three, when his older brother Chris began taking lessons.\n",
      "\n",
      "REL: began, ARG1: he, ARG2: both his composing career \n",
      " TEXT: He was classically trained as a pianist at McGill University, where he began both his composing career, co-authoring several musicals with his brother, and his performing career, as a jazz virtuoso.\n",
      "\n",
      "REL: computes, ARG1: which, ARG2: parameters \n",
      " TEXT: The EM iteration alternates between performing an expectation (E) step, which creates a function for the expectation of the log-likelihood evaluated using the current estimate for the parameters, and a maximization (M) step, which computes parameters maximizing the expected log-likelihood found on the E step.\n",
      "\n",
      "REL: creates, ARG1: which, ARG2: a function for the expectation the log likelihood of evaluated using the current estimate for the parameters \n",
      " TEXT: The EM iteration alternates between performing an expectation (E) step, which creates a function for the expectation of the log-likelihood evaluated using the current estimate for the parameters, and a maximization (M) step, which computes parameters maximizing the expected log-likelihood found on the E step.\n",
      "\n",
      "REL: had proposed, ARG1: been, ARG2: many times \n",
      " TEXT: They pointed out that the method had been \"proposed many times in special circumstances\" by earlier authors.\n",
      "\n",
      "REL: generalized, ARG1: the dempster laird in rubin paper 1977, ARG2: the method \n",
      " TEXT: The Dempster–Laird–Rubin paper in 1977 generalized the method and sketched a convergence analysis for a wider class of problems.\n",
      "\n",
      "REL: received, ARG1: the innovative dempster laird rubin paper in the journal of the royal statistical society, ARG2: an enthusiastic discussion at the royal statistical society meeting with sundberg \n",
      " TEXT: Regardless of earlier inventions, the innovative Dempster–Laird–Rubin paper in the Journal of the Royal Statistical Society received an enthusiastic discussion at the Royal Statistical Society meeting with Sundberg calling the paper \"brilliant\".\n",
      "\n",
      "REL: calling, ARG1: the paper, ARG2: brilliant \n",
      " TEXT: Regardless of earlier inventions, the innovative Dempster–Laird–Rubin paper in the Journal of the Royal Statistical Society received an enthusiastic discussion at the Royal Statistical Society meeting with Sundberg calling the paper \"brilliant\".\n",
      "\n",
      "REL: established, ARG1: the dempster laird rubin paper, ARG2: the em method \n",
      " TEXT: The Dempster–Laird–Rubin paper established the EM method as an important tool of statistical analysis.\n",
      "\n",
      "REL: will be, ARG1: that, ARG2: stronger than in 2017 \n",
      " TEXT: The idea is that all is pretty much on track for growth that will be stronger than in 2017.\n",
      "\n",
      "REL: generally got, ARG1: forecasters, ARG2: it \n",
      " TEXT: Part of this may come from the fact that forecasters generally got it wrong last year, underclubbing this year’s economic performance, particularly for the euro zone and Japan.\n",
      "\n",
      "REL: now reckons, ARG1: it, ARG2: them \n",
      " TEXT: It now reckons them at 3.6 percent and 2.2 percent.\n",
      "\n",
      "REL: respectively growing, ARG1: and the euro zone, ARG2: japan \n",
      " TEXT: It had the euro zone and Japan growing 1.5 percent and 0.6 percent, respectively.\n",
      "\n",
      "REL: now has, ARG1: it, ARG2: them \n",
      " TEXT: It now has them at 2.1 percent and 1.5 percent.\n",
      "\n",
      "REL: is reaching, ARG1: faster growth, ARG2: roughly two thirds of the world ’s population \n",
      " TEXT: “Faster growth is reaching roughly two-thirds of the world’s population,” the IMF said in a December blog post.\n",
      "\n",
      "REL: has made, ARG1: this performance, ARG2: some economists optimistic \n",
      " TEXT: This performance has made some economists optimistic.\n",
      "\n",
      "REL: do have, ARG1: goldilock ’s bears, ARG2: a habit \n",
      " TEXT: But Goldilock’s bears do have a habit of showing up.\n",
      "\n",
      "REL: triggering, ARG1: tit for tat, ARG2: growth stifling trade barriers \n",
      " TEXT: The second relates to renewed U.S. protectionism or anger over Chinese exports triggering tit-for-tat, growth-stifling trade barriers.\n",
      "\n",
      "REL: is, ARG1: the third, ARG2: about sudden market losses \n",
      " TEXT: The third is about sudden market losses that dry up spending and demand.\n",
      "\n",
      "REL: up dry, ARG1: that, ARG2: spending and demand \n",
      " TEXT: The third is about sudden market losses that dry up spending and demand.\n",
      "\n"
     ]
    }
   ],
   "source": [
    "for t in pattern_to_triplet('(REL/P ARG1/C ARG2/C ...)', edges) :\n",
    "    print(f\"REL: {t['REL'].label()}, ARG1: {t['ARG1'].label()}, ARG2: {t['ARG2'].label()} \\n TEXT: {t['text']}\")\n",
    "    print()"
   ]
  },
  {
   "cell_type": "markdown",
   "id": "00f369aa",
   "metadata": {
    "slideshow": {
     "slide_type": "subslide"
    }
   },
   "source": [
    "![](patterns.PNG)"
   ]
  },
  {
   "cell_type": "markdown",
   "id": "a65cd4da",
   "metadata": {
    "slideshow": {
     "slide_type": "subslide"
    }
   },
   "source": [
    "![](results.PNG)"
   ]
  },
  {
   "cell_type": "markdown",
   "id": "f751d5e0",
   "metadata": {
    "slideshow": {
     "slide_type": "subslide"
    }
   },
   "source": [
    "- The method of defining patterns in HITL is similar to the main idea of POTATO\n",
    "\n",
    "- \"_Another possible improvement is in the domain of software and user-interface development, allowing for\n",
    "less technical users to provide inferences and feedback –\n",
    "a user can be invited to directly select parts of a sentence\n",
    "and assigning them to meanings (e.g. “actor”, “claim”,\n",
    "“aggressor”, etc.), without having to see or interact with\n",
    "hypergraphic notation. Such refinements are beyond the\n",
    "scope of this work, but it is our hope to lay the foundations for these and other possibilities._\""
   ]
  }
 ],
 "metadata": {
  "celltoolbar": "Slideshow",
  "kernelspec": {
   "display_name": "base",
   "language": "python",
   "name": "base"
  },
  "language_info": {
   "codemirror_mode": {
    "name": "ipython",
    "version": 3
   },
   "file_extension": ".py",
   "mimetype": "text/x-python",
   "name": "python",
   "nbconvert_exporter": "python",
   "pygments_lexer": "ipython3",
   "version": "3.9.5"
  }
 },
 "nbformat": 4,
 "nbformat_minor": 5
}
